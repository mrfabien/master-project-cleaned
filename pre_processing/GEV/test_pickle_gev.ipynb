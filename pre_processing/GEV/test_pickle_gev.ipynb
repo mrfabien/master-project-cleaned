{
 "cells": [
  {
   "cell_type": "code",
   "execution_count": 2,
   "metadata": {},
   "outputs": [],
   "source": [
    "import pickle\n",
    "\n",
    "def save_to_pickle(data,savepath):\n",
    "\n",
    "    with open(savepath, 'wb') as handle:\n",
    "\n",
    "        pickle.dump(data, handle, protocol=pickle.HIGHEST_PROTOCOL)\n",
    "\n",
    "    return None\n",
    " \n",
    "def depickle(savepath):\n",
    "\n",
    "    with open(savepath, 'rb') as handle:\n",
    "\n",
    "        b = pickle.load(handle)\n",
    "\n",
    "    return b\n",
    " \n",
    "import pandas as pd\n",
    "\n",
    "import os\n",
    "import sys\n",
    "import pandas as pd\n",
    "import matplotlib.pyplot as plt\n",
    "import xarray as xr\n",
    "import numpy as np\n",
    "from scipy.stats import genextreme\n",
    "from scipy.stats import weibull_min\n",
    "import matplotlib.pyplot as plt\n",
    "\n",
    "operating_system = 'mac'\n",
    "\n",
    "if operating_system == 'win':\n",
    "    os.chdir('C:/Users/fabau/OneDrive/Documents/GitHub/master-project-cleaned/')\n",
    "elif operating_system == 'curnagl':\n",
    "    os.chdir('/work/FAC/FGSE/IDYST/tbeucler/default/fabien/repos/cleaner_version/')\n",
    "else:\n",
    "    os.chdir('/Users/fabienaugsburger/Documents/GitHub/master-project-cleaned/')\n",
    "\n",
    "# Add the path to the custom library\n",
    "custom_library_path = os.path.abspath('util/processing/')\n",
    "sys.path.append(custom_library_path)\n",
    "\n",
    "import time_series\n",
    "\n",
    "custom_library_path_2 = os.path.abspath('util/gev')\n",
    "sys.path.append(custom_library_path_2)\n",
    "\n",
    "import data_processing#, vgam_loader"
   ]
  },
  {
   "cell_type": "code",
   "execution_count": 2,
   "metadata": {},
   "outputs": [
    {
     "ename": "KeyError",
     "evalue": "'cluster_n'",
     "output_type": "error",
     "traceback": [
      "\u001b[0;31m---------------------------------------------------------------------------\u001b[0m",
      "\u001b[0;31mKeyError\u001b[0m                                  Traceback (most recent call last)",
      "File \u001b[0;32m~/anaconda3/envs/master/lib/python3.11/site-packages/xarray/core/dataset.py:1393\u001b[0m, in \u001b[0;36mDataset._construct_dataarray\u001b[0;34m(self, name)\u001b[0m\n\u001b[1;32m   1392\u001b[0m \u001b[38;5;28;01mtry\u001b[39;00m:\n\u001b[0;32m-> 1393\u001b[0m     variable \u001b[38;5;241m=\u001b[39m \u001b[38;5;28mself\u001b[39m\u001b[38;5;241m.\u001b[39m_variables[name]\n\u001b[1;32m   1394\u001b[0m \u001b[38;5;28;01mexcept\u001b[39;00m \u001b[38;5;167;01mKeyError\u001b[39;00m:\n",
      "\u001b[0;31mKeyError\u001b[0m: 'cluster_n'",
      "\nDuring handling of the above exception, another exception occurred:\n",
      "\u001b[0;31mKeyError\u001b[0m                                  Traceback (most recent call last)",
      "Cell \u001b[0;32mIn[2], line 21\u001b[0m\n\u001b[1;32m     13\u001b[0m \u001b[38;5;66;03m# Process each dataset\u001b[39;00m\n\u001b[1;32m     14\u001b[0m \u001b[38;5;28;01mfor\u001b[39;00m data \u001b[38;5;129;01min\u001b[39;00m datasets:\n\u001b[1;32m     15\u001b[0m     \u001b[38;5;66;03m#data_name = data['name'].iloc[0]\u001b[39;00m\n\u001b[1;32m     16\u001b[0m     \u001b[38;5;66;03m#print(\"Data:\", data_name)\u001b[39;00m\n\u001b[0;32m   (...)\u001b[0m\n\u001b[1;32m     19\u001b[0m     \n\u001b[1;32m     20\u001b[0m     \u001b[38;5;66;03m# Group data by cluster and filter for the current cluster\u001b[39;00m\n\u001b[0;32m---> 21\u001b[0m     grouped_data \u001b[38;5;241m=\u001b[39m data\u001b[38;5;241m.\u001b[39mgroupby(\u001b[38;5;124m'\u001b[39m\u001b[38;5;124mcluster_n\u001b[39m\u001b[38;5;124m'\u001b[39m)\n\u001b[1;32m     22\u001b[0m     cluster_data \u001b[38;5;241m=\u001b[39m grouped_data\u001b[38;5;241m.\u001b[39mget_group(cluster_number)[\u001b[38;5;124m'\u001b[39m\u001b[38;5;124mwind_speed_None\u001b[39m\u001b[38;5;124m'\u001b[39m]\n\u001b[1;32m     23\u001b[0m     vivian_subset \u001b[38;5;241m=\u001b[39m vivian[vivian[\u001b[38;5;124m'\u001b[39m\u001b[38;5;124mcluster_n\u001b[39m\u001b[38;5;124m'\u001b[39m] \u001b[38;5;241m==\u001b[39m cluster_number][\u001b[38;5;124m'\u001b[39m\u001b[38;5;124mwind_speed_None\u001b[39m\u001b[38;5;124m'\u001b[39m]\n",
      "File \u001b[0;32m~/anaconda3/envs/master/lib/python3.11/site-packages/xarray/core/dataset.py:9100\u001b[0m, in \u001b[0;36mDataset.groupby\u001b[0;34m(self, group, squeeze, restore_coord_dims)\u001b[0m\n\u001b[1;32m   9092\u001b[0m \u001b[38;5;28;01mfrom\u001b[39;00m \u001b[38;5;21;01mxarray\u001b[39;00m\u001b[38;5;21;01m.\u001b[39;00m\u001b[38;5;21;01mcore\u001b[39;00m\u001b[38;5;21;01m.\u001b[39;00m\u001b[38;5;21;01mgroupby\u001b[39;00m \u001b[38;5;28;01mimport\u001b[39;00m (\n\u001b[1;32m   9093\u001b[0m     DatasetGroupBy,\n\u001b[1;32m   9094\u001b[0m     ResolvedUniqueGrouper,\n\u001b[1;32m   9095\u001b[0m     UniqueGrouper,\n\u001b[1;32m   9096\u001b[0m     _validate_groupby_squeeze,\n\u001b[1;32m   9097\u001b[0m )\n\u001b[1;32m   9099\u001b[0m _validate_groupby_squeeze(squeeze)\n\u001b[0;32m-> 9100\u001b[0m rgrouper \u001b[38;5;241m=\u001b[39m ResolvedUniqueGrouper(UniqueGrouper(), group, \u001b[38;5;28mself\u001b[39m)\n\u001b[1;32m   9102\u001b[0m \u001b[38;5;28;01mreturn\u001b[39;00m DatasetGroupBy(\n\u001b[1;32m   9103\u001b[0m     \u001b[38;5;28mself\u001b[39m,\n\u001b[1;32m   9104\u001b[0m     (rgrouper,),\n\u001b[1;32m   9105\u001b[0m     squeeze\u001b[38;5;241m=\u001b[39msqueeze,\n\u001b[1;32m   9106\u001b[0m     restore_coord_dims\u001b[38;5;241m=\u001b[39mrestore_coord_dims,\n\u001b[1;32m   9107\u001b[0m )\n",
      "File \u001b[0;32m<string>:6\u001b[0m, in \u001b[0;36m__init__\u001b[0;34m(self, grouper, group, obj)\u001b[0m\n",
      "File \u001b[0;32m~/anaconda3/envs/master/lib/python3.11/site-packages/xarray/core/groupby.py:339\u001b[0m, in \u001b[0;36mResolvedGrouper.__post_init__\u001b[0;34m(self)\u001b[0m\n\u001b[1;32m    338\u001b[0m \u001b[38;5;28;01mdef\u001b[39;00m \u001b[38;5;21m__post_init__\u001b[39m(\u001b[38;5;28mself\u001b[39m) \u001b[38;5;241m-\u001b[39m\u001b[38;5;241m>\u001b[39m \u001b[38;5;28;01mNone\u001b[39;00m:\n\u001b[0;32m--> 339\u001b[0m     \u001b[38;5;28mself\u001b[39m\u001b[38;5;241m.\u001b[39mgroup: T_Group \u001b[38;5;241m=\u001b[39m _resolve_group(\u001b[38;5;28mself\u001b[39m\u001b[38;5;241m.\u001b[39mobj, \u001b[38;5;28mself\u001b[39m\u001b[38;5;241m.\u001b[39mgroup)\n\u001b[1;32m    341\u001b[0m     (\n\u001b[1;32m    342\u001b[0m         \u001b[38;5;28mself\u001b[39m\u001b[38;5;241m.\u001b[39mgroup1d,\n\u001b[1;32m    343\u001b[0m         \u001b[38;5;28mself\u001b[39m\u001b[38;5;241m.\u001b[39mstacked_obj,\n\u001b[1;32m    344\u001b[0m         \u001b[38;5;28mself\u001b[39m\u001b[38;5;241m.\u001b[39mstacked_dim,\n\u001b[1;32m    345\u001b[0m         \u001b[38;5;28mself\u001b[39m\u001b[38;5;241m.\u001b[39minserted_dims,\n\u001b[1;32m    346\u001b[0m     ) \u001b[38;5;241m=\u001b[39m _ensure_1d(group\u001b[38;5;241m=\u001b[39m\u001b[38;5;28mself\u001b[39m\u001b[38;5;241m.\u001b[39mgroup, obj\u001b[38;5;241m=\u001b[39m\u001b[38;5;28mself\u001b[39m\u001b[38;5;241m.\u001b[39mobj)\n",
      "File \u001b[0;32m~/anaconda3/envs/master/lib/python3.11/site-packages/xarray/core/groupby.py:638\u001b[0m, in \u001b[0;36m_resolve_group\u001b[0;34m(obj, group)\u001b[0m\n\u001b[1;32m    632\u001b[0m \u001b[38;5;28;01mif\u001b[39;00m \u001b[38;5;129;01mnot\u001b[39;00m hashable(group):\n\u001b[1;32m    633\u001b[0m     \u001b[38;5;28;01mraise\u001b[39;00m \u001b[38;5;167;01mTypeError\u001b[39;00m(\n\u001b[1;32m    634\u001b[0m         \u001b[38;5;124m\"\u001b[39m\u001b[38;5;124m`group` must be an xarray.DataArray or the \u001b[39m\u001b[38;5;124m\"\u001b[39m\n\u001b[1;32m    635\u001b[0m         \u001b[38;5;124m\"\u001b[39m\u001b[38;5;124mname of an xarray variable or dimension. \u001b[39m\u001b[38;5;124m\"\u001b[39m\n\u001b[1;32m    636\u001b[0m         \u001b[38;5;124mf\u001b[39m\u001b[38;5;124m\"\u001b[39m\u001b[38;5;124mReceived \u001b[39m\u001b[38;5;132;01m{\u001b[39;00mgroup\u001b[38;5;132;01m!r}\u001b[39;00m\u001b[38;5;124m instead.\u001b[39m\u001b[38;5;124m\"\u001b[39m\n\u001b[1;32m    637\u001b[0m     )\n\u001b[0;32m--> 638\u001b[0m group \u001b[38;5;241m=\u001b[39m obj[group]\n\u001b[1;32m    639\u001b[0m \u001b[38;5;28;01mif\u001b[39;00m group\u001b[38;5;241m.\u001b[39mname \u001b[38;5;129;01mnot\u001b[39;00m \u001b[38;5;129;01min\u001b[39;00m obj\u001b[38;5;241m.\u001b[39m_indexes \u001b[38;5;129;01mand\u001b[39;00m group\u001b[38;5;241m.\u001b[39mname \u001b[38;5;129;01min\u001b[39;00m obj\u001b[38;5;241m.\u001b[39mdims:\n\u001b[1;32m    640\u001b[0m     \u001b[38;5;66;03m# DummyGroups should not appear on groupby results\u001b[39;00m\n\u001b[1;32m    641\u001b[0m     newgroup \u001b[38;5;241m=\u001b[39m _DummyGroup(obj, group\u001b[38;5;241m.\u001b[39mname, group\u001b[38;5;241m.\u001b[39mcoords)\n",
      "File \u001b[0;32m~/anaconda3/envs/master/lib/python3.11/site-packages/xarray/core/dataset.py:1484\u001b[0m, in \u001b[0;36mDataset.__getitem__\u001b[0;34m(self, key)\u001b[0m\n\u001b[1;32m   1482\u001b[0m     \u001b[38;5;28;01mreturn\u001b[39;00m \u001b[38;5;28mself\u001b[39m\u001b[38;5;241m.\u001b[39misel(\u001b[38;5;241m*\u001b[39m\u001b[38;5;241m*\u001b[39mkey)\n\u001b[1;32m   1483\u001b[0m \u001b[38;5;28;01mif\u001b[39;00m utils\u001b[38;5;241m.\u001b[39mhashable(key):\n\u001b[0;32m-> 1484\u001b[0m     \u001b[38;5;28;01mreturn\u001b[39;00m \u001b[38;5;28mself\u001b[39m\u001b[38;5;241m.\u001b[39m_construct_dataarray(key)\n\u001b[1;32m   1485\u001b[0m \u001b[38;5;28;01mif\u001b[39;00m utils\u001b[38;5;241m.\u001b[39miterable_of_hashable(key):\n\u001b[1;32m   1486\u001b[0m     \u001b[38;5;28;01mreturn\u001b[39;00m \u001b[38;5;28mself\u001b[39m\u001b[38;5;241m.\u001b[39m_copy_listed(key)\n",
      "File \u001b[0;32m~/anaconda3/envs/master/lib/python3.11/site-packages/xarray/core/dataset.py:1395\u001b[0m, in \u001b[0;36mDataset._construct_dataarray\u001b[0;34m(self, name)\u001b[0m\n\u001b[1;32m   1393\u001b[0m     variable \u001b[38;5;241m=\u001b[39m \u001b[38;5;28mself\u001b[39m\u001b[38;5;241m.\u001b[39m_variables[name]\n\u001b[1;32m   1394\u001b[0m \u001b[38;5;28;01mexcept\u001b[39;00m \u001b[38;5;167;01mKeyError\u001b[39;00m:\n\u001b[0;32m-> 1395\u001b[0m     _, name, variable \u001b[38;5;241m=\u001b[39m _get_virtual_variable(\u001b[38;5;28mself\u001b[39m\u001b[38;5;241m.\u001b[39m_variables, name, \u001b[38;5;28mself\u001b[39m\u001b[38;5;241m.\u001b[39mdims)\n\u001b[1;32m   1397\u001b[0m needed_dims \u001b[38;5;241m=\u001b[39m \u001b[38;5;28mset\u001b[39m(variable\u001b[38;5;241m.\u001b[39mdims)\n\u001b[1;32m   1399\u001b[0m coords: \u001b[38;5;28mdict\u001b[39m[Hashable, Variable] \u001b[38;5;241m=\u001b[39m {}\n",
      "File \u001b[0;32m~/anaconda3/envs/master/lib/python3.11/site-packages/xarray/core/dataset.py:196\u001b[0m, in \u001b[0;36m_get_virtual_variable\u001b[0;34m(variables, key, dim_sizes)\u001b[0m\n\u001b[1;32m    194\u001b[0m split_key \u001b[38;5;241m=\u001b[39m key\u001b[38;5;241m.\u001b[39msplit(\u001b[38;5;124m\"\u001b[39m\u001b[38;5;124m.\u001b[39m\u001b[38;5;124m\"\u001b[39m, \u001b[38;5;241m1\u001b[39m)\n\u001b[1;32m    195\u001b[0m \u001b[38;5;28;01mif\u001b[39;00m \u001b[38;5;28mlen\u001b[39m(split_key) \u001b[38;5;241m!=\u001b[39m \u001b[38;5;241m2\u001b[39m:\n\u001b[0;32m--> 196\u001b[0m     \u001b[38;5;28;01mraise\u001b[39;00m \u001b[38;5;167;01mKeyError\u001b[39;00m(key)\n\u001b[1;32m    198\u001b[0m ref_name, var_name \u001b[38;5;241m=\u001b[39m split_key\n\u001b[1;32m    199\u001b[0m ref_var \u001b[38;5;241m=\u001b[39m variables[ref_name]\n",
      "\u001b[0;31mKeyError\u001b[0m: 'cluster_n'"
     ]
    }
   ],
   "source": [
    "# open pickle file\n",
    "\n",
    "datasets = depickle('data/climatology/daily_with_storms/climatology_europe_2_2.pkl')\n",
    "mus_daily_with_storms = []\n",
    "sigmas_daily_with_storms = []\n",
    "xi_daily_with_storms = []\n",
    "\n",
    "cluster_data_original = pd.read_csv('pre_processing/cluster/number_of_clusters/cleaned_cluster_15_v1.csv')\n",
    "vivian = data_processing.process_daily_climatology('data/time_series_rasters_storms_15h/5_VIVIAN.tif', cluster_data_original, 'VIVIAN')\n",
    "\n",
    "cluster_number = 3\n",
    "\n",
    "# Process each dataset\n",
    "for data in datasets:\n",
    "    #data_name = data['name'].iloc[0]\n",
    "    #print(\"Data:\", data_name)\n",
    "\n",
    "    #print('Cluster number:', cluster_number)\n",
    "    \n",
    "    # Group data by cluster and filter for the current cluster\n",
    "    grouped_data = data.groupby('cluster_n')\n",
    "    cluster_data = grouped_data.get_group(cluster_number)['wind_speed_None']\n",
    "    vivian_subset = vivian[vivian['cluster_n'] == cluster_number]['wind_speed_None']\n",
    "\n",
    "    # Fit the GEV distribution\n",
    "    shape, loc, scale = weibull_min.fit(cluster_data, method=\"MLE\")\n",
    "\n",
    "    mus_daily_with_storms.append(loc)\n",
    "    sigmas_daily_with_storms.append(scale)\n",
    "    xi_daily_with_storms.append(shape)"
   ]
  },
  {
   "cell_type": "code",
   "execution_count": 30,
   "metadata": {},
   "outputs": [
    {
     "name": "stdout",
     "output_type": "stream",
     "text": [
      "An error occurred: invalid path or file: <xarray.DataArray 'i10fg' (latitude: 153, longitude: 209)> Size: 256kB\n",
      "array([[nan, nan, nan, ..., nan, nan, nan],\n",
      "       [nan, nan, nan, ..., nan, nan, nan],\n",
      "       [nan, nan, nan, ..., nan, nan, nan],\n",
      "       ...,\n",
      "       [nan, nan, nan, ..., nan, nan, nan],\n",
      "       [nan, nan, nan, ..., nan, nan, nan],\n",
      "       [nan, nan, nan, ..., nan, nan, nan]])\n",
      "Coordinates:\n",
      "  * longitude    (longitude) float64 2kB -12.0 -11.75 -11.5 ... 39.5 39.75 40.0\n",
      "  * latitude     (latitude) float64 1kB 71.0 70.75 70.5 ... 33.5 33.25 33.0\n",
      "    band         int64 8B 1\n",
      "    spatial_ref  int64 8B ...\n"
     ]
    },
    {
     "ename": "ValueError",
     "evalue": "GCPTransformer requires sequence of GroundControlPoint",
     "output_type": "error",
     "traceback": [
      "\u001b[0;31m---------------------------------------------------------------------------\u001b[0m",
      "\u001b[0;31mValueError\u001b[0m                                Traceback (most recent call last)",
      "Cell \u001b[0;32mIn[30], line 22\u001b[0m\n\u001b[1;32m     19\u001b[0m     \u001b[38;5;28;01mcontinue\u001b[39;00m\n\u001b[1;32m     21\u001b[0m \u001b[38;5;66;03m# Get the coordinates for this pixel\u001b[39;00m\n\u001b[0;32m---> 22\u001b[0m x, y \u001b[38;5;241m=\u001b[39m \u001b[43mrasterio\u001b[49m\u001b[38;5;241;43m.\u001b[39;49m\u001b[43mtransform\u001b[49m\u001b[38;5;241;43m.\u001b[39;49m\u001b[43mxy\u001b[49m\u001b[43m(\u001b[49m\u001b[43mtransform\u001b[49m\u001b[43m,\u001b[49m\u001b[43m \u001b[49m\u001b[43mrow\u001b[49m\u001b[43m,\u001b[49m\u001b[43m \u001b[49m\u001b[43mcol\u001b[49m\u001b[43m,\u001b[49m\u001b[43m \u001b[49m\u001b[43moffset\u001b[49m\u001b[38;5;241;43m=\u001b[39;49m\u001b[38;5;124;43m'\u001b[39;49m\u001b[38;5;124;43mcenter\u001b[39;49m\u001b[38;5;124;43m'\u001b[39;49m\u001b[43m)\u001b[49m\n\u001b[1;32m     24\u001b[0m \u001b[38;5;66;03m# Append the value and coordinates\u001b[39;00m\n\u001b[1;32m     25\u001b[0m data_list\u001b[38;5;241m.\u001b[39mappend({\u001b[38;5;124mf\u001b[39m\u001b[38;5;124m'\u001b[39m\u001b[38;5;124mwind_speed_\u001b[39m\u001b[38;5;124m'\u001b[39m: value, \u001b[38;5;124m'\u001b[39m\u001b[38;5;124mlongitude\u001b[39m\u001b[38;5;124m'\u001b[39m: x, \u001b[38;5;124m'\u001b[39m\u001b[38;5;124mlatitude\u001b[39m\u001b[38;5;124m'\u001b[39m: y})\n",
      "File \u001b[0;32m/work/FAC/FGSE/IDYST/tbeucler/default/fabien/conda_env/lib/python3.10/site-packages/rasterio/transform.py:250\u001b[0m, in \u001b[0;36mxy\u001b[0;34m(transform, rows, cols, zs, offset, **rpc_options)\u001b[0m\n\u001b[1;32m    215\u001b[0m \u001b[38;5;250m\u001b[39m\u001b[38;5;124;03m\"\"\"Get the x and y coordinates of pixels at `rows` and `cols`.\u001b[39;00m\n\u001b[1;32m    216\u001b[0m \n\u001b[1;32m    217\u001b[0m \u001b[38;5;124;03mThe pixel's center is returned by default, but a corner can be returned\u001b[39;00m\n\u001b[0;32m   (...)\u001b[0m\n\u001b[1;32m    247\u001b[0m \n\u001b[1;32m    248\u001b[0m \u001b[38;5;124;03m\"\"\"\u001b[39;00m\n\u001b[1;32m    249\u001b[0m transformer_cls \u001b[38;5;241m=\u001b[39m get_transformer(transform, \u001b[38;5;241m*\u001b[39m\u001b[38;5;241m*\u001b[39mrpc_options)\n\u001b[0;32m--> 250\u001b[0m \u001b[38;5;28;01mwith\u001b[39;00m \u001b[43mtransformer_cls\u001b[49m\u001b[43m(\u001b[49m\u001b[43m)\u001b[49m \u001b[38;5;28;01mas\u001b[39;00m transformer:\n\u001b[1;32m    251\u001b[0m     \u001b[38;5;28;01mreturn\u001b[39;00m transformer\u001b[38;5;241m.\u001b[39mxy(rows, cols, zs\u001b[38;5;241m=\u001b[39mzs, offset\u001b[38;5;241m=\u001b[39moffset)\n",
      "File \u001b[0;32m/work/FAC/FGSE/IDYST/tbeucler/default/fabien/conda_env/lib/python3.10/site-packages/rasterio/transform.py:554\u001b[0m, in \u001b[0;36mGCPTransformer.__init__\u001b[0;34m(self, gcps, tps)\u001b[0m\n\u001b[1;32m    552\u001b[0m \u001b[38;5;28;01mdef\u001b[39;00m \u001b[38;5;21m__init__\u001b[39m(\u001b[38;5;28mself\u001b[39m, gcps, tps\u001b[38;5;241m=\u001b[39m\u001b[38;5;28;01mFalse\u001b[39;00m):\n\u001b[1;32m    553\u001b[0m     \u001b[38;5;28;01mif\u001b[39;00m \u001b[38;5;28mlen\u001b[39m(gcps) \u001b[38;5;129;01mand\u001b[39;00m \u001b[38;5;129;01mnot\u001b[39;00m \u001b[38;5;28misinstance\u001b[39m(gcps[\u001b[38;5;241m0\u001b[39m], GroundControlPoint):\n\u001b[0;32m--> 554\u001b[0m         \u001b[38;5;28;01mraise\u001b[39;00m \u001b[38;5;167;01mValueError\u001b[39;00m(\u001b[38;5;124m\"\u001b[39m\u001b[38;5;124mGCPTransformer requires sequence of GroundControlPoint\u001b[39m\u001b[38;5;124m\"\u001b[39m)\n\u001b[1;32m    555\u001b[0m     \u001b[38;5;28msuper\u001b[39m()\u001b[38;5;241m.\u001b[39m\u001b[38;5;21m__init__\u001b[39m(gcps, tps)\n",
      "\u001b[0;31mValueError\u001b[0m: GCPTransformer requires sequence of GroundControlPoint"
     ]
    }
   ],
   "source": [
    "#datasets[0]['i10fg'].plot()\n",
    "test_dataframe = time_series.tif_to_dataframe(datasets[0]['i10fg'].squeeze())\n",
    "peutetre = pd.DataFrame(datasets[0]['i10fg'].squeeze())\n",
    "import rasterio\n",
    "\n",
    "# Create a list to store data\n",
    "data_list = []\n",
    "transform = '0.25'\n",
    "nodata_value = np.nan\n",
    "\n",
    "# Loop through each pixel\n",
    "for row in range(peutetre.shape[0]):\n",
    "    for col in range(peutetre.shape[1]):\n",
    "        # Get the wind speed value\n",
    "        value = peutetre.iloc[row, col]\n",
    "        \n",
    "        # Skip if it's a no-data value\n",
    "        if value == nodata_value or value is None:\n",
    "            continue\n",
    "        \n",
    "        # Get the coordinates for this pixel\n",
    "        x, y = rasterio.transform.xy(transform, row, col, offset='center')\n",
    "        \n",
    "        # Append the value and coordinates\n",
    "        data_list.append({f'wind_speed_': value, 'longitude': x, 'latitude': y})\n",
    "\n",
    "# Convert the list into a DataFrame\n",
    "df = pd.DataFrame(data_list)"
   ]
  },
  {
   "cell_type": "code",
   "execution_count": 3,
   "metadata": {},
   "outputs": [
    {
     "name": "stdout",
     "output_type": "stream",
     "text": [
      "       longitude  latitude  i10fg\n",
      "0          -12.0     71.00    NaN\n",
      "1          -12.0     70.75    NaN\n",
      "2          -12.0     70.50    NaN\n",
      "3          -12.0     70.25    NaN\n",
      "4          -12.0     70.00    NaN\n",
      "...          ...       ...    ...\n",
      "31972       40.0     34.00    NaN\n",
      "31973       40.0     33.75    NaN\n",
      "31974       40.0     33.50    NaN\n",
      "31975       40.0     33.25    NaN\n",
      "31976       40.0     33.00    NaN\n",
      "\n",
      "[31977 rows x 3 columns]\n",
      "An error occurred while processing the tif file.\n",
      "Taking the file_path as a dataframe\n"
     ]
    },
    {
     "name": "stderr",
     "output_type": "stream",
     "text": [
      "/Users/fabienaugsburger/Documents/GitHub/master-project-cleaned/util/gev/data_processing.py:44: SettingWithCopyWarning: \n",
      "A value is trying to be set on a copy of a slice from a DataFrame.\n",
      "Try using .loc[row_indexer,col_indexer] = value instead\n",
      "\n",
      "See the caveats in the documentation: https://pandas.pydata.org/pandas-docs/stable/user_guide/indexing.html#returning-a-view-versus-a-copy\n",
      "  climatology_df.loc[idx, 'cluster_n'] = cluster_value.values[0]\n",
      "/Users/fabienaugsburger/Documents/GitHub/master-project-cleaned/util/gev/data_processing.py:47: SettingWithCopyWarning: \n",
      "A value is trying to be set on a copy of a slice from a DataFrame.\n",
      "Try using .loc[row_indexer,col_indexer] = value instead\n",
      "\n",
      "See the caveats in the documentation: https://pandas.pydata.org/pandas-docs/stable/user_guide/indexing.html#returning-a-view-versus-a-copy\n",
      "  climatology_df['name'] = name\n",
      "/Users/fabienaugsburger/Documents/GitHub/master-project-cleaned/util/gev/data_processing.py:44: SettingWithCopyWarning: \n",
      "A value is trying to be set on a copy of a slice from a DataFrame.\n",
      "Try using .loc[row_indexer,col_indexer] = value instead\n",
      "\n",
      "See the caveats in the documentation: https://pandas.pydata.org/pandas-docs/stable/user_guide/indexing.html#returning-a-view-versus-a-copy\n",
      "  climatology_df.loc[idx, 'cluster_n'] = cluster_value.values[0]\n"
     ]
    },
    {
     "name": "stdout",
     "output_type": "stream",
     "text": [
      "An error occurred while processing the tif file.\n",
      "Taking the file_path as a dataframe\n"
     ]
    },
    {
     "name": "stderr",
     "output_type": "stream",
     "text": [
      "/Users/fabienaugsburger/Documents/GitHub/master-project-cleaned/util/gev/data_processing.py:47: SettingWithCopyWarning: \n",
      "A value is trying to be set on a copy of a slice from a DataFrame.\n",
      "Try using .loc[row_indexer,col_indexer] = value instead\n",
      "\n",
      "See the caveats in the documentation: https://pandas.pydata.org/pandas-docs/stable/user_guide/indexing.html#returning-a-view-versus-a-copy\n",
      "  climatology_df['name'] = name\n",
      "/Users/fabienaugsburger/Documents/GitHub/master-project-cleaned/util/gev/data_processing.py:44: SettingWithCopyWarning: \n",
      "A value is trying to be set on a copy of a slice from a DataFrame.\n",
      "Try using .loc[row_indexer,col_indexer] = value instead\n",
      "\n",
      "See the caveats in the documentation: https://pandas.pydata.org/pandas-docs/stable/user_guide/indexing.html#returning-a-view-versus-a-copy\n",
      "  climatology_df.loc[idx, 'cluster_n'] = cluster_value.values[0]\n"
     ]
    },
    {
     "name": "stdout",
     "output_type": "stream",
     "text": [
      "An error occurred while processing the tif file.\n",
      "Taking the file_path as a dataframe\n"
     ]
    },
    {
     "name": "stderr",
     "output_type": "stream",
     "text": [
      "/Users/fabienaugsburger/Documents/GitHub/master-project-cleaned/util/gev/data_processing.py:47: SettingWithCopyWarning: \n",
      "A value is trying to be set on a copy of a slice from a DataFrame.\n",
      "Try using .loc[row_indexer,col_indexer] = value instead\n",
      "\n",
      "See the caveats in the documentation: https://pandas.pydata.org/pandas-docs/stable/user_guide/indexing.html#returning-a-view-versus-a-copy\n",
      "  climatology_df['name'] = name\n",
      "/Users/fabienaugsburger/Documents/GitHub/master-project-cleaned/util/gev/data_processing.py:44: SettingWithCopyWarning: \n",
      "A value is trying to be set on a copy of a slice from a DataFrame.\n",
      "Try using .loc[row_indexer,col_indexer] = value instead\n",
      "\n",
      "See the caveats in the documentation: https://pandas.pydata.org/pandas-docs/stable/user_guide/indexing.html#returning-a-view-versus-a-copy\n",
      "  climatology_df.loc[idx, 'cluster_n'] = cluster_value.values[0]\n"
     ]
    },
    {
     "name": "stdout",
     "output_type": "stream",
     "text": [
      "An error occurred while processing the tif file.\n",
      "Taking the file_path as a dataframe\n"
     ]
    },
    {
     "name": "stderr",
     "output_type": "stream",
     "text": [
      "/Users/fabienaugsburger/Documents/GitHub/master-project-cleaned/util/gev/data_processing.py:47: SettingWithCopyWarning: \n",
      "A value is trying to be set on a copy of a slice from a DataFrame.\n",
      "Try using .loc[row_indexer,col_indexer] = value instead\n",
      "\n",
      "See the caveats in the documentation: https://pandas.pydata.org/pandas-docs/stable/user_guide/indexing.html#returning-a-view-versus-a-copy\n",
      "  climatology_df['name'] = name\n",
      "/Users/fabienaugsburger/Documents/GitHub/master-project-cleaned/util/gev/data_processing.py:44: SettingWithCopyWarning: \n",
      "A value is trying to be set on a copy of a slice from a DataFrame.\n",
      "Try using .loc[row_indexer,col_indexer] = value instead\n",
      "\n",
      "See the caveats in the documentation: https://pandas.pydata.org/pandas-docs/stable/user_guide/indexing.html#returning-a-view-versus-a-copy\n",
      "  climatology_df.loc[idx, 'cluster_n'] = cluster_value.values[0]\n"
     ]
    },
    {
     "name": "stdout",
     "output_type": "stream",
     "text": [
      "An error occurred while processing the tif file.\n",
      "Taking the file_path as a dataframe\n"
     ]
    },
    {
     "name": "stderr",
     "output_type": "stream",
     "text": [
      "/Users/fabienaugsburger/Documents/GitHub/master-project-cleaned/util/gev/data_processing.py:47: SettingWithCopyWarning: \n",
      "A value is trying to be set on a copy of a slice from a DataFrame.\n",
      "Try using .loc[row_indexer,col_indexer] = value instead\n",
      "\n",
      "See the caveats in the documentation: https://pandas.pydata.org/pandas-docs/stable/user_guide/indexing.html#returning-a-view-versus-a-copy\n",
      "  climatology_df['name'] = name\n",
      "/Users/fabienaugsburger/Documents/GitHub/master-project-cleaned/util/gev/data_processing.py:44: SettingWithCopyWarning: \n",
      "A value is trying to be set on a copy of a slice from a DataFrame.\n",
      "Try using .loc[row_indexer,col_indexer] = value instead\n",
      "\n",
      "See the caveats in the documentation: https://pandas.pydata.org/pandas-docs/stable/user_guide/indexing.html#returning-a-view-versus-a-copy\n",
      "  climatology_df.loc[idx, 'cluster_n'] = cluster_value.values[0]\n"
     ]
    },
    {
     "name": "stdout",
     "output_type": "stream",
     "text": [
      "An error occurred while processing the tif file.\n",
      "Taking the file_path as a dataframe\n"
     ]
    },
    {
     "name": "stderr",
     "output_type": "stream",
     "text": [
      "/Users/fabienaugsburger/Documents/GitHub/master-project-cleaned/util/gev/data_processing.py:47: SettingWithCopyWarning: \n",
      "A value is trying to be set on a copy of a slice from a DataFrame.\n",
      "Try using .loc[row_indexer,col_indexer] = value instead\n",
      "\n",
      "See the caveats in the documentation: https://pandas.pydata.org/pandas-docs/stable/user_guide/indexing.html#returning-a-view-versus-a-copy\n",
      "  climatology_df['name'] = name\n",
      "/Users/fabienaugsburger/Documents/GitHub/master-project-cleaned/util/gev/data_processing.py:44: SettingWithCopyWarning: \n",
      "A value is trying to be set on a copy of a slice from a DataFrame.\n",
      "Try using .loc[row_indexer,col_indexer] = value instead\n",
      "\n",
      "See the caveats in the documentation: https://pandas.pydata.org/pandas-docs/stable/user_guide/indexing.html#returning-a-view-versus-a-copy\n",
      "  climatology_df.loc[idx, 'cluster_n'] = cluster_value.values[0]\n"
     ]
    },
    {
     "name": "stdout",
     "output_type": "stream",
     "text": [
      "An error occurred while processing the tif file.\n",
      "Taking the file_path as a dataframe\n"
     ]
    },
    {
     "name": "stderr",
     "output_type": "stream",
     "text": [
      "/Users/fabienaugsburger/Documents/GitHub/master-project-cleaned/util/gev/data_processing.py:47: SettingWithCopyWarning: \n",
      "A value is trying to be set on a copy of a slice from a DataFrame.\n",
      "Try using .loc[row_indexer,col_indexer] = value instead\n",
      "\n",
      "See the caveats in the documentation: https://pandas.pydata.org/pandas-docs/stable/user_guide/indexing.html#returning-a-view-versus-a-copy\n",
      "  climatology_df['name'] = name\n",
      "/Users/fabienaugsburger/Documents/GitHub/master-project-cleaned/util/gev/data_processing.py:44: SettingWithCopyWarning: \n",
      "A value is trying to be set on a copy of a slice from a DataFrame.\n",
      "Try using .loc[row_indexer,col_indexer] = value instead\n",
      "\n",
      "See the caveats in the documentation: https://pandas.pydata.org/pandas-docs/stable/user_guide/indexing.html#returning-a-view-versus-a-copy\n",
      "  climatology_df.loc[idx, 'cluster_n'] = cluster_value.values[0]\n"
     ]
    },
    {
     "name": "stdout",
     "output_type": "stream",
     "text": [
      "An error occurred while processing the tif file.\n",
      "Taking the file_path as a dataframe\n"
     ]
    },
    {
     "name": "stderr",
     "output_type": "stream",
     "text": [
      "/Users/fabienaugsburger/Documents/GitHub/master-project-cleaned/util/gev/data_processing.py:47: SettingWithCopyWarning: \n",
      "A value is trying to be set on a copy of a slice from a DataFrame.\n",
      "Try using .loc[row_indexer,col_indexer] = value instead\n",
      "\n",
      "See the caveats in the documentation: https://pandas.pydata.org/pandas-docs/stable/user_guide/indexing.html#returning-a-view-versus-a-copy\n",
      "  climatology_df['name'] = name\n",
      "/Users/fabienaugsburger/Documents/GitHub/master-project-cleaned/util/gev/data_processing.py:44: SettingWithCopyWarning: \n",
      "A value is trying to be set on a copy of a slice from a DataFrame.\n",
      "Try using .loc[row_indexer,col_indexer] = value instead\n",
      "\n",
      "See the caveats in the documentation: https://pandas.pydata.org/pandas-docs/stable/user_guide/indexing.html#returning-a-view-versus-a-copy\n",
      "  climatology_df.loc[idx, 'cluster_n'] = cluster_value.values[0]\n"
     ]
    },
    {
     "name": "stdout",
     "output_type": "stream",
     "text": [
      "An error occurred while processing the tif file.\n",
      "Taking the file_path as a dataframe\n"
     ]
    },
    {
     "name": "stderr",
     "output_type": "stream",
     "text": [
      "/Users/fabienaugsburger/Documents/GitHub/master-project-cleaned/util/gev/data_processing.py:47: SettingWithCopyWarning: \n",
      "A value is trying to be set on a copy of a slice from a DataFrame.\n",
      "Try using .loc[row_indexer,col_indexer] = value instead\n",
      "\n",
      "See the caveats in the documentation: https://pandas.pydata.org/pandas-docs/stable/user_guide/indexing.html#returning-a-view-versus-a-copy\n",
      "  climatology_df['name'] = name\n",
      "/Users/fabienaugsburger/Documents/GitHub/master-project-cleaned/util/gev/data_processing.py:44: SettingWithCopyWarning: \n",
      "A value is trying to be set on a copy of a slice from a DataFrame.\n",
      "Try using .loc[row_indexer,col_indexer] = value instead\n",
      "\n",
      "See the caveats in the documentation: https://pandas.pydata.org/pandas-docs/stable/user_guide/indexing.html#returning-a-view-versus-a-copy\n",
      "  climatology_df.loc[idx, 'cluster_n'] = cluster_value.values[0]\n"
     ]
    },
    {
     "name": "stdout",
     "output_type": "stream",
     "text": [
      "An error occurred while processing the tif file.\n",
      "Taking the file_path as a dataframe\n"
     ]
    },
    {
     "name": "stderr",
     "output_type": "stream",
     "text": [
      "/Users/fabienaugsburger/Documents/GitHub/master-project-cleaned/util/gev/data_processing.py:47: SettingWithCopyWarning: \n",
      "A value is trying to be set on a copy of a slice from a DataFrame.\n",
      "Try using .loc[row_indexer,col_indexer] = value instead\n",
      "\n",
      "See the caveats in the documentation: https://pandas.pydata.org/pandas-docs/stable/user_guide/indexing.html#returning-a-view-versus-a-copy\n",
      "  climatology_df['name'] = name\n",
      "/Users/fabienaugsburger/Documents/GitHub/master-project-cleaned/util/gev/data_processing.py:44: SettingWithCopyWarning: \n",
      "A value is trying to be set on a copy of a slice from a DataFrame.\n",
      "Try using .loc[row_indexer,col_indexer] = value instead\n",
      "\n",
      "See the caveats in the documentation: https://pandas.pydata.org/pandas-docs/stable/user_guide/indexing.html#returning-a-view-versus-a-copy\n",
      "  climatology_df.loc[idx, 'cluster_n'] = cluster_value.values[0]\n"
     ]
    },
    {
     "name": "stdout",
     "output_type": "stream",
     "text": [
      "An error occurred while processing the tif file.\n",
      "Taking the file_path as a dataframe\n"
     ]
    },
    {
     "name": "stderr",
     "output_type": "stream",
     "text": [
      "/Users/fabienaugsburger/Documents/GitHub/master-project-cleaned/util/gev/data_processing.py:47: SettingWithCopyWarning: \n",
      "A value is trying to be set on a copy of a slice from a DataFrame.\n",
      "Try using .loc[row_indexer,col_indexer] = value instead\n",
      "\n",
      "See the caveats in the documentation: https://pandas.pydata.org/pandas-docs/stable/user_guide/indexing.html#returning-a-view-versus-a-copy\n",
      "  climatology_df['name'] = name\n",
      "/Users/fabienaugsburger/Documents/GitHub/master-project-cleaned/util/gev/data_processing.py:44: SettingWithCopyWarning: \n",
      "A value is trying to be set on a copy of a slice from a DataFrame.\n",
      "Try using .loc[row_indexer,col_indexer] = value instead\n",
      "\n",
      "See the caveats in the documentation: https://pandas.pydata.org/pandas-docs/stable/user_guide/indexing.html#returning-a-view-versus-a-copy\n",
      "  climatology_df.loc[idx, 'cluster_n'] = cluster_value.values[0]\n"
     ]
    },
    {
     "name": "stdout",
     "output_type": "stream",
     "text": [
      "An error occurred while processing the tif file.\n",
      "Taking the file_path as a dataframe\n"
     ]
    },
    {
     "name": "stderr",
     "output_type": "stream",
     "text": [
      "/Users/fabienaugsburger/Documents/GitHub/master-project-cleaned/util/gev/data_processing.py:47: SettingWithCopyWarning: \n",
      "A value is trying to be set on a copy of a slice from a DataFrame.\n",
      "Try using .loc[row_indexer,col_indexer] = value instead\n",
      "\n",
      "See the caveats in the documentation: https://pandas.pydata.org/pandas-docs/stable/user_guide/indexing.html#returning-a-view-versus-a-copy\n",
      "  climatology_df['name'] = name\n",
      "/Users/fabienaugsburger/Documents/GitHub/master-project-cleaned/util/gev/data_processing.py:44: SettingWithCopyWarning: \n",
      "A value is trying to be set on a copy of a slice from a DataFrame.\n",
      "Try using .loc[row_indexer,col_indexer] = value instead\n",
      "\n",
      "See the caveats in the documentation: https://pandas.pydata.org/pandas-docs/stable/user_guide/indexing.html#returning-a-view-versus-a-copy\n",
      "  climatology_df.loc[idx, 'cluster_n'] = cluster_value.values[0]\n"
     ]
    },
    {
     "name": "stdout",
     "output_type": "stream",
     "text": [
      "An error occurred while processing the tif file.\n",
      "Taking the file_path as a dataframe\n"
     ]
    },
    {
     "name": "stderr",
     "output_type": "stream",
     "text": [
      "/Users/fabienaugsburger/Documents/GitHub/master-project-cleaned/util/gev/data_processing.py:47: SettingWithCopyWarning: \n",
      "A value is trying to be set on a copy of a slice from a DataFrame.\n",
      "Try using .loc[row_indexer,col_indexer] = value instead\n",
      "\n",
      "See the caveats in the documentation: https://pandas.pydata.org/pandas-docs/stable/user_guide/indexing.html#returning-a-view-versus-a-copy\n",
      "  climatology_df['name'] = name\n",
      "/Users/fabienaugsburger/Documents/GitHub/master-project-cleaned/util/gev/data_processing.py:44: SettingWithCopyWarning: \n",
      "A value is trying to be set on a copy of a slice from a DataFrame.\n",
      "Try using .loc[row_indexer,col_indexer] = value instead\n",
      "\n",
      "See the caveats in the documentation: https://pandas.pydata.org/pandas-docs/stable/user_guide/indexing.html#returning-a-view-versus-a-copy\n",
      "  climatology_df.loc[idx, 'cluster_n'] = cluster_value.values[0]\n"
     ]
    },
    {
     "name": "stdout",
     "output_type": "stream",
     "text": [
      "An error occurred while processing the tif file.\n",
      "Taking the file_path as a dataframe\n"
     ]
    },
    {
     "name": "stderr",
     "output_type": "stream",
     "text": [
      "/Users/fabienaugsburger/Documents/GitHub/master-project-cleaned/util/gev/data_processing.py:47: SettingWithCopyWarning: \n",
      "A value is trying to be set on a copy of a slice from a DataFrame.\n",
      "Try using .loc[row_indexer,col_indexer] = value instead\n",
      "\n",
      "See the caveats in the documentation: https://pandas.pydata.org/pandas-docs/stable/user_guide/indexing.html#returning-a-view-versus-a-copy\n",
      "  climatology_df['name'] = name\n",
      "/Users/fabienaugsburger/Documents/GitHub/master-project-cleaned/util/gev/data_processing.py:44: SettingWithCopyWarning: \n",
      "A value is trying to be set on a copy of a slice from a DataFrame.\n",
      "Try using .loc[row_indexer,col_indexer] = value instead\n",
      "\n",
      "See the caveats in the documentation: https://pandas.pydata.org/pandas-docs/stable/user_guide/indexing.html#returning-a-view-versus-a-copy\n",
      "  climatology_df.loc[idx, 'cluster_n'] = cluster_value.values[0]\n"
     ]
    },
    {
     "name": "stdout",
     "output_type": "stream",
     "text": [
      "An error occurred while processing the tif file.\n",
      "Taking the file_path as a dataframe\n"
     ]
    },
    {
     "name": "stderr",
     "output_type": "stream",
     "text": [
      "/Users/fabienaugsburger/Documents/GitHub/master-project-cleaned/util/gev/data_processing.py:47: SettingWithCopyWarning: \n",
      "A value is trying to be set on a copy of a slice from a DataFrame.\n",
      "Try using .loc[row_indexer,col_indexer] = value instead\n",
      "\n",
      "See the caveats in the documentation: https://pandas.pydata.org/pandas-docs/stable/user_guide/indexing.html#returning-a-view-versus-a-copy\n",
      "  climatology_df['name'] = name\n",
      "/Users/fabienaugsburger/Documents/GitHub/master-project-cleaned/util/gev/data_processing.py:44: SettingWithCopyWarning: \n",
      "A value is trying to be set on a copy of a slice from a DataFrame.\n",
      "Try using .loc[row_indexer,col_indexer] = value instead\n",
      "\n",
      "See the caveats in the documentation: https://pandas.pydata.org/pandas-docs/stable/user_guide/indexing.html#returning-a-view-versus-a-copy\n",
      "  climatology_df.loc[idx, 'cluster_n'] = cluster_value.values[0]\n"
     ]
    },
    {
     "name": "stdout",
     "output_type": "stream",
     "text": [
      "An error occurred while processing the tif file.\n",
      "Taking the file_path as a dataframe\n"
     ]
    },
    {
     "name": "stderr",
     "output_type": "stream",
     "text": [
      "/Users/fabienaugsburger/Documents/GitHub/master-project-cleaned/util/gev/data_processing.py:47: SettingWithCopyWarning: \n",
      "A value is trying to be set on a copy of a slice from a DataFrame.\n",
      "Try using .loc[row_indexer,col_indexer] = value instead\n",
      "\n",
      "See the caveats in the documentation: https://pandas.pydata.org/pandas-docs/stable/user_guide/indexing.html#returning-a-view-versus-a-copy\n",
      "  climatology_df['name'] = name\n",
      "/Users/fabienaugsburger/Documents/GitHub/master-project-cleaned/util/gev/data_processing.py:44: SettingWithCopyWarning: \n",
      "A value is trying to be set on a copy of a slice from a DataFrame.\n",
      "Try using .loc[row_indexer,col_indexer] = value instead\n",
      "\n",
      "See the caveats in the documentation: https://pandas.pydata.org/pandas-docs/stable/user_guide/indexing.html#returning-a-view-versus-a-copy\n",
      "  climatology_df.loc[idx, 'cluster_n'] = cluster_value.values[0]\n"
     ]
    },
    {
     "name": "stdout",
     "output_type": "stream",
     "text": [
      "An error occurred while processing the tif file.\n",
      "Taking the file_path as a dataframe\n"
     ]
    },
    {
     "name": "stderr",
     "output_type": "stream",
     "text": [
      "/Users/fabienaugsburger/Documents/GitHub/master-project-cleaned/util/gev/data_processing.py:47: SettingWithCopyWarning: \n",
      "A value is trying to be set on a copy of a slice from a DataFrame.\n",
      "Try using .loc[row_indexer,col_indexer] = value instead\n",
      "\n",
      "See the caveats in the documentation: https://pandas.pydata.org/pandas-docs/stable/user_guide/indexing.html#returning-a-view-versus-a-copy\n",
      "  climatology_df['name'] = name\n",
      "/Users/fabienaugsburger/Documents/GitHub/master-project-cleaned/util/gev/data_processing.py:44: SettingWithCopyWarning: \n",
      "A value is trying to be set on a copy of a slice from a DataFrame.\n",
      "Try using .loc[row_indexer,col_indexer] = value instead\n",
      "\n",
      "See the caveats in the documentation: https://pandas.pydata.org/pandas-docs/stable/user_guide/indexing.html#returning-a-view-versus-a-copy\n",
      "  climatology_df.loc[idx, 'cluster_n'] = cluster_value.values[0]\n"
     ]
    },
    {
     "name": "stdout",
     "output_type": "stream",
     "text": [
      "An error occurred while processing the tif file.\n",
      "Taking the file_path as a dataframe\n"
     ]
    },
    {
     "name": "stderr",
     "output_type": "stream",
     "text": [
      "/Users/fabienaugsburger/Documents/GitHub/master-project-cleaned/util/gev/data_processing.py:47: SettingWithCopyWarning: \n",
      "A value is trying to be set on a copy of a slice from a DataFrame.\n",
      "Try using .loc[row_indexer,col_indexer] = value instead\n",
      "\n",
      "See the caveats in the documentation: https://pandas.pydata.org/pandas-docs/stable/user_guide/indexing.html#returning-a-view-versus-a-copy\n",
      "  climatology_df['name'] = name\n",
      "/Users/fabienaugsburger/Documents/GitHub/master-project-cleaned/util/gev/data_processing.py:44: SettingWithCopyWarning: \n",
      "A value is trying to be set on a copy of a slice from a DataFrame.\n",
      "Try using .loc[row_indexer,col_indexer] = value instead\n",
      "\n",
      "See the caveats in the documentation: https://pandas.pydata.org/pandas-docs/stable/user_guide/indexing.html#returning-a-view-versus-a-copy\n",
      "  climatology_df.loc[idx, 'cluster_n'] = cluster_value.values[0]\n"
     ]
    },
    {
     "name": "stdout",
     "output_type": "stream",
     "text": [
      "An error occurred while processing the tif file.\n",
      "Taking the file_path as a dataframe\n"
     ]
    },
    {
     "name": "stderr",
     "output_type": "stream",
     "text": [
      "/Users/fabienaugsburger/Documents/GitHub/master-project-cleaned/util/gev/data_processing.py:47: SettingWithCopyWarning: \n",
      "A value is trying to be set on a copy of a slice from a DataFrame.\n",
      "Try using .loc[row_indexer,col_indexer] = value instead\n",
      "\n",
      "See the caveats in the documentation: https://pandas.pydata.org/pandas-docs/stable/user_guide/indexing.html#returning-a-view-versus-a-copy\n",
      "  climatology_df['name'] = name\n",
      "/Users/fabienaugsburger/Documents/GitHub/master-project-cleaned/util/gev/data_processing.py:44: SettingWithCopyWarning: \n",
      "A value is trying to be set on a copy of a slice from a DataFrame.\n",
      "Try using .loc[row_indexer,col_indexer] = value instead\n",
      "\n",
      "See the caveats in the documentation: https://pandas.pydata.org/pandas-docs/stable/user_guide/indexing.html#returning-a-view-versus-a-copy\n",
      "  climatology_df.loc[idx, 'cluster_n'] = cluster_value.values[0]\n"
     ]
    },
    {
     "name": "stdout",
     "output_type": "stream",
     "text": [
      "An error occurred while processing the tif file.\n",
      "Taking the file_path as a dataframe\n"
     ]
    },
    {
     "name": "stderr",
     "output_type": "stream",
     "text": [
      "/Users/fabienaugsburger/Documents/GitHub/master-project-cleaned/util/gev/data_processing.py:47: SettingWithCopyWarning: \n",
      "A value is trying to be set on a copy of a slice from a DataFrame.\n",
      "Try using .loc[row_indexer,col_indexer] = value instead\n",
      "\n",
      "See the caveats in the documentation: https://pandas.pydata.org/pandas-docs/stable/user_guide/indexing.html#returning-a-view-versus-a-copy\n",
      "  climatology_df['name'] = name\n",
      "/Users/fabienaugsburger/Documents/GitHub/master-project-cleaned/util/gev/data_processing.py:44: SettingWithCopyWarning: \n",
      "A value is trying to be set on a copy of a slice from a DataFrame.\n",
      "Try using .loc[row_indexer,col_indexer] = value instead\n",
      "\n",
      "See the caveats in the documentation: https://pandas.pydata.org/pandas-docs/stable/user_guide/indexing.html#returning-a-view-versus-a-copy\n",
      "  climatology_df.loc[idx, 'cluster_n'] = cluster_value.values[0]\n"
     ]
    },
    {
     "name": "stdout",
     "output_type": "stream",
     "text": [
      "An error occurred while processing the tif file.\n",
      "Taking the file_path as a dataframe\n"
     ]
    },
    {
     "name": "stderr",
     "output_type": "stream",
     "text": [
      "/Users/fabienaugsburger/Documents/GitHub/master-project-cleaned/util/gev/data_processing.py:47: SettingWithCopyWarning: \n",
      "A value is trying to be set on a copy of a slice from a DataFrame.\n",
      "Try using .loc[row_indexer,col_indexer] = value instead\n",
      "\n",
      "See the caveats in the documentation: https://pandas.pydata.org/pandas-docs/stable/user_guide/indexing.html#returning-a-view-versus-a-copy\n",
      "  climatology_df['name'] = name\n",
      "/Users/fabienaugsburger/Documents/GitHub/master-project-cleaned/util/gev/data_processing.py:44: SettingWithCopyWarning: \n",
      "A value is trying to be set on a copy of a slice from a DataFrame.\n",
      "Try using .loc[row_indexer,col_indexer] = value instead\n",
      "\n",
      "See the caveats in the documentation: https://pandas.pydata.org/pandas-docs/stable/user_guide/indexing.html#returning-a-view-versus-a-copy\n",
      "  climatology_df.loc[idx, 'cluster_n'] = cluster_value.values[0]\n"
     ]
    },
    {
     "name": "stdout",
     "output_type": "stream",
     "text": [
      "An error occurred while processing the tif file.\n",
      "Taking the file_path as a dataframe\n"
     ]
    },
    {
     "name": "stderr",
     "output_type": "stream",
     "text": [
      "/Users/fabienaugsburger/Documents/GitHub/master-project-cleaned/util/gev/data_processing.py:47: SettingWithCopyWarning: \n",
      "A value is trying to be set on a copy of a slice from a DataFrame.\n",
      "Try using .loc[row_indexer,col_indexer] = value instead\n",
      "\n",
      "See the caveats in the documentation: https://pandas.pydata.org/pandas-docs/stable/user_guide/indexing.html#returning-a-view-versus-a-copy\n",
      "  climatology_df['name'] = name\n",
      "/Users/fabienaugsburger/Documents/GitHub/master-project-cleaned/util/gev/data_processing.py:44: SettingWithCopyWarning: \n",
      "A value is trying to be set on a copy of a slice from a DataFrame.\n",
      "Try using .loc[row_indexer,col_indexer] = value instead\n",
      "\n",
      "See the caveats in the documentation: https://pandas.pydata.org/pandas-docs/stable/user_guide/indexing.html#returning-a-view-versus-a-copy\n",
      "  climatology_df.loc[idx, 'cluster_n'] = cluster_value.values[0]\n"
     ]
    },
    {
     "name": "stdout",
     "output_type": "stream",
     "text": [
      "An error occurred while processing the tif file.\n",
      "Taking the file_path as a dataframe\n"
     ]
    },
    {
     "name": "stderr",
     "output_type": "stream",
     "text": [
      "/Users/fabienaugsburger/Documents/GitHub/master-project-cleaned/util/gev/data_processing.py:47: SettingWithCopyWarning: \n",
      "A value is trying to be set on a copy of a slice from a DataFrame.\n",
      "Try using .loc[row_indexer,col_indexer] = value instead\n",
      "\n",
      "See the caveats in the documentation: https://pandas.pydata.org/pandas-docs/stable/user_guide/indexing.html#returning-a-view-versus-a-copy\n",
      "  climatology_df['name'] = name\n",
      "/Users/fabienaugsburger/Documents/GitHub/master-project-cleaned/util/gev/data_processing.py:44: SettingWithCopyWarning: \n",
      "A value is trying to be set on a copy of a slice from a DataFrame.\n",
      "Try using .loc[row_indexer,col_indexer] = value instead\n",
      "\n",
      "See the caveats in the documentation: https://pandas.pydata.org/pandas-docs/stable/user_guide/indexing.html#returning-a-view-versus-a-copy\n",
      "  climatology_df.loc[idx, 'cluster_n'] = cluster_value.values[0]\n"
     ]
    },
    {
     "name": "stdout",
     "output_type": "stream",
     "text": [
      "An error occurred while processing the tif file.\n",
      "Taking the file_path as a dataframe\n"
     ]
    },
    {
     "name": "stderr",
     "output_type": "stream",
     "text": [
      "/Users/fabienaugsburger/Documents/GitHub/master-project-cleaned/util/gev/data_processing.py:47: SettingWithCopyWarning: \n",
      "A value is trying to be set on a copy of a slice from a DataFrame.\n",
      "Try using .loc[row_indexer,col_indexer] = value instead\n",
      "\n",
      "See the caveats in the documentation: https://pandas.pydata.org/pandas-docs/stable/user_guide/indexing.html#returning-a-view-versus-a-copy\n",
      "  climatology_df['name'] = name\n",
      "/Users/fabienaugsburger/Documents/GitHub/master-project-cleaned/util/gev/data_processing.py:44: SettingWithCopyWarning: \n",
      "A value is trying to be set on a copy of a slice from a DataFrame.\n",
      "Try using .loc[row_indexer,col_indexer] = value instead\n",
      "\n",
      "See the caveats in the documentation: https://pandas.pydata.org/pandas-docs/stable/user_guide/indexing.html#returning-a-view-versus-a-copy\n",
      "  climatology_df.loc[idx, 'cluster_n'] = cluster_value.values[0]\n"
     ]
    },
    {
     "name": "stdout",
     "output_type": "stream",
     "text": [
      "An error occurred while processing the tif file.\n",
      "Taking the file_path as a dataframe\n"
     ]
    },
    {
     "name": "stderr",
     "output_type": "stream",
     "text": [
      "/Users/fabienaugsburger/Documents/GitHub/master-project-cleaned/util/gev/data_processing.py:47: SettingWithCopyWarning: \n",
      "A value is trying to be set on a copy of a slice from a DataFrame.\n",
      "Try using .loc[row_indexer,col_indexer] = value instead\n",
      "\n",
      "See the caveats in the documentation: https://pandas.pydata.org/pandas-docs/stable/user_guide/indexing.html#returning-a-view-versus-a-copy\n",
      "  climatology_df['name'] = name\n",
      "/Users/fabienaugsburger/Documents/GitHub/master-project-cleaned/util/gev/data_processing.py:44: SettingWithCopyWarning: \n",
      "A value is trying to be set on a copy of a slice from a DataFrame.\n",
      "Try using .loc[row_indexer,col_indexer] = value instead\n",
      "\n",
      "See the caveats in the documentation: https://pandas.pydata.org/pandas-docs/stable/user_guide/indexing.html#returning-a-view-versus-a-copy\n",
      "  climatology_df.loc[idx, 'cluster_n'] = cluster_value.values[0]\n"
     ]
    },
    {
     "name": "stdout",
     "output_type": "stream",
     "text": [
      "An error occurred while processing the tif file.\n",
      "Taking the file_path as a dataframe\n"
     ]
    },
    {
     "name": "stderr",
     "output_type": "stream",
     "text": [
      "/Users/fabienaugsburger/Documents/GitHub/master-project-cleaned/util/gev/data_processing.py:47: SettingWithCopyWarning: \n",
      "A value is trying to be set on a copy of a slice from a DataFrame.\n",
      "Try using .loc[row_indexer,col_indexer] = value instead\n",
      "\n",
      "See the caveats in the documentation: https://pandas.pydata.org/pandas-docs/stable/user_guide/indexing.html#returning-a-view-versus-a-copy\n",
      "  climatology_df['name'] = name\n",
      "/Users/fabienaugsburger/Documents/GitHub/master-project-cleaned/util/gev/data_processing.py:44: SettingWithCopyWarning: \n",
      "A value is trying to be set on a copy of a slice from a DataFrame.\n",
      "Try using .loc[row_indexer,col_indexer] = value instead\n",
      "\n",
      "See the caveats in the documentation: https://pandas.pydata.org/pandas-docs/stable/user_guide/indexing.html#returning-a-view-versus-a-copy\n",
      "  climatology_df.loc[idx, 'cluster_n'] = cluster_value.values[0]\n"
     ]
    },
    {
     "name": "stdout",
     "output_type": "stream",
     "text": [
      "An error occurred while processing the tif file.\n",
      "Taking the file_path as a dataframe\n"
     ]
    },
    {
     "name": "stderr",
     "output_type": "stream",
     "text": [
      "/Users/fabienaugsburger/Documents/GitHub/master-project-cleaned/util/gev/data_processing.py:47: SettingWithCopyWarning: \n",
      "A value is trying to be set on a copy of a slice from a DataFrame.\n",
      "Try using .loc[row_indexer,col_indexer] = value instead\n",
      "\n",
      "See the caveats in the documentation: https://pandas.pydata.org/pandas-docs/stable/user_guide/indexing.html#returning-a-view-versus-a-copy\n",
      "  climatology_df['name'] = name\n",
      "/Users/fabienaugsburger/Documents/GitHub/master-project-cleaned/util/gev/data_processing.py:44: SettingWithCopyWarning: \n",
      "A value is trying to be set on a copy of a slice from a DataFrame.\n",
      "Try using .loc[row_indexer,col_indexer] = value instead\n",
      "\n",
      "See the caveats in the documentation: https://pandas.pydata.org/pandas-docs/stable/user_guide/indexing.html#returning-a-view-versus-a-copy\n",
      "  climatology_df.loc[idx, 'cluster_n'] = cluster_value.values[0]\n"
     ]
    },
    {
     "name": "stdout",
     "output_type": "stream",
     "text": [
      "An error occurred while processing the tif file.\n",
      "Taking the file_path as a dataframe\n"
     ]
    },
    {
     "name": "stderr",
     "output_type": "stream",
     "text": [
      "/Users/fabienaugsburger/Documents/GitHub/master-project-cleaned/util/gev/data_processing.py:47: SettingWithCopyWarning: \n",
      "A value is trying to be set on a copy of a slice from a DataFrame.\n",
      "Try using .loc[row_indexer,col_indexer] = value instead\n",
      "\n",
      "See the caveats in the documentation: https://pandas.pydata.org/pandas-docs/stable/user_guide/indexing.html#returning-a-view-versus-a-copy\n",
      "  climatology_df['name'] = name\n",
      "/Users/fabienaugsburger/Documents/GitHub/master-project-cleaned/util/gev/data_processing.py:44: SettingWithCopyWarning: \n",
      "A value is trying to be set on a copy of a slice from a DataFrame.\n",
      "Try using .loc[row_indexer,col_indexer] = value instead\n",
      "\n",
      "See the caveats in the documentation: https://pandas.pydata.org/pandas-docs/stable/user_guide/indexing.html#returning-a-view-versus-a-copy\n",
      "  climatology_df.loc[idx, 'cluster_n'] = cluster_value.values[0]\n"
     ]
    },
    {
     "name": "stdout",
     "output_type": "stream",
     "text": [
      "An error occurred while processing the tif file.\n",
      "Taking the file_path as a dataframe\n"
     ]
    },
    {
     "name": "stderr",
     "output_type": "stream",
     "text": [
      "/Users/fabienaugsburger/Documents/GitHub/master-project-cleaned/util/gev/data_processing.py:47: SettingWithCopyWarning: \n",
      "A value is trying to be set on a copy of a slice from a DataFrame.\n",
      "Try using .loc[row_indexer,col_indexer] = value instead\n",
      "\n",
      "See the caveats in the documentation: https://pandas.pydata.org/pandas-docs/stable/user_guide/indexing.html#returning-a-view-versus-a-copy\n",
      "  climatology_df['name'] = name\n",
      "/Users/fabienaugsburger/Documents/GitHub/master-project-cleaned/util/gev/data_processing.py:44: SettingWithCopyWarning: \n",
      "A value is trying to be set on a copy of a slice from a DataFrame.\n",
      "Try using .loc[row_indexer,col_indexer] = value instead\n",
      "\n",
      "See the caveats in the documentation: https://pandas.pydata.org/pandas-docs/stable/user_guide/indexing.html#returning-a-view-versus-a-copy\n",
      "  climatology_df.loc[idx, 'cluster_n'] = cluster_value.values[0]\n"
     ]
    },
    {
     "name": "stdout",
     "output_type": "stream",
     "text": [
      "An error occurred while processing the tif file.\n",
      "Taking the file_path as a dataframe\n"
     ]
    },
    {
     "name": "stderr",
     "output_type": "stream",
     "text": [
      "/Users/fabienaugsburger/Documents/GitHub/master-project-cleaned/util/gev/data_processing.py:47: SettingWithCopyWarning: \n",
      "A value is trying to be set on a copy of a slice from a DataFrame.\n",
      "Try using .loc[row_indexer,col_indexer] = value instead\n",
      "\n",
      "See the caveats in the documentation: https://pandas.pydata.org/pandas-docs/stable/user_guide/indexing.html#returning-a-view-versus-a-copy\n",
      "  climatology_df['name'] = name\n",
      "/Users/fabienaugsburger/Documents/GitHub/master-project-cleaned/util/gev/data_processing.py:44: SettingWithCopyWarning: \n",
      "A value is trying to be set on a copy of a slice from a DataFrame.\n",
      "Try using .loc[row_indexer,col_indexer] = value instead\n",
      "\n",
      "See the caveats in the documentation: https://pandas.pydata.org/pandas-docs/stable/user_guide/indexing.html#returning-a-view-versus-a-copy\n",
      "  climatology_df.loc[idx, 'cluster_n'] = cluster_value.values[0]\n"
     ]
    },
    {
     "name": "stdout",
     "output_type": "stream",
     "text": [
      "An error occurred while processing the tif file.\n",
      "Taking the file_path as a dataframe\n"
     ]
    },
    {
     "name": "stderr",
     "output_type": "stream",
     "text": [
      "/Users/fabienaugsburger/Documents/GitHub/master-project-cleaned/util/gev/data_processing.py:47: SettingWithCopyWarning: \n",
      "A value is trying to be set on a copy of a slice from a DataFrame.\n",
      "Try using .loc[row_indexer,col_indexer] = value instead\n",
      "\n",
      "See the caveats in the documentation: https://pandas.pydata.org/pandas-docs/stable/user_guide/indexing.html#returning-a-view-versus-a-copy\n",
      "  climatology_df['name'] = name\n",
      "/Users/fabienaugsburger/Documents/GitHub/master-project-cleaned/util/gev/data_processing.py:44: SettingWithCopyWarning: \n",
      "A value is trying to be set on a copy of a slice from a DataFrame.\n",
      "Try using .loc[row_indexer,col_indexer] = value instead\n",
      "\n",
      "See the caveats in the documentation: https://pandas.pydata.org/pandas-docs/stable/user_guide/indexing.html#returning-a-view-versus-a-copy\n",
      "  climatology_df.loc[idx, 'cluster_n'] = cluster_value.values[0]\n"
     ]
    },
    {
     "name": "stdout",
     "output_type": "stream",
     "text": [
      "An error occurred while processing the tif file.\n",
      "Taking the file_path as a dataframe\n"
     ]
    },
    {
     "name": "stderr",
     "output_type": "stream",
     "text": [
      "/Users/fabienaugsburger/Documents/GitHub/master-project-cleaned/util/gev/data_processing.py:47: SettingWithCopyWarning: \n",
      "A value is trying to be set on a copy of a slice from a DataFrame.\n",
      "Try using .loc[row_indexer,col_indexer] = value instead\n",
      "\n",
      "See the caveats in the documentation: https://pandas.pydata.org/pandas-docs/stable/user_guide/indexing.html#returning-a-view-versus-a-copy\n",
      "  climatology_df['name'] = name\n",
      "/Users/fabienaugsburger/Documents/GitHub/master-project-cleaned/util/gev/data_processing.py:44: SettingWithCopyWarning: \n",
      "A value is trying to be set on a copy of a slice from a DataFrame.\n",
      "Try using .loc[row_indexer,col_indexer] = value instead\n",
      "\n",
      "See the caveats in the documentation: https://pandas.pydata.org/pandas-docs/stable/user_guide/indexing.html#returning-a-view-versus-a-copy\n",
      "  climatology_df.loc[idx, 'cluster_n'] = cluster_value.values[0]\n"
     ]
    },
    {
     "name": "stdout",
     "output_type": "stream",
     "text": [
      "An error occurred while processing the tif file.\n",
      "Taking the file_path as a dataframe\n"
     ]
    },
    {
     "name": "stderr",
     "output_type": "stream",
     "text": [
      "/Users/fabienaugsburger/Documents/GitHub/master-project-cleaned/util/gev/data_processing.py:47: SettingWithCopyWarning: \n",
      "A value is trying to be set on a copy of a slice from a DataFrame.\n",
      "Try using .loc[row_indexer,col_indexer] = value instead\n",
      "\n",
      "See the caveats in the documentation: https://pandas.pydata.org/pandas-docs/stable/user_guide/indexing.html#returning-a-view-versus-a-copy\n",
      "  climatology_df['name'] = name\n",
      "/Users/fabienaugsburger/Documents/GitHub/master-project-cleaned/util/gev/data_processing.py:44: SettingWithCopyWarning: \n",
      "A value is trying to be set on a copy of a slice from a DataFrame.\n",
      "Try using .loc[row_indexer,col_indexer] = value instead\n",
      "\n",
      "See the caveats in the documentation: https://pandas.pydata.org/pandas-docs/stable/user_guide/indexing.html#returning-a-view-versus-a-copy\n",
      "  climatology_df.loc[idx, 'cluster_n'] = cluster_value.values[0]\n"
     ]
    },
    {
     "name": "stdout",
     "output_type": "stream",
     "text": [
      "An error occurred while processing the tif file.\n",
      "Taking the file_path as a dataframe\n"
     ]
    },
    {
     "name": "stderr",
     "output_type": "stream",
     "text": [
      "/Users/fabienaugsburger/Documents/GitHub/master-project-cleaned/util/gev/data_processing.py:47: SettingWithCopyWarning: \n",
      "A value is trying to be set on a copy of a slice from a DataFrame.\n",
      "Try using .loc[row_indexer,col_indexer] = value instead\n",
      "\n",
      "See the caveats in the documentation: https://pandas.pydata.org/pandas-docs/stable/user_guide/indexing.html#returning-a-view-versus-a-copy\n",
      "  climatology_df['name'] = name\n",
      "/Users/fabienaugsburger/Documents/GitHub/master-project-cleaned/util/gev/data_processing.py:44: SettingWithCopyWarning: \n",
      "A value is trying to be set on a copy of a slice from a DataFrame.\n",
      "Try using .loc[row_indexer,col_indexer] = value instead\n",
      "\n",
      "See the caveats in the documentation: https://pandas.pydata.org/pandas-docs/stable/user_guide/indexing.html#returning-a-view-versus-a-copy\n",
      "  climatology_df.loc[idx, 'cluster_n'] = cluster_value.values[0]\n"
     ]
    },
    {
     "name": "stdout",
     "output_type": "stream",
     "text": [
      "An error occurred while processing the tif file.\n",
      "Taking the file_path as a dataframe\n"
     ]
    },
    {
     "name": "stderr",
     "output_type": "stream",
     "text": [
      "/Users/fabienaugsburger/Documents/GitHub/master-project-cleaned/util/gev/data_processing.py:47: SettingWithCopyWarning: \n",
      "A value is trying to be set on a copy of a slice from a DataFrame.\n",
      "Try using .loc[row_indexer,col_indexer] = value instead\n",
      "\n",
      "See the caveats in the documentation: https://pandas.pydata.org/pandas-docs/stable/user_guide/indexing.html#returning-a-view-versus-a-copy\n",
      "  climatology_df['name'] = name\n",
      "/Users/fabienaugsburger/Documents/GitHub/master-project-cleaned/util/gev/data_processing.py:44: SettingWithCopyWarning: \n",
      "A value is trying to be set on a copy of a slice from a DataFrame.\n",
      "Try using .loc[row_indexer,col_indexer] = value instead\n",
      "\n",
      "See the caveats in the documentation: https://pandas.pydata.org/pandas-docs/stable/user_guide/indexing.html#returning-a-view-versus-a-copy\n",
      "  climatology_df.loc[idx, 'cluster_n'] = cluster_value.values[0]\n"
     ]
    },
    {
     "name": "stdout",
     "output_type": "stream",
     "text": [
      "An error occurred while processing the tif file.\n",
      "Taking the file_path as a dataframe\n"
     ]
    },
    {
     "name": "stderr",
     "output_type": "stream",
     "text": [
      "/Users/fabienaugsburger/Documents/GitHub/master-project-cleaned/util/gev/data_processing.py:47: SettingWithCopyWarning: \n",
      "A value is trying to be set on a copy of a slice from a DataFrame.\n",
      "Try using .loc[row_indexer,col_indexer] = value instead\n",
      "\n",
      "See the caveats in the documentation: https://pandas.pydata.org/pandas-docs/stable/user_guide/indexing.html#returning-a-view-versus-a-copy\n",
      "  climatology_df['name'] = name\n",
      "/Users/fabienaugsburger/Documents/GitHub/master-project-cleaned/util/gev/data_processing.py:44: SettingWithCopyWarning: \n",
      "A value is trying to be set on a copy of a slice from a DataFrame.\n",
      "Try using .loc[row_indexer,col_indexer] = value instead\n",
      "\n",
      "See the caveats in the documentation: https://pandas.pydata.org/pandas-docs/stable/user_guide/indexing.html#returning-a-view-versus-a-copy\n",
      "  climatology_df.loc[idx, 'cluster_n'] = cluster_value.values[0]\n"
     ]
    },
    {
     "name": "stdout",
     "output_type": "stream",
     "text": [
      "An error occurred while processing the tif file.\n",
      "Taking the file_path as a dataframe\n"
     ]
    },
    {
     "name": "stderr",
     "output_type": "stream",
     "text": [
      "/Users/fabienaugsburger/Documents/GitHub/master-project-cleaned/util/gev/data_processing.py:47: SettingWithCopyWarning: \n",
      "A value is trying to be set on a copy of a slice from a DataFrame.\n",
      "Try using .loc[row_indexer,col_indexer] = value instead\n",
      "\n",
      "See the caveats in the documentation: https://pandas.pydata.org/pandas-docs/stable/user_guide/indexing.html#returning-a-view-versus-a-copy\n",
      "  climatology_df['name'] = name\n",
      "/Users/fabienaugsburger/Documents/GitHub/master-project-cleaned/util/gev/data_processing.py:44: SettingWithCopyWarning: \n",
      "A value is trying to be set on a copy of a slice from a DataFrame.\n",
      "Try using .loc[row_indexer,col_indexer] = value instead\n",
      "\n",
      "See the caveats in the documentation: https://pandas.pydata.org/pandas-docs/stable/user_guide/indexing.html#returning-a-view-versus-a-copy\n",
      "  climatology_df.loc[idx, 'cluster_n'] = cluster_value.values[0]\n"
     ]
    },
    {
     "name": "stdout",
     "output_type": "stream",
     "text": [
      "An error occurred while processing the tif file.\n",
      "Taking the file_path as a dataframe\n"
     ]
    },
    {
     "name": "stderr",
     "output_type": "stream",
     "text": [
      "/Users/fabienaugsburger/Documents/GitHub/master-project-cleaned/util/gev/data_processing.py:47: SettingWithCopyWarning: \n",
      "A value is trying to be set on a copy of a slice from a DataFrame.\n",
      "Try using .loc[row_indexer,col_indexer] = value instead\n",
      "\n",
      "See the caveats in the documentation: https://pandas.pydata.org/pandas-docs/stable/user_guide/indexing.html#returning-a-view-versus-a-copy\n",
      "  climatology_df['name'] = name\n",
      "/Users/fabienaugsburger/Documents/GitHub/master-project-cleaned/util/gev/data_processing.py:44: SettingWithCopyWarning: \n",
      "A value is trying to be set on a copy of a slice from a DataFrame.\n",
      "Try using .loc[row_indexer,col_indexer] = value instead\n",
      "\n",
      "See the caveats in the documentation: https://pandas.pydata.org/pandas-docs/stable/user_guide/indexing.html#returning-a-view-versus-a-copy\n",
      "  climatology_df.loc[idx, 'cluster_n'] = cluster_value.values[0]\n"
     ]
    },
    {
     "name": "stdout",
     "output_type": "stream",
     "text": [
      "An error occurred while processing the tif file.\n",
      "Taking the file_path as a dataframe\n"
     ]
    },
    {
     "name": "stderr",
     "output_type": "stream",
     "text": [
      "/Users/fabienaugsburger/Documents/GitHub/master-project-cleaned/util/gev/data_processing.py:47: SettingWithCopyWarning: \n",
      "A value is trying to be set on a copy of a slice from a DataFrame.\n",
      "Try using .loc[row_indexer,col_indexer] = value instead\n",
      "\n",
      "See the caveats in the documentation: https://pandas.pydata.org/pandas-docs/stable/user_guide/indexing.html#returning-a-view-versus-a-copy\n",
      "  climatology_df['name'] = name\n",
      "/Users/fabienaugsburger/Documents/GitHub/master-project-cleaned/util/gev/data_processing.py:44: SettingWithCopyWarning: \n",
      "A value is trying to be set on a copy of a slice from a DataFrame.\n",
      "Try using .loc[row_indexer,col_indexer] = value instead\n",
      "\n",
      "See the caveats in the documentation: https://pandas.pydata.org/pandas-docs/stable/user_guide/indexing.html#returning-a-view-versus-a-copy\n",
      "  climatology_df.loc[idx, 'cluster_n'] = cluster_value.values[0]\n"
     ]
    },
    {
     "name": "stdout",
     "output_type": "stream",
     "text": [
      "An error occurred while processing the tif file.\n",
      "Taking the file_path as a dataframe\n"
     ]
    },
    {
     "name": "stderr",
     "output_type": "stream",
     "text": [
      "/Users/fabienaugsburger/Documents/GitHub/master-project-cleaned/util/gev/data_processing.py:47: SettingWithCopyWarning: \n",
      "A value is trying to be set on a copy of a slice from a DataFrame.\n",
      "Try using .loc[row_indexer,col_indexer] = value instead\n",
      "\n",
      "See the caveats in the documentation: https://pandas.pydata.org/pandas-docs/stable/user_guide/indexing.html#returning-a-view-versus-a-copy\n",
      "  climatology_df['name'] = name\n",
      "/Users/fabienaugsburger/Documents/GitHub/master-project-cleaned/util/gev/data_processing.py:44: SettingWithCopyWarning: \n",
      "A value is trying to be set on a copy of a slice from a DataFrame.\n",
      "Try using .loc[row_indexer,col_indexer] = value instead\n",
      "\n",
      "See the caveats in the documentation: https://pandas.pydata.org/pandas-docs/stable/user_guide/indexing.html#returning-a-view-versus-a-copy\n",
      "  climatology_df.loc[idx, 'cluster_n'] = cluster_value.values[0]\n"
     ]
    },
    {
     "name": "stdout",
     "output_type": "stream",
     "text": [
      "An error occurred while processing the tif file.\n",
      "Taking the file_path as a dataframe\n"
     ]
    },
    {
     "name": "stderr",
     "output_type": "stream",
     "text": [
      "/Users/fabienaugsburger/Documents/GitHub/master-project-cleaned/util/gev/data_processing.py:47: SettingWithCopyWarning: \n",
      "A value is trying to be set on a copy of a slice from a DataFrame.\n",
      "Try using .loc[row_indexer,col_indexer] = value instead\n",
      "\n",
      "See the caveats in the documentation: https://pandas.pydata.org/pandas-docs/stable/user_guide/indexing.html#returning-a-view-versus-a-copy\n",
      "  climatology_df['name'] = name\n",
      "/Users/fabienaugsburger/Documents/GitHub/master-project-cleaned/util/gev/data_processing.py:44: SettingWithCopyWarning: \n",
      "A value is trying to be set on a copy of a slice from a DataFrame.\n",
      "Try using .loc[row_indexer,col_indexer] = value instead\n",
      "\n",
      "See the caveats in the documentation: https://pandas.pydata.org/pandas-docs/stable/user_guide/indexing.html#returning-a-view-versus-a-copy\n",
      "  climatology_df.loc[idx, 'cluster_n'] = cluster_value.values[0]\n"
     ]
    },
    {
     "name": "stdout",
     "output_type": "stream",
     "text": [
      "An error occurred while processing the tif file.\n",
      "Taking the file_path as a dataframe\n"
     ]
    },
    {
     "name": "stderr",
     "output_type": "stream",
     "text": [
      "/Users/fabienaugsburger/Documents/GitHub/master-project-cleaned/util/gev/data_processing.py:47: SettingWithCopyWarning: \n",
      "A value is trying to be set on a copy of a slice from a DataFrame.\n",
      "Try using .loc[row_indexer,col_indexer] = value instead\n",
      "\n",
      "See the caveats in the documentation: https://pandas.pydata.org/pandas-docs/stable/user_guide/indexing.html#returning-a-view-versus-a-copy\n",
      "  climatology_df['name'] = name\n",
      "/Users/fabienaugsburger/Documents/GitHub/master-project-cleaned/util/gev/data_processing.py:44: SettingWithCopyWarning: \n",
      "A value is trying to be set on a copy of a slice from a DataFrame.\n",
      "Try using .loc[row_indexer,col_indexer] = value instead\n",
      "\n",
      "See the caveats in the documentation: https://pandas.pydata.org/pandas-docs/stable/user_guide/indexing.html#returning-a-view-versus-a-copy\n",
      "  climatology_df.loc[idx, 'cluster_n'] = cluster_value.values[0]\n"
     ]
    },
    {
     "name": "stdout",
     "output_type": "stream",
     "text": [
      "An error occurred while processing the tif file.\n",
      "Taking the file_path as a dataframe\n"
     ]
    },
    {
     "name": "stderr",
     "output_type": "stream",
     "text": [
      "/Users/fabienaugsburger/Documents/GitHub/master-project-cleaned/util/gev/data_processing.py:47: SettingWithCopyWarning: \n",
      "A value is trying to be set on a copy of a slice from a DataFrame.\n",
      "Try using .loc[row_indexer,col_indexer] = value instead\n",
      "\n",
      "See the caveats in the documentation: https://pandas.pydata.org/pandas-docs/stable/user_guide/indexing.html#returning-a-view-versus-a-copy\n",
      "  climatology_df['name'] = name\n",
      "/Users/fabienaugsburger/Documents/GitHub/master-project-cleaned/util/gev/data_processing.py:44: SettingWithCopyWarning: \n",
      "A value is trying to be set on a copy of a slice from a DataFrame.\n",
      "Try using .loc[row_indexer,col_indexer] = value instead\n",
      "\n",
      "See the caveats in the documentation: https://pandas.pydata.org/pandas-docs/stable/user_guide/indexing.html#returning-a-view-versus-a-copy\n",
      "  climatology_df.loc[idx, 'cluster_n'] = cluster_value.values[0]\n"
     ]
    },
    {
     "name": "stdout",
     "output_type": "stream",
     "text": [
      "An error occurred while processing the tif file.\n",
      "Taking the file_path as a dataframe\n"
     ]
    },
    {
     "name": "stderr",
     "output_type": "stream",
     "text": [
      "/Users/fabienaugsburger/Documents/GitHub/master-project-cleaned/util/gev/data_processing.py:47: SettingWithCopyWarning: \n",
      "A value is trying to be set on a copy of a slice from a DataFrame.\n",
      "Try using .loc[row_indexer,col_indexer] = value instead\n",
      "\n",
      "See the caveats in the documentation: https://pandas.pydata.org/pandas-docs/stable/user_guide/indexing.html#returning-a-view-versus-a-copy\n",
      "  climatology_df['name'] = name\n",
      "/Users/fabienaugsburger/Documents/GitHub/master-project-cleaned/util/gev/data_processing.py:44: SettingWithCopyWarning: \n",
      "A value is trying to be set on a copy of a slice from a DataFrame.\n",
      "Try using .loc[row_indexer,col_indexer] = value instead\n",
      "\n",
      "See the caveats in the documentation: https://pandas.pydata.org/pandas-docs/stable/user_guide/indexing.html#returning-a-view-versus-a-copy\n",
      "  climatology_df.loc[idx, 'cluster_n'] = cluster_value.values[0]\n"
     ]
    },
    {
     "name": "stdout",
     "output_type": "stream",
     "text": [
      "An error occurred while processing the tif file.\n",
      "Taking the file_path as a dataframe\n"
     ]
    },
    {
     "name": "stderr",
     "output_type": "stream",
     "text": [
      "/Users/fabienaugsburger/Documents/GitHub/master-project-cleaned/util/gev/data_processing.py:47: SettingWithCopyWarning: \n",
      "A value is trying to be set on a copy of a slice from a DataFrame.\n",
      "Try using .loc[row_indexer,col_indexer] = value instead\n",
      "\n",
      "See the caveats in the documentation: https://pandas.pydata.org/pandas-docs/stable/user_guide/indexing.html#returning-a-view-versus-a-copy\n",
      "  climatology_df['name'] = name\n",
      "/Users/fabienaugsburger/Documents/GitHub/master-project-cleaned/util/gev/data_processing.py:44: SettingWithCopyWarning: \n",
      "A value is trying to be set on a copy of a slice from a DataFrame.\n",
      "Try using .loc[row_indexer,col_indexer] = value instead\n",
      "\n",
      "See the caveats in the documentation: https://pandas.pydata.org/pandas-docs/stable/user_guide/indexing.html#returning-a-view-versus-a-copy\n",
      "  climatology_df.loc[idx, 'cluster_n'] = cluster_value.values[0]\n"
     ]
    },
    {
     "name": "stdout",
     "output_type": "stream",
     "text": [
      "An error occurred while processing the tif file.\n",
      "Taking the file_path as a dataframe\n"
     ]
    },
    {
     "name": "stderr",
     "output_type": "stream",
     "text": [
      "/Users/fabienaugsburger/Documents/GitHub/master-project-cleaned/util/gev/data_processing.py:47: SettingWithCopyWarning: \n",
      "A value is trying to be set on a copy of a slice from a DataFrame.\n",
      "Try using .loc[row_indexer,col_indexer] = value instead\n",
      "\n",
      "See the caveats in the documentation: https://pandas.pydata.org/pandas-docs/stable/user_guide/indexing.html#returning-a-view-versus-a-copy\n",
      "  climatology_df['name'] = name\n",
      "/Users/fabienaugsburger/Documents/GitHub/master-project-cleaned/util/gev/data_processing.py:44: SettingWithCopyWarning: \n",
      "A value is trying to be set on a copy of a slice from a DataFrame.\n",
      "Try using .loc[row_indexer,col_indexer] = value instead\n",
      "\n",
      "See the caveats in the documentation: https://pandas.pydata.org/pandas-docs/stable/user_guide/indexing.html#returning-a-view-versus-a-copy\n",
      "  climatology_df.loc[idx, 'cluster_n'] = cluster_value.values[0]\n"
     ]
    },
    {
     "name": "stdout",
     "output_type": "stream",
     "text": [
      "An error occurred while processing the tif file.\n",
      "Taking the file_path as a dataframe\n"
     ]
    },
    {
     "name": "stderr",
     "output_type": "stream",
     "text": [
      "/Users/fabienaugsburger/Documents/GitHub/master-project-cleaned/util/gev/data_processing.py:47: SettingWithCopyWarning: \n",
      "A value is trying to be set on a copy of a slice from a DataFrame.\n",
      "Try using .loc[row_indexer,col_indexer] = value instead\n",
      "\n",
      "See the caveats in the documentation: https://pandas.pydata.org/pandas-docs/stable/user_guide/indexing.html#returning-a-view-versus-a-copy\n",
      "  climatology_df['name'] = name\n",
      "/Users/fabienaugsburger/Documents/GitHub/master-project-cleaned/util/gev/data_processing.py:44: SettingWithCopyWarning: \n",
      "A value is trying to be set on a copy of a slice from a DataFrame.\n",
      "Try using .loc[row_indexer,col_indexer] = value instead\n",
      "\n",
      "See the caveats in the documentation: https://pandas.pydata.org/pandas-docs/stable/user_guide/indexing.html#returning-a-view-versus-a-copy\n",
      "  climatology_df.loc[idx, 'cluster_n'] = cluster_value.values[0]\n"
     ]
    },
    {
     "name": "stdout",
     "output_type": "stream",
     "text": [
      "An error occurred while processing the tif file.\n",
      "Taking the file_path as a dataframe\n"
     ]
    },
    {
     "name": "stderr",
     "output_type": "stream",
     "text": [
      "/Users/fabienaugsburger/Documents/GitHub/master-project-cleaned/util/gev/data_processing.py:47: SettingWithCopyWarning: \n",
      "A value is trying to be set on a copy of a slice from a DataFrame.\n",
      "Try using .loc[row_indexer,col_indexer] = value instead\n",
      "\n",
      "See the caveats in the documentation: https://pandas.pydata.org/pandas-docs/stable/user_guide/indexing.html#returning-a-view-versus-a-copy\n",
      "  climatology_df['name'] = name\n",
      "/Users/fabienaugsburger/Documents/GitHub/master-project-cleaned/util/gev/data_processing.py:44: SettingWithCopyWarning: \n",
      "A value is trying to be set on a copy of a slice from a DataFrame.\n",
      "Try using .loc[row_indexer,col_indexer] = value instead\n",
      "\n",
      "See the caveats in the documentation: https://pandas.pydata.org/pandas-docs/stable/user_guide/indexing.html#returning-a-view-versus-a-copy\n",
      "  climatology_df.loc[idx, 'cluster_n'] = cluster_value.values[0]\n"
     ]
    },
    {
     "name": "stdout",
     "output_type": "stream",
     "text": [
      "An error occurred while processing the tif file.\n",
      "Taking the file_path as a dataframe\n"
     ]
    },
    {
     "name": "stderr",
     "output_type": "stream",
     "text": [
      "/Users/fabienaugsburger/Documents/GitHub/master-project-cleaned/util/gev/data_processing.py:47: SettingWithCopyWarning: \n",
      "A value is trying to be set on a copy of a slice from a DataFrame.\n",
      "Try using .loc[row_indexer,col_indexer] = value instead\n",
      "\n",
      "See the caveats in the documentation: https://pandas.pydata.org/pandas-docs/stable/user_guide/indexing.html#returning-a-view-versus-a-copy\n",
      "  climatology_df['name'] = name\n",
      "/Users/fabienaugsburger/Documents/GitHub/master-project-cleaned/util/gev/data_processing.py:44: SettingWithCopyWarning: \n",
      "A value is trying to be set on a copy of a slice from a DataFrame.\n",
      "Try using .loc[row_indexer,col_indexer] = value instead\n",
      "\n",
      "See the caveats in the documentation: https://pandas.pydata.org/pandas-docs/stable/user_guide/indexing.html#returning-a-view-versus-a-copy\n",
      "  climatology_df.loc[idx, 'cluster_n'] = cluster_value.values[0]\n"
     ]
    },
    {
     "name": "stdout",
     "output_type": "stream",
     "text": [
      "An error occurred while processing the tif file.\n",
      "Taking the file_path as a dataframe\n"
     ]
    },
    {
     "name": "stderr",
     "output_type": "stream",
     "text": [
      "/Users/fabienaugsburger/Documents/GitHub/master-project-cleaned/util/gev/data_processing.py:47: SettingWithCopyWarning: \n",
      "A value is trying to be set on a copy of a slice from a DataFrame.\n",
      "Try using .loc[row_indexer,col_indexer] = value instead\n",
      "\n",
      "See the caveats in the documentation: https://pandas.pydata.org/pandas-docs/stable/user_guide/indexing.html#returning-a-view-versus-a-copy\n",
      "  climatology_df['name'] = name\n",
      "/Users/fabienaugsburger/Documents/GitHub/master-project-cleaned/util/gev/data_processing.py:44: SettingWithCopyWarning: \n",
      "A value is trying to be set on a copy of a slice from a DataFrame.\n",
      "Try using .loc[row_indexer,col_indexer] = value instead\n",
      "\n",
      "See the caveats in the documentation: https://pandas.pydata.org/pandas-docs/stable/user_guide/indexing.html#returning-a-view-versus-a-copy\n",
      "  climatology_df.loc[idx, 'cluster_n'] = cluster_value.values[0]\n"
     ]
    },
    {
     "name": "stdout",
     "output_type": "stream",
     "text": [
      "An error occurred while processing the tif file.\n",
      "Taking the file_path as a dataframe\n"
     ]
    },
    {
     "name": "stderr",
     "output_type": "stream",
     "text": [
      "/Users/fabienaugsburger/Documents/GitHub/master-project-cleaned/util/gev/data_processing.py:47: SettingWithCopyWarning: \n",
      "A value is trying to be set on a copy of a slice from a DataFrame.\n",
      "Try using .loc[row_indexer,col_indexer] = value instead\n",
      "\n",
      "See the caveats in the documentation: https://pandas.pydata.org/pandas-docs/stable/user_guide/indexing.html#returning-a-view-versus-a-copy\n",
      "  climatology_df['name'] = name\n",
      "/Users/fabienaugsburger/Documents/GitHub/master-project-cleaned/util/gev/data_processing.py:44: SettingWithCopyWarning: \n",
      "A value is trying to be set on a copy of a slice from a DataFrame.\n",
      "Try using .loc[row_indexer,col_indexer] = value instead\n",
      "\n",
      "See the caveats in the documentation: https://pandas.pydata.org/pandas-docs/stable/user_guide/indexing.html#returning-a-view-versus-a-copy\n",
      "  climatology_df.loc[idx, 'cluster_n'] = cluster_value.values[0]\n"
     ]
    },
    {
     "name": "stdout",
     "output_type": "stream",
     "text": [
      "An error occurred while processing the tif file.\n",
      "Taking the file_path as a dataframe\n"
     ]
    },
    {
     "name": "stderr",
     "output_type": "stream",
     "text": [
      "/Users/fabienaugsburger/Documents/GitHub/master-project-cleaned/util/gev/data_processing.py:47: SettingWithCopyWarning: \n",
      "A value is trying to be set on a copy of a slice from a DataFrame.\n",
      "Try using .loc[row_indexer,col_indexer] = value instead\n",
      "\n",
      "See the caveats in the documentation: https://pandas.pydata.org/pandas-docs/stable/user_guide/indexing.html#returning-a-view-versus-a-copy\n",
      "  climatology_df['name'] = name\n",
      "/Users/fabienaugsburger/Documents/GitHub/master-project-cleaned/util/gev/data_processing.py:44: SettingWithCopyWarning: \n",
      "A value is trying to be set on a copy of a slice from a DataFrame.\n",
      "Try using .loc[row_indexer,col_indexer] = value instead\n",
      "\n",
      "See the caveats in the documentation: https://pandas.pydata.org/pandas-docs/stable/user_guide/indexing.html#returning-a-view-versus-a-copy\n",
      "  climatology_df.loc[idx, 'cluster_n'] = cluster_value.values[0]\n"
     ]
    },
    {
     "name": "stdout",
     "output_type": "stream",
     "text": [
      "An error occurred while processing the tif file.\n",
      "Taking the file_path as a dataframe\n"
     ]
    },
    {
     "name": "stderr",
     "output_type": "stream",
     "text": [
      "/Users/fabienaugsburger/Documents/GitHub/master-project-cleaned/util/gev/data_processing.py:47: SettingWithCopyWarning: \n",
      "A value is trying to be set on a copy of a slice from a DataFrame.\n",
      "Try using .loc[row_indexer,col_indexer] = value instead\n",
      "\n",
      "See the caveats in the documentation: https://pandas.pydata.org/pandas-docs/stable/user_guide/indexing.html#returning-a-view-versus-a-copy\n",
      "  climatology_df['name'] = name\n",
      "/Users/fabienaugsburger/Documents/GitHub/master-project-cleaned/util/gev/data_processing.py:44: SettingWithCopyWarning: \n",
      "A value is trying to be set on a copy of a slice from a DataFrame.\n",
      "Try using .loc[row_indexer,col_indexer] = value instead\n",
      "\n",
      "See the caveats in the documentation: https://pandas.pydata.org/pandas-docs/stable/user_guide/indexing.html#returning-a-view-versus-a-copy\n",
      "  climatology_df.loc[idx, 'cluster_n'] = cluster_value.values[0]\n"
     ]
    },
    {
     "name": "stdout",
     "output_type": "stream",
     "text": [
      "An error occurred while processing the tif file.\n",
      "Taking the file_path as a dataframe\n"
     ]
    },
    {
     "name": "stderr",
     "output_type": "stream",
     "text": [
      "/Users/fabienaugsburger/Documents/GitHub/master-project-cleaned/util/gev/data_processing.py:47: SettingWithCopyWarning: \n",
      "A value is trying to be set on a copy of a slice from a DataFrame.\n",
      "Try using .loc[row_indexer,col_indexer] = value instead\n",
      "\n",
      "See the caveats in the documentation: https://pandas.pydata.org/pandas-docs/stable/user_guide/indexing.html#returning-a-view-versus-a-copy\n",
      "  climatology_df['name'] = name\n",
      "/Users/fabienaugsburger/Documents/GitHub/master-project-cleaned/util/gev/data_processing.py:44: SettingWithCopyWarning: \n",
      "A value is trying to be set on a copy of a slice from a DataFrame.\n",
      "Try using .loc[row_indexer,col_indexer] = value instead\n",
      "\n",
      "See the caveats in the documentation: https://pandas.pydata.org/pandas-docs/stable/user_guide/indexing.html#returning-a-view-versus-a-copy\n",
      "  climatology_df.loc[idx, 'cluster_n'] = cluster_value.values[0]\n"
     ]
    },
    {
     "name": "stdout",
     "output_type": "stream",
     "text": [
      "An error occurred while processing the tif file.\n",
      "Taking the file_path as a dataframe\n"
     ]
    },
    {
     "name": "stderr",
     "output_type": "stream",
     "text": [
      "/Users/fabienaugsburger/Documents/GitHub/master-project-cleaned/util/gev/data_processing.py:47: SettingWithCopyWarning: \n",
      "A value is trying to be set on a copy of a slice from a DataFrame.\n",
      "Try using .loc[row_indexer,col_indexer] = value instead\n",
      "\n",
      "See the caveats in the documentation: https://pandas.pydata.org/pandas-docs/stable/user_guide/indexing.html#returning-a-view-versus-a-copy\n",
      "  climatology_df['name'] = name\n",
      "/Users/fabienaugsburger/Documents/GitHub/master-project-cleaned/util/gev/data_processing.py:44: SettingWithCopyWarning: \n",
      "A value is trying to be set on a copy of a slice from a DataFrame.\n",
      "Try using .loc[row_indexer,col_indexer] = value instead\n",
      "\n",
      "See the caveats in the documentation: https://pandas.pydata.org/pandas-docs/stable/user_guide/indexing.html#returning-a-view-versus-a-copy\n",
      "  climatology_df.loc[idx, 'cluster_n'] = cluster_value.values[0]\n"
     ]
    },
    {
     "name": "stdout",
     "output_type": "stream",
     "text": [
      "An error occurred while processing the tif file.\n",
      "Taking the file_path as a dataframe\n"
     ]
    },
    {
     "name": "stderr",
     "output_type": "stream",
     "text": [
      "/Users/fabienaugsburger/Documents/GitHub/master-project-cleaned/util/gev/data_processing.py:47: SettingWithCopyWarning: \n",
      "A value is trying to be set on a copy of a slice from a DataFrame.\n",
      "Try using .loc[row_indexer,col_indexer] = value instead\n",
      "\n",
      "See the caveats in the documentation: https://pandas.pydata.org/pandas-docs/stable/user_guide/indexing.html#returning-a-view-versus-a-copy\n",
      "  climatology_df['name'] = name\n",
      "/Users/fabienaugsburger/Documents/GitHub/master-project-cleaned/util/gev/data_processing.py:44: SettingWithCopyWarning: \n",
      "A value is trying to be set on a copy of a slice from a DataFrame.\n",
      "Try using .loc[row_indexer,col_indexer] = value instead\n",
      "\n",
      "See the caveats in the documentation: https://pandas.pydata.org/pandas-docs/stable/user_guide/indexing.html#returning-a-view-versus-a-copy\n",
      "  climatology_df.loc[idx, 'cluster_n'] = cluster_value.values[0]\n"
     ]
    },
    {
     "name": "stdout",
     "output_type": "stream",
     "text": [
      "An error occurred while processing the tif file.\n",
      "Taking the file_path as a dataframe\n"
     ]
    },
    {
     "name": "stderr",
     "output_type": "stream",
     "text": [
      "/Users/fabienaugsburger/Documents/GitHub/master-project-cleaned/util/gev/data_processing.py:47: SettingWithCopyWarning: \n",
      "A value is trying to be set on a copy of a slice from a DataFrame.\n",
      "Try using .loc[row_indexer,col_indexer] = value instead\n",
      "\n",
      "See the caveats in the documentation: https://pandas.pydata.org/pandas-docs/stable/user_guide/indexing.html#returning-a-view-versus-a-copy\n",
      "  climatology_df['name'] = name\n",
      "/Users/fabienaugsburger/Documents/GitHub/master-project-cleaned/util/gev/data_processing.py:44: SettingWithCopyWarning: \n",
      "A value is trying to be set on a copy of a slice from a DataFrame.\n",
      "Try using .loc[row_indexer,col_indexer] = value instead\n",
      "\n",
      "See the caveats in the documentation: https://pandas.pydata.org/pandas-docs/stable/user_guide/indexing.html#returning-a-view-versus-a-copy\n",
      "  climatology_df.loc[idx, 'cluster_n'] = cluster_value.values[0]\n"
     ]
    },
    {
     "name": "stdout",
     "output_type": "stream",
     "text": [
      "An error occurred while processing the tif file.\n",
      "Taking the file_path as a dataframe\n"
     ]
    },
    {
     "name": "stderr",
     "output_type": "stream",
     "text": [
      "/Users/fabienaugsburger/Documents/GitHub/master-project-cleaned/util/gev/data_processing.py:47: SettingWithCopyWarning: \n",
      "A value is trying to be set on a copy of a slice from a DataFrame.\n",
      "Try using .loc[row_indexer,col_indexer] = value instead\n",
      "\n",
      "See the caveats in the documentation: https://pandas.pydata.org/pandas-docs/stable/user_guide/indexing.html#returning-a-view-versus-a-copy\n",
      "  climatology_df['name'] = name\n",
      "/Users/fabienaugsburger/Documents/GitHub/master-project-cleaned/util/gev/data_processing.py:44: SettingWithCopyWarning: \n",
      "A value is trying to be set on a copy of a slice from a DataFrame.\n",
      "Try using .loc[row_indexer,col_indexer] = value instead\n",
      "\n",
      "See the caveats in the documentation: https://pandas.pydata.org/pandas-docs/stable/user_guide/indexing.html#returning-a-view-versus-a-copy\n",
      "  climatology_df.loc[idx, 'cluster_n'] = cluster_value.values[0]\n"
     ]
    },
    {
     "name": "stdout",
     "output_type": "stream",
     "text": [
      "An error occurred while processing the tif file.\n",
      "Taking the file_path as a dataframe\n"
     ]
    },
    {
     "name": "stderr",
     "output_type": "stream",
     "text": [
      "/Users/fabienaugsburger/Documents/GitHub/master-project-cleaned/util/gev/data_processing.py:47: SettingWithCopyWarning: \n",
      "A value is trying to be set on a copy of a slice from a DataFrame.\n",
      "Try using .loc[row_indexer,col_indexer] = value instead\n",
      "\n",
      "See the caveats in the documentation: https://pandas.pydata.org/pandas-docs/stable/user_guide/indexing.html#returning-a-view-versus-a-copy\n",
      "  climatology_df['name'] = name\n",
      "/Users/fabienaugsburger/Documents/GitHub/master-project-cleaned/util/gev/data_processing.py:44: SettingWithCopyWarning: \n",
      "A value is trying to be set on a copy of a slice from a DataFrame.\n",
      "Try using .loc[row_indexer,col_indexer] = value instead\n",
      "\n",
      "See the caveats in the documentation: https://pandas.pydata.org/pandas-docs/stable/user_guide/indexing.html#returning-a-view-versus-a-copy\n",
      "  climatology_df.loc[idx, 'cluster_n'] = cluster_value.values[0]\n"
     ]
    },
    {
     "name": "stdout",
     "output_type": "stream",
     "text": [
      "An error occurred while processing the tif file.\n",
      "Taking the file_path as a dataframe\n"
     ]
    },
    {
     "name": "stderr",
     "output_type": "stream",
     "text": [
      "/Users/fabienaugsburger/Documents/GitHub/master-project-cleaned/util/gev/data_processing.py:47: SettingWithCopyWarning: \n",
      "A value is trying to be set on a copy of a slice from a DataFrame.\n",
      "Try using .loc[row_indexer,col_indexer] = value instead\n",
      "\n",
      "See the caveats in the documentation: https://pandas.pydata.org/pandas-docs/stable/user_guide/indexing.html#returning-a-view-versus-a-copy\n",
      "  climatology_df['name'] = name\n",
      "/Users/fabienaugsburger/Documents/GitHub/master-project-cleaned/util/gev/data_processing.py:44: SettingWithCopyWarning: \n",
      "A value is trying to be set on a copy of a slice from a DataFrame.\n",
      "Try using .loc[row_indexer,col_indexer] = value instead\n",
      "\n",
      "See the caveats in the documentation: https://pandas.pydata.org/pandas-docs/stable/user_guide/indexing.html#returning-a-view-versus-a-copy\n",
      "  climatology_df.loc[idx, 'cluster_n'] = cluster_value.values[0]\n"
     ]
    },
    {
     "name": "stdout",
     "output_type": "stream",
     "text": [
      "An error occurred while processing the tif file.\n",
      "Taking the file_path as a dataframe\n"
     ]
    },
    {
     "name": "stderr",
     "output_type": "stream",
     "text": [
      "/Users/fabienaugsburger/Documents/GitHub/master-project-cleaned/util/gev/data_processing.py:47: SettingWithCopyWarning: \n",
      "A value is trying to be set on a copy of a slice from a DataFrame.\n",
      "Try using .loc[row_indexer,col_indexer] = value instead\n",
      "\n",
      "See the caveats in the documentation: https://pandas.pydata.org/pandas-docs/stable/user_guide/indexing.html#returning-a-view-versus-a-copy\n",
      "  climatology_df['name'] = name\n",
      "/Users/fabienaugsburger/Documents/GitHub/master-project-cleaned/util/gev/data_processing.py:44: SettingWithCopyWarning: \n",
      "A value is trying to be set on a copy of a slice from a DataFrame.\n",
      "Try using .loc[row_indexer,col_indexer] = value instead\n",
      "\n",
      "See the caveats in the documentation: https://pandas.pydata.org/pandas-docs/stable/user_guide/indexing.html#returning-a-view-versus-a-copy\n",
      "  climatology_df.loc[idx, 'cluster_n'] = cluster_value.values[0]\n"
     ]
    },
    {
     "name": "stdout",
     "output_type": "stream",
     "text": [
      "An error occurred while processing the tif file.\n",
      "Taking the file_path as a dataframe\n"
     ]
    },
    {
     "name": "stderr",
     "output_type": "stream",
     "text": [
      "/Users/fabienaugsburger/Documents/GitHub/master-project-cleaned/util/gev/data_processing.py:47: SettingWithCopyWarning: \n",
      "A value is trying to be set on a copy of a slice from a DataFrame.\n",
      "Try using .loc[row_indexer,col_indexer] = value instead\n",
      "\n",
      "See the caveats in the documentation: https://pandas.pydata.org/pandas-docs/stable/user_guide/indexing.html#returning-a-view-versus-a-copy\n",
      "  climatology_df['name'] = name\n",
      "/Users/fabienaugsburger/Documents/GitHub/master-project-cleaned/util/gev/data_processing.py:44: SettingWithCopyWarning: \n",
      "A value is trying to be set on a copy of a slice from a DataFrame.\n",
      "Try using .loc[row_indexer,col_indexer] = value instead\n",
      "\n",
      "See the caveats in the documentation: https://pandas.pydata.org/pandas-docs/stable/user_guide/indexing.html#returning-a-view-versus-a-copy\n",
      "  climatology_df.loc[idx, 'cluster_n'] = cluster_value.values[0]\n"
     ]
    },
    {
     "name": "stdout",
     "output_type": "stream",
     "text": [
      "An error occurred while processing the tif file.\n",
      "Taking the file_path as a dataframe\n"
     ]
    },
    {
     "name": "stderr",
     "output_type": "stream",
     "text": [
      "/Users/fabienaugsburger/Documents/GitHub/master-project-cleaned/util/gev/data_processing.py:47: SettingWithCopyWarning: \n",
      "A value is trying to be set on a copy of a slice from a DataFrame.\n",
      "Try using .loc[row_indexer,col_indexer] = value instead\n",
      "\n",
      "See the caveats in the documentation: https://pandas.pydata.org/pandas-docs/stable/user_guide/indexing.html#returning-a-view-versus-a-copy\n",
      "  climatology_df['name'] = name\n",
      "/Users/fabienaugsburger/Documents/GitHub/master-project-cleaned/util/gev/data_processing.py:44: SettingWithCopyWarning: \n",
      "A value is trying to be set on a copy of a slice from a DataFrame.\n",
      "Try using .loc[row_indexer,col_indexer] = value instead\n",
      "\n",
      "See the caveats in the documentation: https://pandas.pydata.org/pandas-docs/stable/user_guide/indexing.html#returning-a-view-versus-a-copy\n",
      "  climatology_df.loc[idx, 'cluster_n'] = cluster_value.values[0]\n"
     ]
    },
    {
     "name": "stdout",
     "output_type": "stream",
     "text": [
      "An error occurred while processing the tif file.\n",
      "Taking the file_path as a dataframe\n"
     ]
    },
    {
     "name": "stderr",
     "output_type": "stream",
     "text": [
      "/Users/fabienaugsburger/Documents/GitHub/master-project-cleaned/util/gev/data_processing.py:47: SettingWithCopyWarning: \n",
      "A value is trying to be set on a copy of a slice from a DataFrame.\n",
      "Try using .loc[row_indexer,col_indexer] = value instead\n",
      "\n",
      "See the caveats in the documentation: https://pandas.pydata.org/pandas-docs/stable/user_guide/indexing.html#returning-a-view-versus-a-copy\n",
      "  climatology_df['name'] = name\n",
      "/Users/fabienaugsburger/Documents/GitHub/master-project-cleaned/util/gev/data_processing.py:44: SettingWithCopyWarning: \n",
      "A value is trying to be set on a copy of a slice from a DataFrame.\n",
      "Try using .loc[row_indexer,col_indexer] = value instead\n",
      "\n",
      "See the caveats in the documentation: https://pandas.pydata.org/pandas-docs/stable/user_guide/indexing.html#returning-a-view-versus-a-copy\n",
      "  climatology_df.loc[idx, 'cluster_n'] = cluster_value.values[0]\n"
     ]
    },
    {
     "name": "stdout",
     "output_type": "stream",
     "text": [
      "An error occurred while processing the tif file.\n",
      "Taking the file_path as a dataframe\n"
     ]
    },
    {
     "name": "stderr",
     "output_type": "stream",
     "text": [
      "/Users/fabienaugsburger/Documents/GitHub/master-project-cleaned/util/gev/data_processing.py:47: SettingWithCopyWarning: \n",
      "A value is trying to be set on a copy of a slice from a DataFrame.\n",
      "Try using .loc[row_indexer,col_indexer] = value instead\n",
      "\n",
      "See the caveats in the documentation: https://pandas.pydata.org/pandas-docs/stable/user_guide/indexing.html#returning-a-view-versus-a-copy\n",
      "  climatology_df['name'] = name\n",
      "/Users/fabienaugsburger/Documents/GitHub/master-project-cleaned/util/gev/data_processing.py:44: SettingWithCopyWarning: \n",
      "A value is trying to be set on a copy of a slice from a DataFrame.\n",
      "Try using .loc[row_indexer,col_indexer] = value instead\n",
      "\n",
      "See the caveats in the documentation: https://pandas.pydata.org/pandas-docs/stable/user_guide/indexing.html#returning-a-view-versus-a-copy\n",
      "  climatology_df.loc[idx, 'cluster_n'] = cluster_value.values[0]\n"
     ]
    },
    {
     "name": "stdout",
     "output_type": "stream",
     "text": [
      "An error occurred while processing the tif file.\n",
      "Taking the file_path as a dataframe\n"
     ]
    },
    {
     "name": "stderr",
     "output_type": "stream",
     "text": [
      "/Users/fabienaugsburger/Documents/GitHub/master-project-cleaned/util/gev/data_processing.py:47: SettingWithCopyWarning: \n",
      "A value is trying to be set on a copy of a slice from a DataFrame.\n",
      "Try using .loc[row_indexer,col_indexer] = value instead\n",
      "\n",
      "See the caveats in the documentation: https://pandas.pydata.org/pandas-docs/stable/user_guide/indexing.html#returning-a-view-versus-a-copy\n",
      "  climatology_df['name'] = name\n",
      "/Users/fabienaugsburger/Documents/GitHub/master-project-cleaned/util/gev/data_processing.py:44: SettingWithCopyWarning: \n",
      "A value is trying to be set on a copy of a slice from a DataFrame.\n",
      "Try using .loc[row_indexer,col_indexer] = value instead\n",
      "\n",
      "See the caveats in the documentation: https://pandas.pydata.org/pandas-docs/stable/user_guide/indexing.html#returning-a-view-versus-a-copy\n",
      "  climatology_df.loc[idx, 'cluster_n'] = cluster_value.values[0]\n"
     ]
    },
    {
     "name": "stdout",
     "output_type": "stream",
     "text": [
      "An error occurred while processing the tif file.\n",
      "Taking the file_path as a dataframe\n"
     ]
    },
    {
     "name": "stderr",
     "output_type": "stream",
     "text": [
      "/Users/fabienaugsburger/Documents/GitHub/master-project-cleaned/util/gev/data_processing.py:47: SettingWithCopyWarning: \n",
      "A value is trying to be set on a copy of a slice from a DataFrame.\n",
      "Try using .loc[row_indexer,col_indexer] = value instead\n",
      "\n",
      "See the caveats in the documentation: https://pandas.pydata.org/pandas-docs/stable/user_guide/indexing.html#returning-a-view-versus-a-copy\n",
      "  climatology_df['name'] = name\n",
      "/Users/fabienaugsburger/Documents/GitHub/master-project-cleaned/util/gev/data_processing.py:44: SettingWithCopyWarning: \n",
      "A value is trying to be set on a copy of a slice from a DataFrame.\n",
      "Try using .loc[row_indexer,col_indexer] = value instead\n",
      "\n",
      "See the caveats in the documentation: https://pandas.pydata.org/pandas-docs/stable/user_guide/indexing.html#returning-a-view-versus-a-copy\n",
      "  climatology_df.loc[idx, 'cluster_n'] = cluster_value.values[0]\n"
     ]
    },
    {
     "name": "stdout",
     "output_type": "stream",
     "text": [
      "An error occurred while processing the tif file.\n",
      "Taking the file_path as a dataframe\n"
     ]
    },
    {
     "name": "stderr",
     "output_type": "stream",
     "text": [
      "/Users/fabienaugsburger/Documents/GitHub/master-project-cleaned/util/gev/data_processing.py:47: SettingWithCopyWarning: \n",
      "A value is trying to be set on a copy of a slice from a DataFrame.\n",
      "Try using .loc[row_indexer,col_indexer] = value instead\n",
      "\n",
      "See the caveats in the documentation: https://pandas.pydata.org/pandas-docs/stable/user_guide/indexing.html#returning-a-view-versus-a-copy\n",
      "  climatology_df['name'] = name\n",
      "/Users/fabienaugsburger/Documents/GitHub/master-project-cleaned/util/gev/data_processing.py:44: SettingWithCopyWarning: \n",
      "A value is trying to be set on a copy of a slice from a DataFrame.\n",
      "Try using .loc[row_indexer,col_indexer] = value instead\n",
      "\n",
      "See the caveats in the documentation: https://pandas.pydata.org/pandas-docs/stable/user_guide/indexing.html#returning-a-view-versus-a-copy\n",
      "  climatology_df.loc[idx, 'cluster_n'] = cluster_value.values[0]\n"
     ]
    },
    {
     "name": "stdout",
     "output_type": "stream",
     "text": [
      "An error occurred while processing the tif file.\n",
      "Taking the file_path as a dataframe\n"
     ]
    },
    {
     "name": "stderr",
     "output_type": "stream",
     "text": [
      "/Users/fabienaugsburger/Documents/GitHub/master-project-cleaned/util/gev/data_processing.py:47: SettingWithCopyWarning: \n",
      "A value is trying to be set on a copy of a slice from a DataFrame.\n",
      "Try using .loc[row_indexer,col_indexer] = value instead\n",
      "\n",
      "See the caveats in the documentation: https://pandas.pydata.org/pandas-docs/stable/user_guide/indexing.html#returning-a-view-versus-a-copy\n",
      "  climatology_df['name'] = name\n",
      "/Users/fabienaugsburger/Documents/GitHub/master-project-cleaned/util/gev/data_processing.py:44: SettingWithCopyWarning: \n",
      "A value is trying to be set on a copy of a slice from a DataFrame.\n",
      "Try using .loc[row_indexer,col_indexer] = value instead\n",
      "\n",
      "See the caveats in the documentation: https://pandas.pydata.org/pandas-docs/stable/user_guide/indexing.html#returning-a-view-versus-a-copy\n",
      "  climatology_df.loc[idx, 'cluster_n'] = cluster_value.values[0]\n"
     ]
    },
    {
     "name": "stdout",
     "output_type": "stream",
     "text": [
      "An error occurred while processing the tif file.\n",
      "Taking the file_path as a dataframe\n"
     ]
    },
    {
     "name": "stderr",
     "output_type": "stream",
     "text": [
      "/Users/fabienaugsburger/Documents/GitHub/master-project-cleaned/util/gev/data_processing.py:47: SettingWithCopyWarning: \n",
      "A value is trying to be set on a copy of a slice from a DataFrame.\n",
      "Try using .loc[row_indexer,col_indexer] = value instead\n",
      "\n",
      "See the caveats in the documentation: https://pandas.pydata.org/pandas-docs/stable/user_guide/indexing.html#returning-a-view-versus-a-copy\n",
      "  climatology_df['name'] = name\n",
      "/Users/fabienaugsburger/Documents/GitHub/master-project-cleaned/util/gev/data_processing.py:44: SettingWithCopyWarning: \n",
      "A value is trying to be set on a copy of a slice from a DataFrame.\n",
      "Try using .loc[row_indexer,col_indexer] = value instead\n",
      "\n",
      "See the caveats in the documentation: https://pandas.pydata.org/pandas-docs/stable/user_guide/indexing.html#returning-a-view-versus-a-copy\n",
      "  climatology_df.loc[idx, 'cluster_n'] = cluster_value.values[0]\n"
     ]
    },
    {
     "name": "stdout",
     "output_type": "stream",
     "text": [
      "An error occurred while processing the tif file.\n",
      "Taking the file_path as a dataframe\n"
     ]
    },
    {
     "name": "stderr",
     "output_type": "stream",
     "text": [
      "/Users/fabienaugsburger/Documents/GitHub/master-project-cleaned/util/gev/data_processing.py:47: SettingWithCopyWarning: \n",
      "A value is trying to be set on a copy of a slice from a DataFrame.\n",
      "Try using .loc[row_indexer,col_indexer] = value instead\n",
      "\n",
      "See the caveats in the documentation: https://pandas.pydata.org/pandas-docs/stable/user_guide/indexing.html#returning-a-view-versus-a-copy\n",
      "  climatology_df['name'] = name\n",
      "/Users/fabienaugsburger/Documents/GitHub/master-project-cleaned/util/gev/data_processing.py:44: SettingWithCopyWarning: \n",
      "A value is trying to be set on a copy of a slice from a DataFrame.\n",
      "Try using .loc[row_indexer,col_indexer] = value instead\n",
      "\n",
      "See the caveats in the documentation: https://pandas.pydata.org/pandas-docs/stable/user_guide/indexing.html#returning-a-view-versus-a-copy\n",
      "  climatology_df.loc[idx, 'cluster_n'] = cluster_value.values[0]\n"
     ]
    },
    {
     "name": "stdout",
     "output_type": "stream",
     "text": [
      "An error occurred while processing the tif file.\n",
      "Taking the file_path as a dataframe\n"
     ]
    },
    {
     "name": "stderr",
     "output_type": "stream",
     "text": [
      "/Users/fabienaugsburger/Documents/GitHub/master-project-cleaned/util/gev/data_processing.py:47: SettingWithCopyWarning: \n",
      "A value is trying to be set on a copy of a slice from a DataFrame.\n",
      "Try using .loc[row_indexer,col_indexer] = value instead\n",
      "\n",
      "See the caveats in the documentation: https://pandas.pydata.org/pandas-docs/stable/user_guide/indexing.html#returning-a-view-versus-a-copy\n",
      "  climatology_df['name'] = name\n",
      "/Users/fabienaugsburger/Documents/GitHub/master-project-cleaned/util/gev/data_processing.py:44: SettingWithCopyWarning: \n",
      "A value is trying to be set on a copy of a slice from a DataFrame.\n",
      "Try using .loc[row_indexer,col_indexer] = value instead\n",
      "\n",
      "See the caveats in the documentation: https://pandas.pydata.org/pandas-docs/stable/user_guide/indexing.html#returning-a-view-versus-a-copy\n",
      "  climatology_df.loc[idx, 'cluster_n'] = cluster_value.values[0]\n"
     ]
    },
    {
     "name": "stdout",
     "output_type": "stream",
     "text": [
      "An error occurred while processing the tif file.\n",
      "Taking the file_path as a dataframe\n"
     ]
    },
    {
     "name": "stderr",
     "output_type": "stream",
     "text": [
      "/Users/fabienaugsburger/Documents/GitHub/master-project-cleaned/util/gev/data_processing.py:47: SettingWithCopyWarning: \n",
      "A value is trying to be set on a copy of a slice from a DataFrame.\n",
      "Try using .loc[row_indexer,col_indexer] = value instead\n",
      "\n",
      "See the caveats in the documentation: https://pandas.pydata.org/pandas-docs/stable/user_guide/indexing.html#returning-a-view-versus-a-copy\n",
      "  climatology_df['name'] = name\n",
      "/Users/fabienaugsburger/Documents/GitHub/master-project-cleaned/util/gev/data_processing.py:44: SettingWithCopyWarning: \n",
      "A value is trying to be set on a copy of a slice from a DataFrame.\n",
      "Try using .loc[row_indexer,col_indexer] = value instead\n",
      "\n",
      "See the caveats in the documentation: https://pandas.pydata.org/pandas-docs/stable/user_guide/indexing.html#returning-a-view-versus-a-copy\n",
      "  climatology_df.loc[idx, 'cluster_n'] = cluster_value.values[0]\n"
     ]
    },
    {
     "name": "stdout",
     "output_type": "stream",
     "text": [
      "An error occurred while processing the tif file.\n",
      "Taking the file_path as a dataframe\n"
     ]
    },
    {
     "name": "stderr",
     "output_type": "stream",
     "text": [
      "/Users/fabienaugsburger/Documents/GitHub/master-project-cleaned/util/gev/data_processing.py:47: SettingWithCopyWarning: \n",
      "A value is trying to be set on a copy of a slice from a DataFrame.\n",
      "Try using .loc[row_indexer,col_indexer] = value instead\n",
      "\n",
      "See the caveats in the documentation: https://pandas.pydata.org/pandas-docs/stable/user_guide/indexing.html#returning-a-view-versus-a-copy\n",
      "  climatology_df['name'] = name\n",
      "/Users/fabienaugsburger/Documents/GitHub/master-project-cleaned/util/gev/data_processing.py:44: SettingWithCopyWarning: \n",
      "A value is trying to be set on a copy of a slice from a DataFrame.\n",
      "Try using .loc[row_indexer,col_indexer] = value instead\n",
      "\n",
      "See the caveats in the documentation: https://pandas.pydata.org/pandas-docs/stable/user_guide/indexing.html#returning-a-view-versus-a-copy\n",
      "  climatology_df.loc[idx, 'cluster_n'] = cluster_value.values[0]\n"
     ]
    },
    {
     "name": "stdout",
     "output_type": "stream",
     "text": [
      "An error occurred while processing the tif file.\n",
      "Taking the file_path as a dataframe\n"
     ]
    },
    {
     "name": "stderr",
     "output_type": "stream",
     "text": [
      "/Users/fabienaugsburger/Documents/GitHub/master-project-cleaned/util/gev/data_processing.py:47: SettingWithCopyWarning: \n",
      "A value is trying to be set on a copy of a slice from a DataFrame.\n",
      "Try using .loc[row_indexer,col_indexer] = value instead\n",
      "\n",
      "See the caveats in the documentation: https://pandas.pydata.org/pandas-docs/stable/user_guide/indexing.html#returning-a-view-versus-a-copy\n",
      "  climatology_df['name'] = name\n",
      "/Users/fabienaugsburger/Documents/GitHub/master-project-cleaned/util/gev/data_processing.py:44: SettingWithCopyWarning: \n",
      "A value is trying to be set on a copy of a slice from a DataFrame.\n",
      "Try using .loc[row_indexer,col_indexer] = value instead\n",
      "\n",
      "See the caveats in the documentation: https://pandas.pydata.org/pandas-docs/stable/user_guide/indexing.html#returning-a-view-versus-a-copy\n",
      "  climatology_df.loc[idx, 'cluster_n'] = cluster_value.values[0]\n"
     ]
    },
    {
     "name": "stdout",
     "output_type": "stream",
     "text": [
      "An error occurred while processing the tif file.\n",
      "Taking the file_path as a dataframe\n"
     ]
    },
    {
     "name": "stderr",
     "output_type": "stream",
     "text": [
      "/Users/fabienaugsburger/Documents/GitHub/master-project-cleaned/util/gev/data_processing.py:47: SettingWithCopyWarning: \n",
      "A value is trying to be set on a copy of a slice from a DataFrame.\n",
      "Try using .loc[row_indexer,col_indexer] = value instead\n",
      "\n",
      "See the caveats in the documentation: https://pandas.pydata.org/pandas-docs/stable/user_guide/indexing.html#returning-a-view-versus-a-copy\n",
      "  climatology_df['name'] = name\n",
      "/Users/fabienaugsburger/Documents/GitHub/master-project-cleaned/util/gev/data_processing.py:44: SettingWithCopyWarning: \n",
      "A value is trying to be set on a copy of a slice from a DataFrame.\n",
      "Try using .loc[row_indexer,col_indexer] = value instead\n",
      "\n",
      "See the caveats in the documentation: https://pandas.pydata.org/pandas-docs/stable/user_guide/indexing.html#returning-a-view-versus-a-copy\n",
      "  climatology_df.loc[idx, 'cluster_n'] = cluster_value.values[0]\n"
     ]
    },
    {
     "name": "stdout",
     "output_type": "stream",
     "text": [
      "An error occurred while processing the tif file.\n",
      "Taking the file_path as a dataframe\n"
     ]
    },
    {
     "name": "stderr",
     "output_type": "stream",
     "text": [
      "/Users/fabienaugsburger/Documents/GitHub/master-project-cleaned/util/gev/data_processing.py:47: SettingWithCopyWarning: \n",
      "A value is trying to be set on a copy of a slice from a DataFrame.\n",
      "Try using .loc[row_indexer,col_indexer] = value instead\n",
      "\n",
      "See the caveats in the documentation: https://pandas.pydata.org/pandas-docs/stable/user_guide/indexing.html#returning-a-view-versus-a-copy\n",
      "  climatology_df['name'] = name\n",
      "/Users/fabienaugsburger/Documents/GitHub/master-project-cleaned/util/gev/data_processing.py:44: SettingWithCopyWarning: \n",
      "A value is trying to be set on a copy of a slice from a DataFrame.\n",
      "Try using .loc[row_indexer,col_indexer] = value instead\n",
      "\n",
      "See the caveats in the documentation: https://pandas.pydata.org/pandas-docs/stable/user_guide/indexing.html#returning-a-view-versus-a-copy\n",
      "  climatology_df.loc[idx, 'cluster_n'] = cluster_value.values[0]\n"
     ]
    },
    {
     "name": "stdout",
     "output_type": "stream",
     "text": [
      "An error occurred while processing the tif file.\n",
      "Taking the file_path as a dataframe\n"
     ]
    },
    {
     "name": "stderr",
     "output_type": "stream",
     "text": [
      "/Users/fabienaugsburger/Documents/GitHub/master-project-cleaned/util/gev/data_processing.py:47: SettingWithCopyWarning: \n",
      "A value is trying to be set on a copy of a slice from a DataFrame.\n",
      "Try using .loc[row_indexer,col_indexer] = value instead\n",
      "\n",
      "See the caveats in the documentation: https://pandas.pydata.org/pandas-docs/stable/user_guide/indexing.html#returning-a-view-versus-a-copy\n",
      "  climatology_df['name'] = name\n",
      "/Users/fabienaugsburger/Documents/GitHub/master-project-cleaned/util/gev/data_processing.py:44: SettingWithCopyWarning: \n",
      "A value is trying to be set on a copy of a slice from a DataFrame.\n",
      "Try using .loc[row_indexer,col_indexer] = value instead\n",
      "\n",
      "See the caveats in the documentation: https://pandas.pydata.org/pandas-docs/stable/user_guide/indexing.html#returning-a-view-versus-a-copy\n",
      "  climatology_df.loc[idx, 'cluster_n'] = cluster_value.values[0]\n"
     ]
    },
    {
     "name": "stdout",
     "output_type": "stream",
     "text": [
      "An error occurred while processing the tif file.\n",
      "Taking the file_path as a dataframe\n"
     ]
    },
    {
     "name": "stderr",
     "output_type": "stream",
     "text": [
      "/Users/fabienaugsburger/Documents/GitHub/master-project-cleaned/util/gev/data_processing.py:47: SettingWithCopyWarning: \n",
      "A value is trying to be set on a copy of a slice from a DataFrame.\n",
      "Try using .loc[row_indexer,col_indexer] = value instead\n",
      "\n",
      "See the caveats in the documentation: https://pandas.pydata.org/pandas-docs/stable/user_guide/indexing.html#returning-a-view-versus-a-copy\n",
      "  climatology_df['name'] = name\n",
      "/Users/fabienaugsburger/Documents/GitHub/master-project-cleaned/util/gev/data_processing.py:44: SettingWithCopyWarning: \n",
      "A value is trying to be set on a copy of a slice from a DataFrame.\n",
      "Try using .loc[row_indexer,col_indexer] = value instead\n",
      "\n",
      "See the caveats in the documentation: https://pandas.pydata.org/pandas-docs/stable/user_guide/indexing.html#returning-a-view-versus-a-copy\n",
      "  climatology_df.loc[idx, 'cluster_n'] = cluster_value.values[0]\n"
     ]
    },
    {
     "name": "stdout",
     "output_type": "stream",
     "text": [
      "An error occurred while processing the tif file.\n",
      "Taking the file_path as a dataframe\n"
     ]
    },
    {
     "name": "stderr",
     "output_type": "stream",
     "text": [
      "/Users/fabienaugsburger/Documents/GitHub/master-project-cleaned/util/gev/data_processing.py:47: SettingWithCopyWarning: \n",
      "A value is trying to be set on a copy of a slice from a DataFrame.\n",
      "Try using .loc[row_indexer,col_indexer] = value instead\n",
      "\n",
      "See the caveats in the documentation: https://pandas.pydata.org/pandas-docs/stable/user_guide/indexing.html#returning-a-view-versus-a-copy\n",
      "  climatology_df['name'] = name\n",
      "/Users/fabienaugsburger/Documents/GitHub/master-project-cleaned/util/gev/data_processing.py:44: SettingWithCopyWarning: \n",
      "A value is trying to be set on a copy of a slice from a DataFrame.\n",
      "Try using .loc[row_indexer,col_indexer] = value instead\n",
      "\n",
      "See the caveats in the documentation: https://pandas.pydata.org/pandas-docs/stable/user_guide/indexing.html#returning-a-view-versus-a-copy\n",
      "  climatology_df.loc[idx, 'cluster_n'] = cluster_value.values[0]\n"
     ]
    },
    {
     "name": "stdout",
     "output_type": "stream",
     "text": [
      "An error occurred while processing the tif file.\n",
      "Taking the file_path as a dataframe\n"
     ]
    },
    {
     "name": "stderr",
     "output_type": "stream",
     "text": [
      "/Users/fabienaugsburger/Documents/GitHub/master-project-cleaned/util/gev/data_processing.py:47: SettingWithCopyWarning: \n",
      "A value is trying to be set on a copy of a slice from a DataFrame.\n",
      "Try using .loc[row_indexer,col_indexer] = value instead\n",
      "\n",
      "See the caveats in the documentation: https://pandas.pydata.org/pandas-docs/stable/user_guide/indexing.html#returning-a-view-versus-a-copy\n",
      "  climatology_df['name'] = name\n",
      "/Users/fabienaugsburger/Documents/GitHub/master-project-cleaned/util/gev/data_processing.py:44: SettingWithCopyWarning: \n",
      "A value is trying to be set on a copy of a slice from a DataFrame.\n",
      "Try using .loc[row_indexer,col_indexer] = value instead\n",
      "\n",
      "See the caveats in the documentation: https://pandas.pydata.org/pandas-docs/stable/user_guide/indexing.html#returning-a-view-versus-a-copy\n",
      "  climatology_df.loc[idx, 'cluster_n'] = cluster_value.values[0]\n"
     ]
    },
    {
     "name": "stdout",
     "output_type": "stream",
     "text": [
      "An error occurred while processing the tif file.\n",
      "Taking the file_path as a dataframe\n"
     ]
    },
    {
     "name": "stderr",
     "output_type": "stream",
     "text": [
      "/Users/fabienaugsburger/Documents/GitHub/master-project-cleaned/util/gev/data_processing.py:47: SettingWithCopyWarning: \n",
      "A value is trying to be set on a copy of a slice from a DataFrame.\n",
      "Try using .loc[row_indexer,col_indexer] = value instead\n",
      "\n",
      "See the caveats in the documentation: https://pandas.pydata.org/pandas-docs/stable/user_guide/indexing.html#returning-a-view-versus-a-copy\n",
      "  climatology_df['name'] = name\n",
      "/Users/fabienaugsburger/Documents/GitHub/master-project-cleaned/util/gev/data_processing.py:44: SettingWithCopyWarning: \n",
      "A value is trying to be set on a copy of a slice from a DataFrame.\n",
      "Try using .loc[row_indexer,col_indexer] = value instead\n",
      "\n",
      "See the caveats in the documentation: https://pandas.pydata.org/pandas-docs/stable/user_guide/indexing.html#returning-a-view-versus-a-copy\n",
      "  climatology_df.loc[idx, 'cluster_n'] = cluster_value.values[0]\n"
     ]
    },
    {
     "name": "stdout",
     "output_type": "stream",
     "text": [
      "An error occurred while processing the tif file.\n",
      "Taking the file_path as a dataframe\n"
     ]
    },
    {
     "name": "stderr",
     "output_type": "stream",
     "text": [
      "/Users/fabienaugsburger/Documents/GitHub/master-project-cleaned/util/gev/data_processing.py:47: SettingWithCopyWarning: \n",
      "A value is trying to be set on a copy of a slice from a DataFrame.\n",
      "Try using .loc[row_indexer,col_indexer] = value instead\n",
      "\n",
      "See the caveats in the documentation: https://pandas.pydata.org/pandas-docs/stable/user_guide/indexing.html#returning-a-view-versus-a-copy\n",
      "  climatology_df['name'] = name\n",
      "/Users/fabienaugsburger/Documents/GitHub/master-project-cleaned/util/gev/data_processing.py:44: SettingWithCopyWarning: \n",
      "A value is trying to be set on a copy of a slice from a DataFrame.\n",
      "Try using .loc[row_indexer,col_indexer] = value instead\n",
      "\n",
      "See the caveats in the documentation: https://pandas.pydata.org/pandas-docs/stable/user_guide/indexing.html#returning-a-view-versus-a-copy\n",
      "  climatology_df.loc[idx, 'cluster_n'] = cluster_value.values[0]\n"
     ]
    },
    {
     "name": "stdout",
     "output_type": "stream",
     "text": [
      "An error occurred while processing the tif file.\n",
      "Taking the file_path as a dataframe\n"
     ]
    },
    {
     "name": "stderr",
     "output_type": "stream",
     "text": [
      "/Users/fabienaugsburger/Documents/GitHub/master-project-cleaned/util/gev/data_processing.py:47: SettingWithCopyWarning: \n",
      "A value is trying to be set on a copy of a slice from a DataFrame.\n",
      "Try using .loc[row_indexer,col_indexer] = value instead\n",
      "\n",
      "See the caveats in the documentation: https://pandas.pydata.org/pandas-docs/stable/user_guide/indexing.html#returning-a-view-versus-a-copy\n",
      "  climatology_df['name'] = name\n",
      "/Users/fabienaugsburger/Documents/GitHub/master-project-cleaned/util/gev/data_processing.py:44: SettingWithCopyWarning: \n",
      "A value is trying to be set on a copy of a slice from a DataFrame.\n",
      "Try using .loc[row_indexer,col_indexer] = value instead\n",
      "\n",
      "See the caveats in the documentation: https://pandas.pydata.org/pandas-docs/stable/user_guide/indexing.html#returning-a-view-versus-a-copy\n",
      "  climatology_df.loc[idx, 'cluster_n'] = cluster_value.values[0]\n"
     ]
    },
    {
     "name": "stdout",
     "output_type": "stream",
     "text": [
      "An error occurred while processing the tif file.\n",
      "Taking the file_path as a dataframe\n"
     ]
    },
    {
     "name": "stderr",
     "output_type": "stream",
     "text": [
      "/Users/fabienaugsburger/Documents/GitHub/master-project-cleaned/util/gev/data_processing.py:47: SettingWithCopyWarning: \n",
      "A value is trying to be set on a copy of a slice from a DataFrame.\n",
      "Try using .loc[row_indexer,col_indexer] = value instead\n",
      "\n",
      "See the caveats in the documentation: https://pandas.pydata.org/pandas-docs/stable/user_guide/indexing.html#returning-a-view-versus-a-copy\n",
      "  climatology_df['name'] = name\n",
      "/Users/fabienaugsburger/Documents/GitHub/master-project-cleaned/util/gev/data_processing.py:44: SettingWithCopyWarning: \n",
      "A value is trying to be set on a copy of a slice from a DataFrame.\n",
      "Try using .loc[row_indexer,col_indexer] = value instead\n",
      "\n",
      "See the caveats in the documentation: https://pandas.pydata.org/pandas-docs/stable/user_guide/indexing.html#returning-a-view-versus-a-copy\n",
      "  climatology_df.loc[idx, 'cluster_n'] = cluster_value.values[0]\n"
     ]
    },
    {
     "name": "stdout",
     "output_type": "stream",
     "text": [
      "An error occurred while processing the tif file.\n",
      "Taking the file_path as a dataframe\n"
     ]
    },
    {
     "name": "stderr",
     "output_type": "stream",
     "text": [
      "/Users/fabienaugsburger/Documents/GitHub/master-project-cleaned/util/gev/data_processing.py:47: SettingWithCopyWarning: \n",
      "A value is trying to be set on a copy of a slice from a DataFrame.\n",
      "Try using .loc[row_indexer,col_indexer] = value instead\n",
      "\n",
      "See the caveats in the documentation: https://pandas.pydata.org/pandas-docs/stable/user_guide/indexing.html#returning-a-view-versus-a-copy\n",
      "  climatology_df['name'] = name\n",
      "/Users/fabienaugsburger/Documents/GitHub/master-project-cleaned/util/gev/data_processing.py:44: SettingWithCopyWarning: \n",
      "A value is trying to be set on a copy of a slice from a DataFrame.\n",
      "Try using .loc[row_indexer,col_indexer] = value instead\n",
      "\n",
      "See the caveats in the documentation: https://pandas.pydata.org/pandas-docs/stable/user_guide/indexing.html#returning-a-view-versus-a-copy\n",
      "  climatology_df.loc[idx, 'cluster_n'] = cluster_value.values[0]\n"
     ]
    },
    {
     "name": "stdout",
     "output_type": "stream",
     "text": [
      "An error occurred while processing the tif file.\n",
      "Taking the file_path as a dataframe\n"
     ]
    },
    {
     "name": "stderr",
     "output_type": "stream",
     "text": [
      "/Users/fabienaugsburger/Documents/GitHub/master-project-cleaned/util/gev/data_processing.py:47: SettingWithCopyWarning: \n",
      "A value is trying to be set on a copy of a slice from a DataFrame.\n",
      "Try using .loc[row_indexer,col_indexer] = value instead\n",
      "\n",
      "See the caveats in the documentation: https://pandas.pydata.org/pandas-docs/stable/user_guide/indexing.html#returning-a-view-versus-a-copy\n",
      "  climatology_df['name'] = name\n",
      "/Users/fabienaugsburger/Documents/GitHub/master-project-cleaned/util/gev/data_processing.py:44: SettingWithCopyWarning: \n",
      "A value is trying to be set on a copy of a slice from a DataFrame.\n",
      "Try using .loc[row_indexer,col_indexer] = value instead\n",
      "\n",
      "See the caveats in the documentation: https://pandas.pydata.org/pandas-docs/stable/user_guide/indexing.html#returning-a-view-versus-a-copy\n",
      "  climatology_df.loc[idx, 'cluster_n'] = cluster_value.values[0]\n"
     ]
    },
    {
     "name": "stdout",
     "output_type": "stream",
     "text": [
      "An error occurred while processing the tif file.\n",
      "Taking the file_path as a dataframe\n"
     ]
    },
    {
     "name": "stderr",
     "output_type": "stream",
     "text": [
      "/Users/fabienaugsburger/Documents/GitHub/master-project-cleaned/util/gev/data_processing.py:47: SettingWithCopyWarning: \n",
      "A value is trying to be set on a copy of a slice from a DataFrame.\n",
      "Try using .loc[row_indexer,col_indexer] = value instead\n",
      "\n",
      "See the caveats in the documentation: https://pandas.pydata.org/pandas-docs/stable/user_guide/indexing.html#returning-a-view-versus-a-copy\n",
      "  climatology_df['name'] = name\n",
      "/Users/fabienaugsburger/Documents/GitHub/master-project-cleaned/util/gev/data_processing.py:44: SettingWithCopyWarning: \n",
      "A value is trying to be set on a copy of a slice from a DataFrame.\n",
      "Try using .loc[row_indexer,col_indexer] = value instead\n",
      "\n",
      "See the caveats in the documentation: https://pandas.pydata.org/pandas-docs/stable/user_guide/indexing.html#returning-a-view-versus-a-copy\n",
      "  climatology_df.loc[idx, 'cluster_n'] = cluster_value.values[0]\n"
     ]
    },
    {
     "name": "stdout",
     "output_type": "stream",
     "text": [
      "An error occurred while processing the tif file.\n",
      "Taking the file_path as a dataframe\n"
     ]
    },
    {
     "name": "stderr",
     "output_type": "stream",
     "text": [
      "/Users/fabienaugsburger/Documents/GitHub/master-project-cleaned/util/gev/data_processing.py:47: SettingWithCopyWarning: \n",
      "A value is trying to be set on a copy of a slice from a DataFrame.\n",
      "Try using .loc[row_indexer,col_indexer] = value instead\n",
      "\n",
      "See the caveats in the documentation: https://pandas.pydata.org/pandas-docs/stable/user_guide/indexing.html#returning-a-view-versus-a-copy\n",
      "  climatology_df['name'] = name\n",
      "/Users/fabienaugsburger/Documents/GitHub/master-project-cleaned/util/gev/data_processing.py:44: SettingWithCopyWarning: \n",
      "A value is trying to be set on a copy of a slice from a DataFrame.\n",
      "Try using .loc[row_indexer,col_indexer] = value instead\n",
      "\n",
      "See the caveats in the documentation: https://pandas.pydata.org/pandas-docs/stable/user_guide/indexing.html#returning-a-view-versus-a-copy\n",
      "  climatology_df.loc[idx, 'cluster_n'] = cluster_value.values[0]\n"
     ]
    },
    {
     "name": "stdout",
     "output_type": "stream",
     "text": [
      "An error occurred while processing the tif file.\n",
      "Taking the file_path as a dataframe\n"
     ]
    },
    {
     "name": "stderr",
     "output_type": "stream",
     "text": [
      "/Users/fabienaugsburger/Documents/GitHub/master-project-cleaned/util/gev/data_processing.py:47: SettingWithCopyWarning: \n",
      "A value is trying to be set on a copy of a slice from a DataFrame.\n",
      "Try using .loc[row_indexer,col_indexer] = value instead\n",
      "\n",
      "See the caveats in the documentation: https://pandas.pydata.org/pandas-docs/stable/user_guide/indexing.html#returning-a-view-versus-a-copy\n",
      "  climatology_df['name'] = name\n",
      "/Users/fabienaugsburger/Documents/GitHub/master-project-cleaned/util/gev/data_processing.py:44: SettingWithCopyWarning: \n",
      "A value is trying to be set on a copy of a slice from a DataFrame.\n",
      "Try using .loc[row_indexer,col_indexer] = value instead\n",
      "\n",
      "See the caveats in the documentation: https://pandas.pydata.org/pandas-docs/stable/user_guide/indexing.html#returning-a-view-versus-a-copy\n",
      "  climatology_df.loc[idx, 'cluster_n'] = cluster_value.values[0]\n"
     ]
    },
    {
     "name": "stdout",
     "output_type": "stream",
     "text": [
      "An error occurred while processing the tif file.\n",
      "Taking the file_path as a dataframe\n"
     ]
    },
    {
     "name": "stderr",
     "output_type": "stream",
     "text": [
      "/Users/fabienaugsburger/Documents/GitHub/master-project-cleaned/util/gev/data_processing.py:47: SettingWithCopyWarning: \n",
      "A value is trying to be set on a copy of a slice from a DataFrame.\n",
      "Try using .loc[row_indexer,col_indexer] = value instead\n",
      "\n",
      "See the caveats in the documentation: https://pandas.pydata.org/pandas-docs/stable/user_guide/indexing.html#returning-a-view-versus-a-copy\n",
      "  climatology_df['name'] = name\n",
      "/Users/fabienaugsburger/Documents/GitHub/master-project-cleaned/util/gev/data_processing.py:44: SettingWithCopyWarning: \n",
      "A value is trying to be set on a copy of a slice from a DataFrame.\n",
      "Try using .loc[row_indexer,col_indexer] = value instead\n",
      "\n",
      "See the caveats in the documentation: https://pandas.pydata.org/pandas-docs/stable/user_guide/indexing.html#returning-a-view-versus-a-copy\n",
      "  climatology_df.loc[idx, 'cluster_n'] = cluster_value.values[0]\n"
     ]
    },
    {
     "name": "stdout",
     "output_type": "stream",
     "text": [
      "An error occurred while processing the tif file.\n",
      "Taking the file_path as a dataframe\n"
     ]
    },
    {
     "name": "stderr",
     "output_type": "stream",
     "text": [
      "/Users/fabienaugsburger/Documents/GitHub/master-project-cleaned/util/gev/data_processing.py:47: SettingWithCopyWarning: \n",
      "A value is trying to be set on a copy of a slice from a DataFrame.\n",
      "Try using .loc[row_indexer,col_indexer] = value instead\n",
      "\n",
      "See the caveats in the documentation: https://pandas.pydata.org/pandas-docs/stable/user_guide/indexing.html#returning-a-view-versus-a-copy\n",
      "  climatology_df['name'] = name\n",
      "/Users/fabienaugsburger/Documents/GitHub/master-project-cleaned/util/gev/data_processing.py:44: SettingWithCopyWarning: \n",
      "A value is trying to be set on a copy of a slice from a DataFrame.\n",
      "Try using .loc[row_indexer,col_indexer] = value instead\n",
      "\n",
      "See the caveats in the documentation: https://pandas.pydata.org/pandas-docs/stable/user_guide/indexing.html#returning-a-view-versus-a-copy\n",
      "  climatology_df.loc[idx, 'cluster_n'] = cluster_value.values[0]\n"
     ]
    },
    {
     "name": "stdout",
     "output_type": "stream",
     "text": [
      "An error occurred while processing the tif file.\n",
      "Taking the file_path as a dataframe\n"
     ]
    },
    {
     "name": "stderr",
     "output_type": "stream",
     "text": [
      "/Users/fabienaugsburger/Documents/GitHub/master-project-cleaned/util/gev/data_processing.py:47: SettingWithCopyWarning: \n",
      "A value is trying to be set on a copy of a slice from a DataFrame.\n",
      "Try using .loc[row_indexer,col_indexer] = value instead\n",
      "\n",
      "See the caveats in the documentation: https://pandas.pydata.org/pandas-docs/stable/user_guide/indexing.html#returning-a-view-versus-a-copy\n",
      "  climatology_df['name'] = name\n",
      "/Users/fabienaugsburger/Documents/GitHub/master-project-cleaned/util/gev/data_processing.py:44: SettingWithCopyWarning: \n",
      "A value is trying to be set on a copy of a slice from a DataFrame.\n",
      "Try using .loc[row_indexer,col_indexer] = value instead\n",
      "\n",
      "See the caveats in the documentation: https://pandas.pydata.org/pandas-docs/stable/user_guide/indexing.html#returning-a-view-versus-a-copy\n",
      "  climatology_df.loc[idx, 'cluster_n'] = cluster_value.values[0]\n"
     ]
    },
    {
     "name": "stdout",
     "output_type": "stream",
     "text": [
      "An error occurred while processing the tif file.\n",
      "Taking the file_path as a dataframe\n"
     ]
    },
    {
     "name": "stderr",
     "output_type": "stream",
     "text": [
      "/Users/fabienaugsburger/Documents/GitHub/master-project-cleaned/util/gev/data_processing.py:47: SettingWithCopyWarning: \n",
      "A value is trying to be set on a copy of a slice from a DataFrame.\n",
      "Try using .loc[row_indexer,col_indexer] = value instead\n",
      "\n",
      "See the caveats in the documentation: https://pandas.pydata.org/pandas-docs/stable/user_guide/indexing.html#returning-a-view-versus-a-copy\n",
      "  climatology_df['name'] = name\n",
      "/Users/fabienaugsburger/Documents/GitHub/master-project-cleaned/util/gev/data_processing.py:44: SettingWithCopyWarning: \n",
      "A value is trying to be set on a copy of a slice from a DataFrame.\n",
      "Try using .loc[row_indexer,col_indexer] = value instead\n",
      "\n",
      "See the caveats in the documentation: https://pandas.pydata.org/pandas-docs/stable/user_guide/indexing.html#returning-a-view-versus-a-copy\n",
      "  climatology_df.loc[idx, 'cluster_n'] = cluster_value.values[0]\n"
     ]
    },
    {
     "name": "stdout",
     "output_type": "stream",
     "text": [
      "An error occurred while processing the tif file.\n",
      "Taking the file_path as a dataframe\n"
     ]
    },
    {
     "name": "stderr",
     "output_type": "stream",
     "text": [
      "/Users/fabienaugsburger/Documents/GitHub/master-project-cleaned/util/gev/data_processing.py:47: SettingWithCopyWarning: \n",
      "A value is trying to be set on a copy of a slice from a DataFrame.\n",
      "Try using .loc[row_indexer,col_indexer] = value instead\n",
      "\n",
      "See the caveats in the documentation: https://pandas.pydata.org/pandas-docs/stable/user_guide/indexing.html#returning-a-view-versus-a-copy\n",
      "  climatology_df['name'] = name\n",
      "/Users/fabienaugsburger/Documents/GitHub/master-project-cleaned/util/gev/data_processing.py:44: SettingWithCopyWarning: \n",
      "A value is trying to be set on a copy of a slice from a DataFrame.\n",
      "Try using .loc[row_indexer,col_indexer] = value instead\n",
      "\n",
      "See the caveats in the documentation: https://pandas.pydata.org/pandas-docs/stable/user_guide/indexing.html#returning-a-view-versus-a-copy\n",
      "  climatology_df.loc[idx, 'cluster_n'] = cluster_value.values[0]\n"
     ]
    },
    {
     "name": "stdout",
     "output_type": "stream",
     "text": [
      "An error occurred while processing the tif file.\n",
      "Taking the file_path as a dataframe\n"
     ]
    },
    {
     "name": "stderr",
     "output_type": "stream",
     "text": [
      "/Users/fabienaugsburger/Documents/GitHub/master-project-cleaned/util/gev/data_processing.py:47: SettingWithCopyWarning: \n",
      "A value is trying to be set on a copy of a slice from a DataFrame.\n",
      "Try using .loc[row_indexer,col_indexer] = value instead\n",
      "\n",
      "See the caveats in the documentation: https://pandas.pydata.org/pandas-docs/stable/user_guide/indexing.html#returning-a-view-versus-a-copy\n",
      "  climatology_df['name'] = name\n"
     ]
    }
   ],
   "source": [
    "import pandas as pd\n",
    "\n",
    "# Example list of xarray datasets\n",
    "# Assuming `datasets` is a list of xarray datasets\n",
    "# Each dataset contains 'lon', 'lat', and a variable (e.g., 'wind_speed')\n",
    "\n",
    "dataframes = []  # To store the resulting DataFrames\n",
    "\n",
    "for ds in datasets:\n",
    "    # Extract the variable of interest (e.g., 'wind_speed')\n",
    "    variable_name = 'i10fg'  # Replace with your variable name\n",
    "    if variable_name not in ds.data_vars:\n",
    "        raise ValueError(f\"Variable '{variable_name}' not found in dataset.\")\n",
    "    \n",
    "    # Extract lon, lat, and variable\n",
    "    lon = ds['longitude'].values\n",
    "    lat = ds['latitude'].values\n",
    "    variable = ds[variable_name].values  # Assume this is a 2D or 3D array\n",
    "\n",
    "    # Create a meshgrid for lon and lat (if variable is 2D/3D)\n",
    "    lon_grid, lat_grid = np.meshgrid(lon, lat, indexing='ij')\n",
    "\n",
    "    # Flatten the arrays\n",
    "    lon_flat = lon_grid.flatten()\n",
    "    lat_flat = lat_grid.flatten()\n",
    "    variable_flat = variable.flatten()\n",
    "\n",
    "    # Create a DataFrame\n",
    "    df = pd.DataFrame({\n",
    "        'longitude': lon_flat,\n",
    "        'latitude': lat_flat,\n",
    "        variable_name: variable_flat\n",
    "    })\n",
    "\n",
    "    # Append to the list of DataFrames\n",
    "    dataframes.append(df)\n",
    "\n",
    "df_processed = []\n",
    "\n",
    "'''for df in dataframes:\n",
    "    temp = data_processing.process_daily_climatology(df, cluster_data_original, 'dm_with_storms')\n",
    "    df_processed.append(temp)'''"
   ]
  },
  {
   "cell_type": "code",
   "execution_count": 40,
   "metadata": {},
   "outputs": [
    {
     "name": "stdout",
     "output_type": "stream",
     "text": [
      "An error occurred while processing the tif file.\n",
      "Taking the file_path as a dataframe\n"
     ]
    }
   ],
   "source": [
    "file_path = dataframes[0]\n",
    "lat_min=35, \n",
    "lat_max=75, \n",
    "lon_min=-10, \n",
    "lon_max=25\n",
    "cluster_data = cluster_data_original\n",
    "name = 'dm_with_storms'\n",
    "\n",
    "climatology_df = time_series.tif_to_dataframe(file_path)#, '02_02')\n",
    "try:\n",
    "    climatology_df = climatology_df.dropna()\n",
    "except Exception as e:\n",
    "    #print(f\"Error loading {file_path}: {e}\")\n",
    "    print ('Taking the file_path as a dataframe')\n",
    "    climatology_df = file_path\n",
    "    climatology_df_no_na = climatology_df.dropna()\n",
    "\n",
    "# Filter by latitude and longitude boundaries\n",
    "climatology_df_cut_CUT = climatology_df_no_na[\n",
    "    (climatology_df_no_na['latitude'] >= lat_min) & (climatology_df_no_na['latitude'] <= lat_max) &\n",
    "    (climatology_df_no_na['longitude'] >= lon_min) & (climatology_df_no_na['longitude'] <= lon_max)\n",
    "]\n",
    "\n",
    "# Add cluster number\n",
    "for idx, row in climatology_df_cut.iterrows():\n",
    "    lat, lon = row['latitude'], row['longitude']\n",
    "    cluster_value = cluster_data.loc[\n",
    "        (cluster_data['Latitude'] == lat) & (cluster_data['Longitude'] == lon), 'cluster_n'\n",
    "    ]\n",
    "    if not cluster_value.empty:\n",
    "        climatology_df_cut.loc[idx, 'cluster_n'] = cluster_value.values[0]\n",
    "\n",
    "# Assign name\n",
    "climatology_df_cut.loc[:, 'name'] = name"
   ]
  },
  {
   "cell_type": "code",
   "execution_count": null,
   "metadata": {},
   "outputs": [
    {
     "data": {
      "text/plain": [
       "<matplotlib.collections.QuadMesh at 0x31f05a310>"
      ]
     },
     "execution_count": 72,
     "metadata": {},
     "output_type": "execute_result"
    },
    {
     "data": {
      "image/png": "[encoded data removed]",
      "text/plain": [
       "<Figure size 640x480 with 2 Axes>"
      ]
     },
     "metadata": {},
     "output_type": "display_data"
    }
   ],
   "source": [
    "datasets = depickle('data/climatology/daily_with_storms/climatology_europe_2_2.pkl')\n",
    "#datasets[0]['i10fg'].plot() \n",
    "\n",
    "tif_15 = xr.open_dataset('pre_processing/cluster/number_of_clusters/cleaned_cluster_15_v1.tif',\n",
    "                         engine='rasterio')\n",
    "test = tif_15.rename({'x': 'longitude', 'y': 'latitude'})\n",
    "test = datasets[0].where(test['band_data'] == 3)#, drop=True)\n",
    "test['i10fg'].plot()"
   ]
  },
  {
   "cell_type": "code",
   "execution_count": 83,
   "metadata": {},
   "outputs": [
    {
     "name": "stdout",
     "output_type": "stream",
     "text": [
      "No data for month 10 and day 1\n",
      "No data for month 10 and day 2\n",
      "No data for month 10 and day 3\n",
      "No data for month 10 and day 4\n",
      "No data for month 10 and day 5\n",
      "No data for month 10 and day 6\n",
      "No data for month 10 and day 7\n",
      "No data for month 10 and day 8\n",
      "No data for month 10 and day 9\n",
      "No data for month 10 and day 13\n",
      "No data for month 10 and day 14\n",
      "No data for month 10 and day 18\n",
      "No data for month 10 and day 19\n",
      "No data for month 10 and day 20\n",
      "No data for month 10 and day 21\n",
      "No data for month 10 and day 22\n",
      "No data for month 10 and day 23\n",
      "No data for month 10 and day 24\n",
      "No data for month 11 and day 2\n",
      "No data for month 11 and day 3\n",
      "No data for month 11 and day 9\n",
      "No data for month 11 and day 13\n",
      "No data for month 11 and day 14\n",
      "No data for month 11 and day 18\n",
      "No data for month 11 and day 19\n",
      "No data for month 11 and day 20\n",
      "No data for month 11 and day 21\n",
      "No data for month 11 and day 22\n",
      "No data for month 11 and day 26\n",
      "No data for month 11 and day 27\n",
      "No data for month 11 and day 28\n",
      "No data for month 11 and day 29\n",
      "No data for month 11 and day 30\n",
      "No data for month 11 and day 31\n",
      "No data for month 12 and day 1\n",
      "No data for month 12 and day 13\n",
      "No data for month 12 and day 14\n",
      "No data for month 12 and day 15\n",
      "No data for month 12 and day 21\n",
      "No data for month 12 and day 22\n",
      "No data for month 12 and day 29\n",
      "No data for month 1 and day 20\n",
      "No data for month 2 and day 5\n",
      "No data for month 2 and day 10\n",
      "No data for month 2 and day 14\n",
      "No data for month 2 and day 30\n",
      "No data for month 2 and day 31\n",
      "No data for month 3 and day 2\n",
      "No data for month 3 and day 3\n",
      "No data for month 3 and day 4\n",
      "No data for month 3 and day 5\n",
      "No data for month 3 and day 6\n",
      "No data for month 3 and day 7\n",
      "No data for month 3 and day 8\n",
      "No data for month 3 and day 9\n",
      "No data for month 3 and day 13\n",
      "No data for month 3 and day 14\n",
      "No data for month 3 and day 15\n",
      "No data for month 3 and day 19\n",
      "No data for month 3 and day 20\n",
      "No data for month 3 and day 21\n",
      "No data for month 3 and day 22\n",
      "No data for month 3 and day 23\n",
      "No data for month 3 and day 24\n",
      "No data for month 3 and day 25\n",
      "No data for month 3 and day 26\n",
      "No data for month 3 and day 27\n",
      "No data for month 3 and day 28\n",
      "No data for month 3 and day 29\n",
      "No data for month 3 and day 30\n",
      "No data for month 3 and day 31\n"
     ]
    }
   ],
   "source": [
    "import pandas as pd\n",
    "from scipy.stats import weibull_min\n",
    "\n",
    "tif_15 = xr.open_dataset('pre_processing/cluster/number_of_clusters/cleaned_cluster_15_v1.tif',\n",
    "                         engine='rasterio')\n",
    "tif_15 = tif_15.rename({'x': 'longitude', 'y': 'latitude'})\n",
    "datasets_2_1 = depickle('data/climatology/daily_with_storms/climatology_europe_2_1.pkl')\n",
    "datasets_2_2 = depickle('data/climatology/daily_with_storms/climatology_europe_2_2.pkl')\n",
    "datasets_2_3 = depickle('data/climatology/daily_with_storms/climatology_europe_2_3.pkl')\n",
    "\n",
    "datasets_3_days = []\n",
    "datasets_3_days.append(datasets_2_1)\n",
    "datasets_3_days.append(datasets_2_2)\n",
    "datasets_3_days.append(datasets_2_3)\n",
    "\n",
    "datasets_winter = []\n",
    "months = [10, 11, 12, 1, 2, 3]\n",
    "days = np.arange(1, 32)\n",
    "\n",
    "for month in months:\n",
    "    for day in days:\n",
    "        try:\n",
    "            dataset = depickle(f'data/climatology/daily_with_storms/climatology_europe_{month}_{day}.pkl')\n",
    "            datasets_winter.append(dataset)\n",
    "        except:\n",
    "            print(f'No data for month {month} and day {day}')\n",
    "\n",
    "\n",
    "cluster_n = 3\n",
    "dataset_wind_speed = []\n",
    "for dataset in datasets_winter:\n",
    "    for ds in dataset:\n",
    "        ds_cluster = ds.where(tif_15['band_data'] == 3)\n",
    "        # extract the wind speed data\n",
    "        wind_speed = ds_cluster['i10fg']\n",
    "        wind_values = wind_speed.values[~np.isnan(wind_speed.values)]\n",
    "        dataset_wind_speed.extend(wind_values)  # Append values directly into the single list\n",
    "    # change the dataset_wind_speed to a dataframe along one column\n",
    "    #df_wind_speed = pd.DataFrame(dataset_wind_speed)\n",
    "    #df_wind_speed = df_wind_speed.T\n",
    "\n",
    "pd.DataFrame(pd.unique(pd.DataFrame(dataset_wind_speed)[0])).to_csv('data/climatology/daily_with_storms/wind_speed_cluster_3_mostly_winter.csv')\n",
    "\n",
    "\n",
    "# Fit the GEV distribution\n",
    "shape, loc, scale = genextreme.fit(pd.DataFrame(pd.unique(pd.DataFrame(dataset_wind_speed)[0])))"
   ]
  },
  {
   "cell_type": "code",
   "execution_count": 81,
   "metadata": {},
   "outputs": [],
   "source": [
    "dataset_wind_speed = []\n",
    "for ds in datasets_2_2:\n",
    "    ds_cluster = ds.where(tif_15['band_data'] == 3)\n",
    "    # extract the wind speed data\n",
    "    wind_speed = ds_cluster['i10fg']\n",
    "    wind_values = wind_speed.values[~np.isnan(wind_speed.values)]\n",
    "    dataset_wind_speed.extend(wind_values)\n",
    "\n",
    "pd.DataFrame(dataset_wind_speed).to_csv('data/climatology/daily_with_storms/wind_speed_cluster_3.csv')\n",
    "shape, loc, scale = genextreme.fit(pd.DataFrame(pd.unique(pd.DataFrame(dataset_wind_speed)[0])))"
   ]
  },
  {
   "cell_type": "code",
   "execution_count": 44,
   "metadata": {},
   "outputs": [],
   "source": [
    "cluster_data_original = pd.read_csv('pre_processing/cluster/number_of_clusters/cleaned_cluster_15_v1.csv')\n",
    "vivian = data_processing.process_daily_climatology('data/time_series_rasters_storms_15h/5_VIVIAN.tif', cluster_data_original, 'VIVIAN')\n",
    "vivian_subset = vivian[vivian['cluster_n'] == cluster_n]['wind_speed_None']\n",
    "max_vivian = vivian_subset.max()\n"
   ]
  },
  {
   "cell_type": "code",
   "execution_count": 84,
   "metadata": {},
   "outputs": [
    {
     "data": {
      "image/png": "[encoded data removed]",
      "text/plain": [
       "<Figure size 640x480 with 1 Axes>"
      ]
     },
     "metadata": {},
     "output_type": "display_data"
    },
    {
     "name": "stdout",
     "output_type": "stream",
     "text": [
      "Return Period of Max Vivian Wind Gust: 12700.19 years\n"
     ]
    }
   ],
   "source": [
    "# plot the distribution\n",
    "fig, ax = plt.subplots()\n",
    "ax.hist(dataset_wind_speed, bins=50, density=True, alpha=0.6)\n",
    "xmin, xmax = plt.xlim()\n",
    "x = np.linspace(xmin, xmax, 1000)\n",
    "p = genextreme.pdf(x, shape, loc, scale)\n",
    "ax.plot(x, p, 'k', linewidth=2)\n",
    "plt.axvline(max_vivian, color='red', linestyle='--', label=f\"Max Vivian ({max_vivian:.2f} m/s)\")\n",
    "plt.legend()\n",
    "title = \"Fit results: shape=%.2f, loc=%.2f, scale=%.2f\" % (shape, loc, scale)\n",
    "ax.set_title(title)\n",
    "\n",
    "plt.show()\n",
    "\n",
    "# Compute return period for max_vivian\n",
    "cdf_max_vivian = genextreme.cdf(max_vivian, shape, loc=loc, scale=scale)\n",
    "return_period = 1 / (1 - cdf_max_vivian)\n",
    "print(f\"Return Period of Max Vivian Wind Gust: {return_period:.2f} years\")"
   ]
  },
  {
   "cell_type": "code",
   "execution_count": 51,
   "metadata": {},
   "outputs": [
    {
     "data": {
      "text/plain": [
       "<matplotlib.collections.QuadMesh at 0x1740cff10>"
      ]
     },
     "execution_count": 51,
     "metadata": {},
     "output_type": "execute_result"
    },
    {
     "data": {
      "image/png": "[encoded data removed]",
      "text/plain": [
       "<Figure size 640x480 with 2 Axes>"
      ]
     },
     "metadata": {},
     "output_type": "display_data"
    }
   ],
   "source": [
    "i10fg = wind_speed.values[~np.isnan(wind_speed.values)]\n",
    "wind_speed.plot()"
   ]
  }
 ],
 "metadata": {
  "kernelspec": {
   "display_name": "master",
   "language": "python",
   "name": "python3"
  },
  "language_info": {
   "codemirror_mode": {
    "name": "ipython",
    "version": 3
   },
   "file_extension": ".py",
   "mimetype": "text/x-python",
   "name": "python",
   "nbconvert_exporter": "python",
   "pygments_lexer": "ipython3",
   "version": "3.11.9"
  }
 },
 "nbformat": 4,
 "nbformat_minor": 2
}

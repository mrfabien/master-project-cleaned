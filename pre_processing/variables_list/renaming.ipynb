{
 "cells": [
  {
   "cell_type": "code",
   "execution_count": 2,
   "metadata": {},
   "outputs": [],
   "source": [
    "import xarray as xr\n",
    "\n",
    "test = xr.open_dataset('/Users/fabienaugsburger/Downloads/e5.oper.an.sfc.128_231_ishf.ll025sc.1990010100_1990013123.nc')"
   ]
  },
  {
   "cell_type": "code",
   "execution_count": null,
   "metadata": {},
   "outputs": [
    {
     "ename": "FileNotFoundError",
     "evalue": "[Errno 2] No such file or directory: '/Users/fabienaugsburger/Downloads/e5.oper.an.sfc.128_231_ishf.ll025sc.1990010100_1990013123.nc' -> '/Users/fabienaugsburger/Bureau/ERA5_1990_01_surface_sensible_heat_flux.nc'",
     "output_type": "error",
     "traceback": [
      "\u001b[0;31m---------------------------------------------------------------------------\u001b[0m",
      "\u001b[0;31mFileNotFoundError\u001b[0m                         Traceback (most recent call last)",
      "Cell \u001b[0;32mIn[7], line 19\u001b[0m\n\u001b[1;32m     16\u001b[0m     new_filename \u001b[38;5;241m=\u001b[39m \u001b[38;5;124mf\u001b[39m\u001b[38;5;124m\"\u001b[39m\u001b[38;5;124mERA5_\u001b[39m\u001b[38;5;132;01m{\u001b[39;00myear\u001b[38;5;132;01m}\u001b[39;00m\u001b[38;5;124m_\u001b[39m\u001b[38;5;132;01m{\u001b[39;00mmonth\u001b[38;5;132;01m}\u001b[39;00m\u001b[38;5;124m_surface_sensible_heat_flux.nc\u001b[39m\u001b[38;5;124m\"\u001b[39m\n\u001b[1;32m     18\u001b[0m     \u001b[38;5;66;03m# Renaming the file\u001b[39;00m\n\u001b[0;32m---> 19\u001b[0m     os\u001b[38;5;241m.\u001b[39mrename(\u001b[38;5;124mf\u001b[39m\u001b[38;5;124m'\u001b[39m\u001b[38;5;132;01m{\u001b[39;00mpath\u001b[38;5;132;01m}\u001b[39;00m\u001b[38;5;124m/\u001b[39m\u001b[38;5;132;01m{\u001b[39;00moriginal_filename\u001b[38;5;132;01m}\u001b[39;00m\u001b[38;5;124m'\u001b[39m, \u001b[38;5;124mf\u001b[39m\u001b[38;5;124m'\u001b[39m\u001b[38;5;132;01m{\u001b[39;00mpath_to_rename\u001b[38;5;132;01m}\u001b[39;00m\u001b[38;5;124m/\u001b[39m\u001b[38;5;132;01m{\u001b[39;00mnew_filename\u001b[38;5;132;01m}\u001b[39;00m\u001b[38;5;124m'\u001b[39m)\n\u001b[1;32m     21\u001b[0m     \u001b[38;5;28mprint\u001b[39m(\u001b[38;5;124mf\u001b[39m\u001b[38;5;124m\"\u001b[39m\u001b[38;5;124mFile renamed to: \u001b[39m\u001b[38;5;132;01m{\u001b[39;00mnew_filename\u001b[38;5;132;01m}\u001b[39;00m\u001b[38;5;124m\"\u001b[39m)\n\u001b[1;32m     22\u001b[0m \u001b[38;5;28;01melse\u001b[39;00m:\n",
      "\u001b[0;31mFileNotFoundError\u001b[0m: [Errno 2] No such file or directory: '/Users/fabienaugsburger/Downloads/e5.oper.an.sfc.128_231_ishf.ll025sc.1990010100_1990013123.nc' -> '/Users/fabienaugsburger/Bureau/ERA5_1990_01_surface_sensible_heat_flux.nc'"
     ]
    }
   ],
   "source": [
    "import re\n",
    "import os\n",
    "\n",
    "original_filename = 'e5.oper.an.sfc.128_231_ishf.ll025sc.1990010100_1990013123.nc'\n",
    "path = '/Users/fabienaugsburger/Downloads'\n",
    "path_to_rename = '/Users/fabienaugsburger/Bureau'\n",
    "\n",
    "# Regular expression to extract year and month\n",
    "match = re.search(r'(\\d{4})(\\d{2})', original_filename)\n",
    "\n",
    "if match:\n",
    "    year = match.group(1)  # Extract year\n",
    "    month = match.group(2)  # Extract month\n",
    "    \n",
    "    # Create new filename based on the detected year and month\n",
    "    new_filename = f\"ERA5_{year}_{month}_surface_sensible_heat_flux.nc\"\n",
    "    \n",
    "    # Renaming the file\n",
    "    os.rename(f'{path}/{original_filename}', f'{path}/{new_filename}')\n",
    "    \n",
    "    print(f\"File renamed to: {new_filename}\")\n",
    "else:\n",
    "    print(\"Year and month not found in the filename.\")"
   ]
  },
  {
   "cell_type": "code",
   "execution_count": null,
   "metadata": {},
   "outputs": [],
   "source": [
    "# rename the nc file to ERA5_1990_01_surface_sensible_heat_flux.nc\n",
    "\n",
    "# detect which year and month the file is from\n",
    "# extract the year and month from the file name\n",
    "# create a new file name with the year and month in the file name\n",
    "\n",
    "# save the file with the new name\n",
    "\n",
    "# repeat for all files in the folder\n",
    "\n"
   ]
  }
 ],
 "metadata": {
  "kernelspec": {
   "display_name": "master",
   "language": "python",
   "name": "python3"
  },
  "language_info": {
   "codemirror_mode": {
    "name": "ipython",
    "version": 3
   },
   "file_extension": ".py",
   "mimetype": "text/x-python",
   "name": "python",
   "nbconvert_exporter": "python",
   "pygments_lexer": "ipython3",
   "version": "undefined.undefined.undefined"
  }
 },
 "nbformat": 4,
 "nbformat_minor": 2
}

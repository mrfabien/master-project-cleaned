{
  "cells": [
    {
      "cell_type": "markdown",
      "metadata": {
        "id": "D0moAoFIzCFV"
      },
      "source": [
        "# Code to process winter storm information\n",
        "\n",
        "$\\textbf{Introduction}$: The notebook contains code to process the input and output data for the European winter storm severe winds project. Specifically, we introduce a basic nested PC (Principal Components) Regression model with dropouts, and a Variational Encoder-Decoder (VEDs) to predict the quantile function (inversed CDF) of maximum surface wind gusts\n",
        "\n",
        "The quantile function can be calculated from a given Cumulative Distribution Function (CDF) with the following equation:\n",
        "\n",
        "$ Q = log_{10} (1 - CDF) $\n",
        "\n",
        "The quantile function is particularly useful for our project because it accentuates the difference in distribution tail values. This property is useful in our context of predicting probabilities of rare severe winds in winter storms."
      ]
    },
    {
      "cell_type": "markdown",
      "metadata": {
        "id": "gcmreaBi3Q5x"
      },
      "source": [
        "## Import relevant packages and data"
      ]
    },
    {
      "cell_type": "code",
      "execution_count": 1,
      "metadata": {
        "colab": {
          "base_uri": "https://localhost:8080/"
        },
        "id": "qa4qlthVI1tr",
        "outputId": "cbc13a30-9a19-40cf-ecac-946c71861d40"
      },
      "outputs": [
        {
          "name": "stdout",
          "output_type": "stream",
          "text": [
            "Requirement already satisfied: optuna in c:\\users\\fabau\\anaconda3\\envs\\tensor\\lib\\site-packages (3.6.1)\n",
            "Requirement already satisfied: alembic>=1.5.0 in c:\\users\\fabau\\anaconda3\\envs\\tensor\\lib\\site-packages (from optuna) (1.13.1)\n",
            "Requirement already satisfied: colorlog in c:\\users\\fabau\\anaconda3\\envs\\tensor\\lib\\site-packages (from optuna) (6.8.2)\n",
            "Requirement already satisfied: numpy in c:\\users\\fabau\\anaconda3\\envs\\tensor\\lib\\site-packages (from optuna) (1.26.4)\n",
            "Requirement already satisfied: packaging>=20.0 in c:\\users\\fabau\\appdata\\roaming\\python\\python310\\site-packages (from optuna) (23.1)\n",
            "Requirement already satisfied: sqlalchemy>=1.3.0 in c:\\users\\fabau\\anaconda3\\envs\\tensor\\lib\\site-packages (from optuna) (2.0.31)\n",
            "Requirement already satisfied: tqdm in c:\\users\\fabau\\anaconda3\\envs\\tensor\\lib\\site-packages (from optuna) (4.66.4)\n",
            "Requirement already satisfied: PyYAML in c:\\users\\fabau\\anaconda3\\envs\\tensor\\lib\\site-packages (from optuna) (6.0.1)\n",
            "Requirement already satisfied: Mako in c:\\users\\fabau\\anaconda3\\envs\\tensor\\lib\\site-packages (from alembic>=1.5.0->optuna) (1.3.5)\n",
            "Requirement already satisfied: typing-extensions>=4 in c:\\users\\fabau\\anaconda3\\envs\\tensor\\lib\\site-packages (from alembic>=1.5.0->optuna) (4.11.0)\n",
            "Requirement already satisfied: greenlet!=0.4.17 in c:\\users\\fabau\\anaconda3\\envs\\tensor\\lib\\site-packages (from sqlalchemy>=1.3.0->optuna) (3.0.3)\n",
            "Requirement already satisfied: colorama in c:\\users\\fabau\\appdata\\roaming\\python\\python310\\site-packages (from colorlog->optuna) (0.4.6)\n",
            "Requirement already satisfied: MarkupSafe>=0.9.2 in c:\\users\\fabau\\anaconda3\\envs\\tensor\\lib\\site-packages (from Mako->alembic>=1.5.0->optuna) (2.1.3)\n"
          ]
        }
      ],
      "source": [
        "! pip install optuna"
      ]
    },
    {
      "cell_type": "code",
      "execution_count": 1,
      "metadata": {
        "id": "AygV5YB0yXjq"
      },
      "outputs": [
        {
          "ename": "ImportError",
          "evalue": "dlopen(/Users/fabienaugsburger/anaconda3/envs/tensor_flow/lib/python3.11/site-packages/PIL/_imaging.cpython-311-darwin.so, 0x0002): Library not loaded: @rpath/libtiff.5.dylib\n  Referenced from: <0B366E58-2F25-3184-8E32-08DC64B33F7F> /Users/fabienaugsburger/anaconda3/envs/tensor_flow/lib/python3.11/site-packages/PIL/_imaging.cpython-311-darwin.so\n  Reason: tried: '/Users/fabienaugsburger/anaconda3/envs/tensor_flow/lib/python3.11/site-packages/PIL/../../../libtiff.5.dylib' (no such file), '/Users/fabienaugsburger/anaconda3/envs/tensor_flow/lib/python3.11/site-packages/PIL/../../../libtiff.5.dylib' (no such file), '/Users/fabienaugsburger/anaconda3/envs/tensor_flow/bin/../lib/libtiff.5.dylib' (no such file), '/Users/fabienaugsburger/anaconda3/envs/tensor_flow/bin/../lib/libtiff.5.dylib' (no such file), '/usr/local/lib/libtiff.5.dylib' (no such file), '/usr/lib/libtiff.5.dylib' (no such file, not in dyld cache)",
          "output_type": "error",
          "traceback": [
            "\u001b[0;31m---------------------------------------------------------------------------\u001b[0m",
            "\u001b[0;31mImportError\u001b[0m                               Traceback (most recent call last)",
            "Cell \u001b[0;32mIn[1], line 9\u001b[0m\n\u001b[1;32m      7\u001b[0m \u001b[38;5;28;01mfrom\u001b[39;00m \u001b[38;5;21;01msklearn\u001b[39;00m\u001b[38;5;21;01m.\u001b[39;00m\u001b[38;5;21;01mpreprocessing\u001b[39;00m \u001b[38;5;28;01mimport\u001b[39;00m StandardScaler\n\u001b[1;32m      8\u001b[0m \u001b[38;5;28;01mimport\u001b[39;00m \u001b[38;5;21;01mpandas\u001b[39;00m \u001b[38;5;28;01mas\u001b[39;00m \u001b[38;5;21;01mpd\u001b[39;00m\n\u001b[0;32m----> 9\u001b[0m \u001b[38;5;28;01mimport\u001b[39;00m \u001b[38;5;21;01mmatplotlib\u001b[39;00m\u001b[38;5;21;01m.\u001b[39;00m\u001b[38;5;21;01mpyplot\u001b[39;00m \u001b[38;5;28;01mas\u001b[39;00m \u001b[38;5;21;01mplt\u001b[39;00m\n\u001b[1;32m     10\u001b[0m \u001b[38;5;28;01mimport\u001b[39;00m \u001b[38;5;21;01moptuna\u001b[39;00m\n\u001b[1;32m     11\u001b[0m \u001b[38;5;28;01mimport\u001b[39;00m \u001b[38;5;21;01mos\u001b[39;00m\n",
            "File \u001b[0;32m~/anaconda3/envs/tensor_flow/lib/python3.11/site-packages/matplotlib/__init__.py:159\u001b[0m\n\u001b[1;32m    155\u001b[0m \u001b[38;5;28;01mfrom\u001b[39;00m \u001b[38;5;21;01mpackaging\u001b[39;00m\u001b[38;5;21;01m.\u001b[39;00m\u001b[38;5;21;01mversion\u001b[39;00m \u001b[38;5;28;01mimport\u001b[39;00m parse \u001b[38;5;28;01mas\u001b[39;00m parse_version\n\u001b[1;32m    157\u001b[0m \u001b[38;5;66;03m# cbook must import matplotlib only within function\u001b[39;00m\n\u001b[1;32m    158\u001b[0m \u001b[38;5;66;03m# definitions, so it is safe to import from it here.\u001b[39;00m\n\u001b[0;32m--> 159\u001b[0m \u001b[38;5;28;01mfrom\u001b[39;00m \u001b[38;5;21;01m.\u001b[39;00m \u001b[38;5;28;01mimport\u001b[39;00m _api, _version, cbook, _docstring, rcsetup\n\u001b[1;32m    160\u001b[0m \u001b[38;5;28;01mfrom\u001b[39;00m \u001b[38;5;21;01mmatplotlib\u001b[39;00m\u001b[38;5;21;01m.\u001b[39;00m\u001b[38;5;21;01mcbook\u001b[39;00m \u001b[38;5;28;01mimport\u001b[39;00m sanitize_sequence\n\u001b[1;32m    161\u001b[0m \u001b[38;5;28;01mfrom\u001b[39;00m \u001b[38;5;21;01mmatplotlib\u001b[39;00m\u001b[38;5;21;01m.\u001b[39;00m\u001b[38;5;21;01m_api\u001b[39;00m \u001b[38;5;28;01mimport\u001b[39;00m MatplotlibDeprecationWarning\n",
            "File \u001b[0;32m~/anaconda3/envs/tensor_flow/lib/python3.11/site-packages/matplotlib/rcsetup.py:28\u001b[0m\n\u001b[1;32m     26\u001b[0m \u001b[38;5;28;01mfrom\u001b[39;00m \u001b[38;5;21;01mmatplotlib\u001b[39;00m\u001b[38;5;21;01m.\u001b[39;00m\u001b[38;5;21;01mbackends\u001b[39;00m \u001b[38;5;28;01mimport\u001b[39;00m BackendFilter, backend_registry\n\u001b[1;32m     27\u001b[0m \u001b[38;5;28;01mfrom\u001b[39;00m \u001b[38;5;21;01mmatplotlib\u001b[39;00m\u001b[38;5;21;01m.\u001b[39;00m\u001b[38;5;21;01mcbook\u001b[39;00m \u001b[38;5;28;01mimport\u001b[39;00m ls_mapper\n\u001b[0;32m---> 28\u001b[0m \u001b[38;5;28;01mfrom\u001b[39;00m \u001b[38;5;21;01mmatplotlib\u001b[39;00m\u001b[38;5;21;01m.\u001b[39;00m\u001b[38;5;21;01mcolors\u001b[39;00m \u001b[38;5;28;01mimport\u001b[39;00m Colormap, is_color_like\n\u001b[1;32m     29\u001b[0m \u001b[38;5;28;01mfrom\u001b[39;00m \u001b[38;5;21;01mmatplotlib\u001b[39;00m\u001b[38;5;21;01m.\u001b[39;00m\u001b[38;5;21;01m_fontconfig_pattern\u001b[39;00m \u001b[38;5;28;01mimport\u001b[39;00m parse_fontconfig_pattern\n\u001b[1;32m     30\u001b[0m \u001b[38;5;28;01mfrom\u001b[39;00m \u001b[38;5;21;01mmatplotlib\u001b[39;00m\u001b[38;5;21;01m.\u001b[39;00m\u001b[38;5;21;01m_enums\u001b[39;00m \u001b[38;5;28;01mimport\u001b[39;00m JoinStyle, CapStyle\n",
            "File \u001b[0;32m~/anaconda3/envs/tensor_flow/lib/python3.11/site-packages/matplotlib/colors.py:52\u001b[0m\n\u001b[1;32m     49\u001b[0m \u001b[38;5;28;01mfrom\u001b[39;00m \u001b[38;5;21;01mnumbers\u001b[39;00m \u001b[38;5;28;01mimport\u001b[39;00m Real\n\u001b[1;32m     50\u001b[0m \u001b[38;5;28;01mimport\u001b[39;00m \u001b[38;5;21;01mre\u001b[39;00m\n\u001b[0;32m---> 52\u001b[0m \u001b[38;5;28;01mfrom\u001b[39;00m \u001b[38;5;21;01mPIL\u001b[39;00m \u001b[38;5;28;01mimport\u001b[39;00m Image\n\u001b[1;32m     53\u001b[0m \u001b[38;5;28;01mfrom\u001b[39;00m \u001b[38;5;21;01mPIL\u001b[39;00m\u001b[38;5;21;01m.\u001b[39;00m\u001b[38;5;21;01mPngImagePlugin\u001b[39;00m \u001b[38;5;28;01mimport\u001b[39;00m PngInfo\n\u001b[1;32m     55\u001b[0m \u001b[38;5;28;01mimport\u001b[39;00m \u001b[38;5;21;01mmatplotlib\u001b[39;00m \u001b[38;5;28;01mas\u001b[39;00m \u001b[38;5;21;01mmpl\u001b[39;00m\n",
            "File \u001b[0;32m~/anaconda3/envs/tensor_flow/lib/python3.11/site-packages/PIL/Image.py:88\u001b[0m\n\u001b[1;32m     79\u001b[0m MAX_IMAGE_PIXELS: \u001b[38;5;28mint\u001b[39m \u001b[38;5;241m|\u001b[39m \u001b[38;5;28;01mNone\u001b[39;00m \u001b[38;5;241m=\u001b[39m \u001b[38;5;28mint\u001b[39m(\u001b[38;5;241m1024\u001b[39m \u001b[38;5;241m*\u001b[39m \u001b[38;5;241m1024\u001b[39m \u001b[38;5;241m*\u001b[39m \u001b[38;5;241m1024\u001b[39m \u001b[38;5;241m/\u001b[39m\u001b[38;5;241m/\u001b[39m \u001b[38;5;241m4\u001b[39m \u001b[38;5;241m/\u001b[39m\u001b[38;5;241m/\u001b[39m \u001b[38;5;241m3\u001b[39m)\n\u001b[1;32m     82\u001b[0m \u001b[38;5;28;01mtry\u001b[39;00m:\n\u001b[1;32m     83\u001b[0m     \u001b[38;5;66;03m# If the _imaging C module is not present, Pillow will not load.\u001b[39;00m\n\u001b[1;32m     84\u001b[0m     \u001b[38;5;66;03m# Note that other modules should not refer to _imaging directly;\u001b[39;00m\n\u001b[1;32m     85\u001b[0m     \u001b[38;5;66;03m# import Image and use the Image.core variable instead.\u001b[39;00m\n\u001b[1;32m     86\u001b[0m     \u001b[38;5;66;03m# Also note that Image.core is not a publicly documented interface,\u001b[39;00m\n\u001b[1;32m     87\u001b[0m     \u001b[38;5;66;03m# and should be considered private and subject to change.\u001b[39;00m\n\u001b[0;32m---> 88\u001b[0m     \u001b[38;5;28;01mfrom\u001b[39;00m \u001b[38;5;21;01m.\u001b[39;00m \u001b[38;5;28;01mimport\u001b[39;00m _imaging \u001b[38;5;28;01mas\u001b[39;00m core\n\u001b[1;32m     90\u001b[0m     \u001b[38;5;28;01mif\u001b[39;00m __version__ \u001b[38;5;241m!=\u001b[39m \u001b[38;5;28mgetattr\u001b[39m(core, \u001b[38;5;124m\"\u001b[39m\u001b[38;5;124mPILLOW_VERSION\u001b[39m\u001b[38;5;124m\"\u001b[39m, \u001b[38;5;28;01mNone\u001b[39;00m):\n\u001b[1;32m     91\u001b[0m         msg \u001b[38;5;241m=\u001b[39m (\n\u001b[1;32m     92\u001b[0m             \u001b[38;5;124m\"\u001b[39m\u001b[38;5;124mThe _imaging extension was built for another version of Pillow or PIL:\u001b[39m\u001b[38;5;130;01m\\n\u001b[39;00m\u001b[38;5;124m\"\u001b[39m\n\u001b[1;32m     93\u001b[0m             \u001b[38;5;124mf\u001b[39m\u001b[38;5;124m\"\u001b[39m\u001b[38;5;124mCore version: \u001b[39m\u001b[38;5;132;01m{\u001b[39;00m\u001b[38;5;28mgetattr\u001b[39m(core,\u001b[38;5;250m \u001b[39m\u001b[38;5;124m'\u001b[39m\u001b[38;5;124mPILLOW_VERSION\u001b[39m\u001b[38;5;124m'\u001b[39m,\u001b[38;5;250m \u001b[39m\u001b[38;5;28;01mNone\u001b[39;00m)\u001b[38;5;132;01m}\u001b[39;00m\u001b[38;5;130;01m\\n\u001b[39;00m\u001b[38;5;124m\"\u001b[39m\n\u001b[1;32m     94\u001b[0m             \u001b[38;5;124mf\u001b[39m\u001b[38;5;124m\"\u001b[39m\u001b[38;5;124mPillow version: \u001b[39m\u001b[38;5;132;01m{\u001b[39;00m__version__\u001b[38;5;132;01m}\u001b[39;00m\u001b[38;5;124m\"\u001b[39m\n\u001b[1;32m     95\u001b[0m         )\n",
            "\u001b[0;31mImportError\u001b[0m: dlopen(/Users/fabienaugsburger/anaconda3/envs/tensor_flow/lib/python3.11/site-packages/PIL/_imaging.cpython-311-darwin.so, 0x0002): Library not loaded: @rpath/libtiff.5.dylib\n  Referenced from: <0B366E58-2F25-3184-8E32-08DC64B33F7F> /Users/fabienaugsburger/anaconda3/envs/tensor_flow/lib/python3.11/site-packages/PIL/_imaging.cpython-311-darwin.so\n  Reason: tried: '/Users/fabienaugsburger/anaconda3/envs/tensor_flow/lib/python3.11/site-packages/PIL/../../../libtiff.5.dylib' (no such file), '/Users/fabienaugsburger/anaconda3/envs/tensor_flow/lib/python3.11/site-packages/PIL/../../../libtiff.5.dylib' (no such file), '/Users/fabienaugsburger/anaconda3/envs/tensor_flow/bin/../lib/libtiff.5.dylib' (no such file), '/Users/fabienaugsburger/anaconda3/envs/tensor_flow/bin/../lib/libtiff.5.dylib' (no such file), '/usr/local/lib/libtiff.5.dylib' (no such file), '/usr/lib/libtiff.5.dylib' (no such file, not in dyld cache)"
          ]
        }
      ],
      "source": [
        "import numpy as np\n",
        "import torch\n",
        "import torch.nn as nn\n",
        "import torch.nn.functional as F\n",
        "import torch.optim as optim\n",
        "from torch.utils.data import DataLoader, TensorDataset\n",
        "from sklearn.preprocessing import StandardScaler\n",
        "import pandas as pd\n",
        "import matplotlib.pyplot as plt\n",
        "import optuna\n",
        "import os\n",
        "import sys\n",
        "\n",
        "operating_system = 'mac'\n",
        "\n",
        "if operating_system == 'win':\n",
        "    os.chdir('C:/Users/fabau/OneDrive/Documents/GitHub/master-project-cleaned/')\n",
        "elif operating_system == 'curnagl':\n",
        "    os.chdir('/work/FAC/FGSE/IDYST/tbeucler/default/fabien/repos/cleaner_version/')\n",
        "else:\n",
        "    os.chdir('/Users/fabienaugsburger/Documents/GitHub/master-project-cleaned/')\n",
        "\n",
        "util_perso = os.path.abspath(r'util\\processing')\n",
        "sys.path.append(util_perso)\n",
        "\n",
        "from extraction_squares import split_storm_numbers"
      ]
    },
    {
      "cell_type": "code",
      "execution_count": 5,
      "metadata": {
        "id": "5UqGTOD13nMA"
      },
      "outputs": [],
      "source": [
        "# Read the csv files for training time series (inputs)\n",
        "all_input = pd.read_csv('./all_pca.csv')\n",
        "\n",
        "# Read the csv files for processed quantile function outputs\n",
        "output_quantile = pd.read_csv('./log_cdf_max_combined.csv')\n",
        "output_quantile = output_quantile.drop(columns=['Unnamed: 0'])"
      ]
    },
    {
      "cell_type": "markdown",
      "metadata": {
        "id": "qENqnFDQ54tY"
      },
      "source": [
        "## Check data\n",
        "Let's do a prelimiary check to familiarize ourselves with the data first. What informations are stored in the csv files?"
      ]
    },
    {
      "cell_type": "code",
      "execution_count": 6,
      "metadata": {
        "colab": {
          "base_uri": "https://localhost:8080/"
        },
        "id": "u3PKgyyw52e2",
        "outputId": "742aa67e-d363-4b45-9ad0-5515f93877a7"
      },
      "outputs": [
        {
          "name": "stdout",
          "output_type": "stream",
          "text": [
            "<class 'pandas.core.frame.DataFrame'>\n",
            "RangeIndex: 23184 entries, 0 to 23183\n",
            "Data columns (total 26 columns):\n",
            " #   Column        Non-Null Count  Dtype  \n",
            "---  ------        --------------  -----  \n",
            " 0   storm_number  23184 non-null  int64  \n",
            " 1   variable      23184 non-null  object \n",
            " 2   PCA_1         23184 non-null  float64\n",
            " 3   PCA_2         17766 non-null  float64\n",
            " 4   PCA_3         16569 non-null  float64\n",
            " 5   PCA_4         12537 non-null  float64\n",
            " 6   PCA_5         10962 non-null  float64\n",
            " 7   PCA_6         10080 non-null  float64\n",
            " 8   PCA_7         8694 non-null   float64\n",
            " 9   PCA_8         7623 non-null   float64\n",
            " 10  PCA_9         6300 non-null   float64\n",
            " 11  PCA_10        5229 non-null   float64\n",
            " 12  PCA_11        4410 non-null   float64\n",
            " 13  PCA_12        4032 non-null   float64\n",
            " 14  PCA_13        3150 non-null   float64\n",
            " 15  PCA_14        2646 non-null   float64\n",
            " 16  PCA_15        2079 non-null   float64\n",
            " 17  PCA_16        693 non-null    float64\n",
            " 18  PCA_17        441 non-null    float64\n",
            " 19  PCA_18        378 non-null    float64\n",
            " 20  PCA_19        126 non-null    float64\n",
            " 21  PCA_20        126 non-null    float64\n",
            " 22  PCA_21        126 non-null    float64\n",
            " 23  PCA_22        63 non-null     float64\n",
            " 24  PCA_23        63 non-null     float64\n",
            " 25  PCA_24        63 non-null     float64\n",
            "dtypes: float64(24), int64(1), object(1)\n",
            "memory usage: 4.6+ MB\n"
          ]
        }
      ],
      "source": [
        "all_input.info()"
      ]
    },
    {
      "cell_type": "markdown",
      "metadata": {
        "id": "qWlEFGVO6ufF"
      },
      "source": [
        "The input csv files contain entries of different PC loadings associated with a particular physical variable. In this case, we see 3 different loadings associated with maximum 1000 hPa geopotential heights. Each row entry represents the time series shape characteristics for 1 storm."
      ]
    },
    {
      "cell_type": "code",
      "execution_count": 7,
      "metadata": {
        "colab": {
          "base_uri": "https://localhost:8080/",
          "height": 424
        },
        "id": "5QwneCW16SEd",
        "outputId": "645126af-512a-456c-e676-d086bdae6eff"
      },
      "outputs": [
        {
          "data": {
            "text/html": [
              "<div>\n",
              "<style scoped>\n",
              "    .dataframe tbody tr th:only-of-type {\n",
              "        vertical-align: middle;\n",
              "    }\n",
              "\n",
              "    .dataframe tbody tr th {\n",
              "        vertical-align: top;\n",
              "    }\n",
              "\n",
              "    .dataframe thead th {\n",
              "        text-align: right;\n",
              "    }\n",
              "</style>\n",
              "<table border=\"1\" class=\"dataframe\">\n",
              "  <thead>\n",
              "    <tr style=\"text-align: right;\">\n",
              "      <th></th>\n",
              "      <th>storm_number</th>\n",
              "      <th>storm_name</th>\n",
              "      <th>cluster_0</th>\n",
              "      <th>cluster_1</th>\n",
              "      <th>cluster_2</th>\n",
              "      <th>cluster_3</th>\n",
              "      <th>cluster_4</th>\n",
              "      <th>cluster_5</th>\n",
              "      <th>cluster_6</th>\n",
              "      <th>cluster_7</th>\n",
              "      <th>cluster_8</th>\n",
              "      <th>cluster_9</th>\n",
              "      <th>cluster_10</th>\n",
              "      <th>cluster_11</th>\n",
              "      <th>cluster_12</th>\n",
              "      <th>cluster_13</th>\n",
              "      <th>cluster_14</th>\n",
              "    </tr>\n",
              "  </thead>\n",
              "  <tbody>\n",
              "    <tr>\n",
              "      <th>0</th>\n",
              "      <td>9</td>\n",
              "      <td>C3S_STORM_TRACKS_ERA5</td>\n",
              "      <td>1.488954</td>\n",
              "      <td>1.250388</td>\n",
              "      <td>0.380618</td>\n",
              "      <td>1.935491</td>\n",
              "      <td>0.699998</td>\n",
              "      <td>0.792000</td>\n",
              "      <td>5.247844</td>\n",
              "      <td>2.087615</td>\n",
              "      <td>0.184377</td>\n",
              "      <td>0.598205</td>\n",
              "      <td>0.871613</td>\n",
              "      <td>1.370565</td>\n",
              "      <td>1.234141</td>\n",
              "      <td>1.991662</td>\n",
              "      <td>0.644461</td>\n",
              "    </tr>\n",
              "    <tr>\n",
              "      <th>1</th>\n",
              "      <td>35</td>\n",
              "      <td>C3S_STORM_TRACKS_ERA5</td>\n",
              "      <td>1.137745</td>\n",
              "      <td>0.711018</td>\n",
              "      <td>1.567827</td>\n",
              "      <td>2.084789</td>\n",
              "      <td>0.821490</td>\n",
              "      <td>0.400187</td>\n",
              "      <td>2.111582</td>\n",
              "      <td>0.319745</td>\n",
              "      <td>0.382948</td>\n",
              "      <td>0.103998</td>\n",
              "      <td>1.400420</td>\n",
              "      <td>2.058132</td>\n",
              "      <td>2.002799</td>\n",
              "      <td>0.173682</td>\n",
              "      <td>1.112621</td>\n",
              "    </tr>\n",
              "    <tr>\n",
              "      <th>2</th>\n",
              "      <td>82</td>\n",
              "      <td>C3S_STORM_TRACKS_ERA5</td>\n",
              "      <td>2.269466</td>\n",
              "      <td>1.354909</td>\n",
              "      <td>1.512206</td>\n",
              "      <td>1.765846</td>\n",
              "      <td>1.467819</td>\n",
              "      <td>2.437863</td>\n",
              "      <td>4.580985</td>\n",
              "      <td>1.600677</td>\n",
              "      <td>3.373869</td>\n",
              "      <td>0.564611</td>\n",
              "      <td>1.627736</td>\n",
              "      <td>2.772098</td>\n",
              "      <td>3.709723</td>\n",
              "      <td>1.785086</td>\n",
              "      <td>0.274402</td>\n",
              "    </tr>\n",
              "    <tr>\n",
              "      <th>3</th>\n",
              "      <td>1</td>\n",
              "      <td>C3S_STORM_TRACKS_ERA5</td>\n",
              "      <td>2.381500</td>\n",
              "      <td>0.522132</td>\n",
              "      <td>1.550332</td>\n",
              "      <td>3.086368</td>\n",
              "      <td>0.395841</td>\n",
              "      <td>0.069842</td>\n",
              "      <td>3.856062</td>\n",
              "      <td>0.118614</td>\n",
              "      <td>0.085295</td>\n",
              "      <td>0.005899</td>\n",
              "      <td>1.832467</td>\n",
              "      <td>1.065175</td>\n",
              "      <td>1.373891</td>\n",
              "      <td>0.205400</td>\n",
              "      <td>0.605247</td>\n",
              "    </tr>\n",
              "    <tr>\n",
              "      <th>4</th>\n",
              "      <td>13</td>\n",
              "      <td>C3S_STORM_TRACKS_ERA5</td>\n",
              "      <td>0.369592</td>\n",
              "      <td>0.073505</td>\n",
              "      <td>2.392380</td>\n",
              "      <td>0.086454</td>\n",
              "      <td>0.454774</td>\n",
              "      <td>0.449959</td>\n",
              "      <td>1.306836</td>\n",
              "      <td>0.094271</td>\n",
              "      <td>0.217741</td>\n",
              "      <td>0.231869</td>\n",
              "      <td>1.629386</td>\n",
              "      <td>2.850719</td>\n",
              "      <td>4.381026</td>\n",
              "      <td>0.132050</td>\n",
              "      <td>0.078886</td>\n",
              "    </tr>\n",
              "    <tr>\n",
              "      <th>...</th>\n",
              "      <td>...</td>\n",
              "      <td>...</td>\n",
              "      <td>...</td>\n",
              "      <td>...</td>\n",
              "      <td>...</td>\n",
              "      <td>...</td>\n",
              "      <td>...</td>\n",
              "      <td>...</td>\n",
              "      <td>...</td>\n",
              "      <td>...</td>\n",
              "      <td>...</td>\n",
              "      <td>...</td>\n",
              "      <td>...</td>\n",
              "      <td>...</td>\n",
              "      <td>...</td>\n",
              "      <td>...</td>\n",
              "      <td>...</td>\n",
              "    </tr>\n",
              "    <tr>\n",
              "      <th>89</th>\n",
              "      <td>36</td>\n",
              "      <td>XYLIA</td>\n",
              "      <td>4.369541</td>\n",
              "      <td>1.684647</td>\n",
              "      <td>1.101776</td>\n",
              "      <td>4.049860</td>\n",
              "      <td>2.655958</td>\n",
              "      <td>0.453227</td>\n",
              "      <td>2.504411</td>\n",
              "      <td>1.634403</td>\n",
              "      <td>0.322857</td>\n",
              "      <td>0.538566</td>\n",
              "      <td>1.198512</td>\n",
              "      <td>0.676302</td>\n",
              "      <td>0.813507</td>\n",
              "      <td>0.807782</td>\n",
              "      <td>0.142572</td>\n",
              "    </tr>\n",
              "    <tr>\n",
              "      <th>90</th>\n",
              "      <td>73</td>\n",
              "      <td>XAVER</td>\n",
              "      <td>6.111009</td>\n",
              "      <td>2.028866</td>\n",
              "      <td>2.368855</td>\n",
              "      <td>5.345801</td>\n",
              "      <td>2.659110</td>\n",
              "      <td>0.131853</td>\n",
              "      <td>6.800894</td>\n",
              "      <td>0.619801</td>\n",
              "      <td>0.566753</td>\n",
              "      <td>0.340933</td>\n",
              "      <td>1.878877</td>\n",
              "      <td>3.305028</td>\n",
              "      <td>6.758087</td>\n",
              "      <td>0.182654</td>\n",
              "      <td>0.148471</td>\n",
              "    </tr>\n",
              "    <tr>\n",
              "      <th>91</th>\n",
              "      <td>8</td>\n",
              "      <td>C3S_STORM_TRACKS_ERA5</td>\n",
              "      <td>2.457640</td>\n",
              "      <td>1.916838</td>\n",
              "      <td>0.678842</td>\n",
              "      <td>2.870055</td>\n",
              "      <td>0.546459</td>\n",
              "      <td>0.190813</td>\n",
              "      <td>7.003383</td>\n",
              "      <td>0.843487</td>\n",
              "      <td>0.072515</td>\n",
              "      <td>0.165010</td>\n",
              "      <td>0.930319</td>\n",
              "      <td>1.325058</td>\n",
              "      <td>0.959078</td>\n",
              "      <td>0.350042</td>\n",
              "      <td>1.289221</td>\n",
              "    </tr>\n",
              "    <tr>\n",
              "      <th>92</th>\n",
              "      <td>83</td>\n",
              "      <td>C3S_STORM_TRACKS_ERA5</td>\n",
              "      <td>2.453728</td>\n",
              "      <td>1.259028</td>\n",
              "      <td>0.897802</td>\n",
              "      <td>4.037981</td>\n",
              "      <td>0.799946</td>\n",
              "      <td>0.172112</td>\n",
              "      <td>4.205737</td>\n",
              "      <td>0.888262</td>\n",
              "      <td>0.394165</td>\n",
              "      <td>0.431759</td>\n",
              "      <td>1.735955</td>\n",
              "      <td>1.660644</td>\n",
              "      <td>1.743265</td>\n",
              "      <td>0.070213</td>\n",
              "      <td>2.155771</td>\n",
              "    </tr>\n",
              "    <tr>\n",
              "      <th>93</th>\n",
              "      <td>43</td>\n",
              "      <td>C3S_STORM_TRACKS_ERA5</td>\n",
              "      <td>1.050487</td>\n",
              "      <td>1.143672</td>\n",
              "      <td>0.319332</td>\n",
              "      <td>2.170643</td>\n",
              "      <td>0.800700</td>\n",
              "      <td>1.546736</td>\n",
              "      <td>3.428807</td>\n",
              "      <td>1.561839</td>\n",
              "      <td>0.160128</td>\n",
              "      <td>0.072515</td>\n",
              "      <td>0.537510</td>\n",
              "      <td>0.936644</td>\n",
              "      <td>0.672037</td>\n",
              "      <td>1.347989</td>\n",
              "      <td>0.224295</td>\n",
              "    </tr>\n",
              "  </tbody>\n",
              "</table>\n",
              "<p>94 rows × 17 columns</p>\n",
              "</div>"
            ],
            "text/plain": [
              "    storm_number             storm_name  cluster_0  cluster_1  cluster_2  \\\n",
              "0              9  C3S_STORM_TRACKS_ERA5   1.488954   1.250388   0.380618   \n",
              "1             35  C3S_STORM_TRACKS_ERA5   1.137745   0.711018   1.567827   \n",
              "2             82  C3S_STORM_TRACKS_ERA5   2.269466   1.354909   1.512206   \n",
              "3              1  C3S_STORM_TRACKS_ERA5   2.381500   0.522132   1.550332   \n",
              "4             13  C3S_STORM_TRACKS_ERA5   0.369592   0.073505   2.392380   \n",
              "..           ...                    ...        ...        ...        ...   \n",
              "89            36                  XYLIA   4.369541   1.684647   1.101776   \n",
              "90            73                  XAVER   6.111009   2.028866   2.368855   \n",
              "91             8  C3S_STORM_TRACKS_ERA5   2.457640   1.916838   0.678842   \n",
              "92            83  C3S_STORM_TRACKS_ERA5   2.453728   1.259028   0.897802   \n",
              "93            43  C3S_STORM_TRACKS_ERA5   1.050487   1.143672   0.319332   \n",
              "\n",
              "    cluster_3  cluster_4  cluster_5  cluster_6  cluster_7  cluster_8  \\\n",
              "0    1.935491   0.699998   0.792000   5.247844   2.087615   0.184377   \n",
              "1    2.084789   0.821490   0.400187   2.111582   0.319745   0.382948   \n",
              "2    1.765846   1.467819   2.437863   4.580985   1.600677   3.373869   \n",
              "3    3.086368   0.395841   0.069842   3.856062   0.118614   0.085295   \n",
              "4    0.086454   0.454774   0.449959   1.306836   0.094271   0.217741   \n",
              "..        ...        ...        ...        ...        ...        ...   \n",
              "89   4.049860   2.655958   0.453227   2.504411   1.634403   0.322857   \n",
              "90   5.345801   2.659110   0.131853   6.800894   0.619801   0.566753   \n",
              "91   2.870055   0.546459   0.190813   7.003383   0.843487   0.072515   \n",
              "92   4.037981   0.799946   0.172112   4.205737   0.888262   0.394165   \n",
              "93   2.170643   0.800700   1.546736   3.428807   1.561839   0.160128   \n",
              "\n",
              "    cluster_9  cluster_10  cluster_11  cluster_12  cluster_13  cluster_14  \n",
              "0    0.598205    0.871613    1.370565    1.234141    1.991662    0.644461  \n",
              "1    0.103998    1.400420    2.058132    2.002799    0.173682    1.112621  \n",
              "2    0.564611    1.627736    2.772098    3.709723    1.785086    0.274402  \n",
              "3    0.005899    1.832467    1.065175    1.373891    0.205400    0.605247  \n",
              "4    0.231869    1.629386    2.850719    4.381026    0.132050    0.078886  \n",
              "..        ...         ...         ...         ...         ...         ...  \n",
              "89   0.538566    1.198512    0.676302    0.813507    0.807782    0.142572  \n",
              "90   0.340933    1.878877    3.305028    6.758087    0.182654    0.148471  \n",
              "91   0.165010    0.930319    1.325058    0.959078    0.350042    1.289221  \n",
              "92   0.431759    1.735955    1.660644    1.743265    0.070213    2.155771  \n",
              "93   0.072515    0.537510    0.936644    0.672037    1.347989    0.224295  \n",
              "\n",
              "[94 rows x 17 columns]"
            ]
          },
          "execution_count": 7,
          "metadata": {},
          "output_type": "execute_result"
        }
      ],
      "source": [
        "output_quantile"
      ]
    },
    {
      "cell_type": "markdown",
      "metadata": {
        "id": "znZ0ZtutCwx2"
      },
      "source": [
        "The output csv files contain entries of quantile functions for 94 storms"
      ]
    },
    {
      "cell_type": "markdown",
      "metadata": {
        "id": "H2RLDoYRDmkV"
      },
      "source": [
        "## Combine input csvs"
      ]
    },
    {
      "cell_type": "code",
      "execution_count": 30,
      "metadata": {
        "id": "KwHsU5JgC26B"
      },
      "outputs": [],
      "source": [
        "'''var1 = input_1000_Z_max.to_numpy()[:,1:]\n",
        "var2 = input_2m_dew_max.to_numpy()[:,1:]\n",
        "var3 = input_800_rh_max.to_numpy()[:,1:]\n",
        "\n",
        "# Create and Normalize INPUT_TRAIN\n",
        "INPUT_TRAIN = np.concatenate((var1, var2, var3), axis=1)\n",
        "scaler = StandardScaler()  # or MinMaxScaler()\n",
        "INPUT_TRAIN_NORMALIZED = np.asarray(scaler.fit_transform(INPUT_TRAIN), dtype=np.float32)'''\n",
        "# TO DO\n",
        "\n",
        "all_index = all_input['storm_number'].unique()\n",
        "\n",
        "training_index, test_index, validation_index = split_storm_numbers(all_index, 0.15, 42)\n",
        "\n",
        "# Create ML inputs\n",
        "filtered_input = all_input[all_input['storm_number'].isin(training_index)]\n",
        "filtered_input = filtered_input.drop(columns=['storm_number', 'variable'])\n",
        "\n",
        "# Convert the filtered DataFrame to a NumPy array (if needed, retain specific columns)\n",
        "INPUT_TRAIN = filtered_input.to_numpy(dtype=np.float32)\n",
        "scaler = StandardScaler()  # or MinMaxScaler()\n",
        "INPUT_TRAIN_NORMALIZED = np.asarray(scaler.fit_transform(INPUT_TRAIN), dtype=np.float32)\n",
        "\n",
        "# Create ML outputs\n",
        "filtered_output = output_quantile[output_quantile['storm_number'].isin(training_index)]\n",
        "filtered_output = filtered_output.drop(columns=['storm_name', 'storm_number'])\n",
        "\n",
        "# Convert the filtered DataFrame to a NumPy array (if needed, retain specific columns)\n",
        "OUTPUT_TRAIN = filtered_output.to_numpy(dtype=np.float32)"
      ]
    },
    {
      "cell_type": "code",
      "execution_count": null,
      "metadata": {
        "id": "Wpdxj5uOK8YO"
      },
      "outputs": [],
      "source": [
        "brchsize = [0] + [varobj.shape[1] for varobj in [var1,var2,var3]]"
      ]
    },
    {
      "cell_type": "markdown",
      "metadata": {
        "id": "dMv77celI_oG"
      },
      "source": [
        "## Baseline ML model"
      ]
    },
    {
      "cell_type": "code",
      "execution_count": 31,
      "metadata": {
        "id": "vcCLiVevIX6v"
      },
      "outputs": [
        {
          "ename": "AssertionError",
          "evalue": "Size mismatch between tensors",
          "output_type": "error",
          "traceback": [
            "\u001b[1;31m---------------------------------------------------------------------------\u001b[0m",
            "\u001b[1;31mAssertionError\u001b[0m                            Traceback (most recent call last)",
            "Cell \u001b[1;32mIn[31], line 6\u001b[0m\n\u001b[0;32m      3\u001b[0m y_tensor \u001b[38;5;241m=\u001b[39m torch\u001b[38;5;241m.\u001b[39mtensor(OUTPUT_TRAIN)\n\u001b[0;32m      5\u001b[0m \u001b[38;5;66;03m# Create a DataLoader\u001b[39;00m\n\u001b[1;32m----> 6\u001b[0m dataset \u001b[38;5;241m=\u001b[39m \u001b[43mTensorDataset\u001b[49m\u001b[43m(\u001b[49m\u001b[43mx_tensor\u001b[49m\u001b[43m,\u001b[49m\u001b[43m \u001b[49m\u001b[43my_tensor\u001b[49m\u001b[43m)\u001b[49m\n\u001b[0;32m      7\u001b[0m dataloader \u001b[38;5;241m=\u001b[39m DataLoader(dataset, batch_size\u001b[38;5;241m=\u001b[39m\u001b[38;5;241m10\u001b[39m, shuffle\u001b[38;5;241m=\u001b[39m\u001b[38;5;28;01mTrue\u001b[39;00m)\n",
            "File \u001b[1;32mc:\\Users\\fabau\\anaconda3\\envs\\tensor\\lib\\site-packages\\torch\\utils\\data\\dataset.py:203\u001b[0m, in \u001b[0;36mTensorDataset.__init__\u001b[1;34m(self, *tensors)\u001b[0m\n\u001b[0;32m    202\u001b[0m \u001b[38;5;28;01mdef\u001b[39;00m \u001b[38;5;21m__init__\u001b[39m(\u001b[38;5;28mself\u001b[39m, \u001b[38;5;241m*\u001b[39mtensors: Tensor) \u001b[38;5;241m-\u001b[39m\u001b[38;5;241m>\u001b[39m \u001b[38;5;28;01mNone\u001b[39;00m:\n\u001b[1;32m--> 203\u001b[0m     \u001b[38;5;28;01massert\u001b[39;00m \u001b[38;5;28mall\u001b[39m(\n\u001b[0;32m    204\u001b[0m         tensors[\u001b[38;5;241m0\u001b[39m]\u001b[38;5;241m.\u001b[39msize(\u001b[38;5;241m0\u001b[39m) \u001b[38;5;241m==\u001b[39m tensor\u001b[38;5;241m.\u001b[39msize(\u001b[38;5;241m0\u001b[39m) \u001b[38;5;28;01mfor\u001b[39;00m tensor \u001b[38;5;129;01min\u001b[39;00m tensors\n\u001b[0;32m    205\u001b[0m     ), \u001b[38;5;124m\"\u001b[39m\u001b[38;5;124mSize mismatch between tensors\u001b[39m\u001b[38;5;124m\"\u001b[39m\n\u001b[0;32m    206\u001b[0m     \u001b[38;5;28mself\u001b[39m\u001b[38;5;241m.\u001b[39mtensors \u001b[38;5;241m=\u001b[39m tensors\n",
            "\u001b[1;31mAssertionError\u001b[0m: Size mismatch between tensors"
          ]
        }
      ],
      "source": [
        "# Convert NumPy arrays to PyTorch tensors\n",
        "x_tensor = torch.tensor(INPUT_TRAIN_NORMALIZED)\n",
        "y_tensor = torch.tensor(OUTPUT_TRAIN)\n",
        "\n",
        "# Create a DataLoader\n",
        "dataset = TensorDataset(x_tensor, y_tensor)\n",
        "dataloader = DataLoader(dataset, batch_size=10, shuffle=True)"
      ]
    },
    {
      "cell_type": "code",
      "execution_count": null,
      "metadata": {
        "id": "sopFvxwQJzH5"
      },
      "outputs": [],
      "source": [
        "class baseline_ts_drop(torch.nn.Module):\n",
        "    def __init__(self,droprate,brchindices,num_vars):\n",
        "        super(baseline_ts_drop, self).__init__()\n",
        "        self.brchindices = brchindices\n",
        "        self.num_vars = num_vars\n",
        "        ############################################################\n",
        "        # Create regression layers dynamically for each input\n",
        "        ############################################################\n",
        "        brchsize = self.brchindices[1:]\n",
        "        self.input_layers = torch.nn.ModuleDict({\n",
        "            f\"input{i+1}\": torch.nn.Linear(int(brchsize[i]), 1) for i in range(self.num_vars)\n",
        "        })\n",
        "        ############################################################\n",
        "        # Create dropout layers\n",
        "        ############################################################\n",
        "        self.dropout_layers = torch.nn.ModuleDict({\n",
        "            f\"dropout{i+1}\": torch.nn.Dropout(droprate) for i in range(self.num_vars)\n",
        "        })\n",
        "        self.dropout_end = torch.nn.Dropout(droprate)\n",
        "        ############################################################\n",
        "        # Final Dense Layer\n",
        "        ############################################################\n",
        "        self.denseout = torch.nn.Linear(self.num_vars,15)\n",
        "\n",
        "    def forward(self,X):\n",
        "        brchindex = list(np.asarray(self.brchindices).cumsum())\n",
        "        ############################################################\n",
        "        # First regression layer\n",
        "        ############################################################\n",
        "        inputs = []\n",
        "        for i in range(self.num_vars):\n",
        "            # Extract the relevant branch input\n",
        "            X_branch = X[:, brchindex[i]:brchindex[i+1]]\n",
        "            # Apply dropout and linear layer\n",
        "            X_branch = self.dropout_layers[f\"dropout{i+1}\"](X_branch)\n",
        "            input_layer = self.input_layers[f\"input{i+1}\"](X_branch)\n",
        "\n",
        "            inputs.append(input_layer)\n",
        "        ############################################################\n",
        "        # Concat\n",
        "        ############################################################\n",
        "        bestPC = torch.cat(inputs,1)\n",
        "        ############################################################\n",
        "        # Prediction layer\n",
        "        ############################################################\n",
        "        bestPC = self.dropout_end(bestPC)\n",
        "        outpred = self.denseout(bestPC)\n",
        "        return outpred"
      ]
    },
    {
      "cell_type": "markdown",
      "metadata": {
        "id": "1EfF1fgbLBUE"
      },
      "source": [
        "### Hyperparameter tuning with Optuna"
      ]
    },
    {
      "cell_type": "code",
      "execution_count": null,
      "metadata": {
        "id": "xOSsz-QWLGRs"
      },
      "outputs": [],
      "source": [
        "def objective(trial):\n",
        "  # Model Parameters\n",
        "  brchindices = brchsize\n",
        "  numvars = len(brchsize[1:])\n",
        "\n",
        "  # Initiatlize model\n",
        "  models,losses = [],[]\n",
        "  droprate = trial.suggest_float(\"droprate\",0.05,0.45)\n",
        "  model = baseline_ts_drop(droprate, brchindices, numvars)\n",
        "  lr = trial.suggest_float(\"lr\",1e-6,1e-3)#,log=True)\n",
        "\n",
        "  # Training parameters\n",
        "  optimizer = torch.optim.Adam(model.parameters(),lr=lr)\n",
        "  criterion = torch.nn.L1Loss()\n",
        "  n_epochs = trial.suggest_int(\"n_epochs\",500,5000)\n",
        "  #n_epochs = 500\n",
        "\n",
        "  scheduler_baselr = trial.suggest_float(\"base_lr\",1e-8,1e-4)\n",
        "  scheduler_maxlr = trial.suggest_float(\"max_lr\",1e-4,1e-2)\n",
        "  scheduler = torch.optim.lr_scheduler.CyclicLR(optimizer, base_lr=scheduler_baselr, max_lr=scheduler_maxlr, cycle_momentum=False)\n",
        "\n",
        "  train_losses = []\n",
        "  for epoch in range(1,n_epochs+1):\n",
        "    loss = 0\n",
        "    for features, labels in dataloader:\n",
        "      optimizer.zero_grad() # Clears existing gradients from previous epoch\n",
        "      output = model(features)\n",
        "      batch_loss = criterion(output, labels)\n",
        "      batch_loss.backward()\n",
        "      optimizer.step()\n",
        "      loss += batch_loss.item()\n",
        "    scheduler.step()\n",
        "    loss = loss/len(dataloader)\n",
        "    train_losses.append(loss)\n",
        "\n",
        "    #val_loss = ts_models.eval_model(model,\n",
        "    #                                val_loader,\n",
        "    #                                criterion,\n",
        "    #                         l2_lambda)\n",
        "    #    val_losses.append(val_loss)\n",
        "    if epoch%100 == 0:\n",
        "      print('Epoch: {}/{}.............'.format(epoch, n_epochs))\n",
        "      print(\"Loss: {:.4f}\".format(loss))\n",
        "    #if val_loss <= min(val_losses):\n",
        "    #    torch.save(model,'best_model'+str(trial.number))\n",
        "    #torch.save(model,'./tmp/bayesian/best_model.8.'+str(trial.number)+'.pt')\n",
        "    return loss\n"
      ]
    },
    {
      "cell_type": "code",
      "execution_count": null,
      "metadata": {
        "colab": {
          "base_uri": "https://localhost:8080/"
        },
        "id": "WNF8hvRiOOI-",
        "outputId": "f3df2406-dfee-411e-ea61-ef82dede6add"
      },
      "outputs": [
        {
          "name": "stderr",
          "output_type": "stream",
          "text": [
            "[I 2024-12-17 15:28:46,721] A new study created in memory with name: no-name-89a2e3b6-3dba-4e3f-b4f3-f2f97cc508de\n",
            "[I 2024-12-17 15:28:46,742] Trial 0 finished with value: 0.3661357402801514 and parameters: {'droprate': 0.2873616669792009, 'lr': 0.0007307955879538985, 'n_epochs': 630, 'base_lr': 3.245002926889382e-05, 'max_lr': 0.005923875107484349}. Best is trial 0 with value: 0.3661357402801514.\n",
            "[I 2024-12-17 15:28:46,755] Trial 1 finished with value: 0.3046651124954224 and parameters: {'droprate': 0.08833876452209749, 'lr': 0.0003633652965207181, 'n_epochs': 4784, 'base_lr': 1.006045776896317e-05, 'max_lr': 0.008697359041467673}. Best is trial 1 with value: 0.3046651124954224.\n",
            "[I 2024-12-17 15:28:46,768] Trial 2 finished with value: 0.2962167739868164 and parameters: {'droprate': 0.1440346351010786, 'lr': 0.0001462261832035621, 'n_epochs': 4877, 'base_lr': 7.819683217254743e-05, 'max_lr': 0.0042280474286942255}. Best is trial 2 with value: 0.2962167739868164.\n",
            "[I 2024-12-17 15:28:46,780] Trial 3 finished with value: 0.27229769229888917 and parameters: {'droprate': 0.17013789538533608, 'lr': 0.0006899803510643261, 'n_epochs': 2346, 'base_lr': 3.424122700003214e-05, 'max_lr': 0.00658555671058184}. Best is trial 3 with value: 0.27229769229888917.\n",
            "[I 2024-12-17 15:28:46,792] Trial 4 finished with value: 0.311910605430603 and parameters: {'droprate': 0.35615155135319987, 'lr': 0.0009789165683204604, 'n_epochs': 4290, 'base_lr': 1.634199393638645e-05, 'max_lr': 0.008900796209191649}. Best is trial 3 with value: 0.27229769229888917.\n",
            "[I 2024-12-17 15:28:46,805] Trial 5 finished with value: 0.35995514392852784 and parameters: {'droprate': 0.3570403796511891, 'lr': 0.00037018746838422383, 'n_epochs': 3988, 'base_lr': 5.242027682753415e-05, 'max_lr': 0.0018501841582624935}. Best is trial 3 with value: 0.27229769229888917.\n",
            "[I 2024-12-17 15:28:46,816] Trial 6 finished with value: 0.23809995651245117 and parameters: {'droprate': 0.3724643911019249, 'lr': 0.00032408218117797795, 'n_epochs': 3464, 'base_lr': 5.044293534508188e-05, 'max_lr': 0.00407974813670866}. Best is trial 6 with value: 0.23809995651245117.\n",
            "[I 2024-12-17 15:28:46,828] Trial 7 finished with value: 0.4068323612213135 and parameters: {'droprate': 0.2691868970953056, 'lr': 0.0007091059924631819, 'n_epochs': 3851, 'base_lr': 3.90439118267185e-05, 'max_lr': 0.0014808800329977644}. Best is trial 6 with value: 0.23809995651245117.\n",
            "[I 2024-12-17 15:28:46,841] Trial 8 finished with value: 0.26419041156768797 and parameters: {'droprate': 0.2640771170877073, 'lr': 0.000528436280721532, 'n_epochs': 2209, 'base_lr': 6.800213908495708e-05, 'max_lr': 0.007517893173778803}. Best is trial 6 with value: 0.23809995651245117.\n",
            "[I 2024-12-17 15:28:46,854] Trial 9 finished with value: 0.3689483404159546 and parameters: {'droprate': 0.30327243286737815, 'lr': 0.000234819090175186, 'n_epochs': 4955, 'base_lr': 4.879795269715093e-05, 'max_lr': 0.0017880438279323366}. Best is trial 6 with value: 0.23809995651245117.\n",
            "[I 2024-12-17 15:28:46,886] Trial 10 finished with value: 0.4088547706604004 and parameters: {'droprate': 0.4300264211356522, 'lr': 2.821907231627071e-05, 'n_epochs': 3113, 'base_lr': 6.631606629561942e-05, 'max_lr': 0.0040961249144561875}. Best is trial 6 with value: 0.23809995651245117.\n",
            "[I 2024-12-17 15:28:46,920] Trial 11 finished with value: 0.40033807754516604 and parameters: {'droprate': 0.4142953206479419, 'lr': 0.0005543278485561733, 'n_epochs': 1840, 'base_lr': 9.845483379246337e-05, 'max_lr': 0.0071513772329529456}. Best is trial 6 with value: 0.23809995651245117.\n",
            "[I 2024-12-17 15:28:46,957] Trial 12 finished with value: 0.285272216796875 and parameters: {'droprate': 0.20860475844852858, 'lr': 0.0004781347238634604, 'n_epochs': 1515, 'base_lr': 7.272753717345673e-05, 'max_lr': 0.0035249483596689365}. Best is trial 6 with value: 0.23809995651245117.\n",
            "[I 2024-12-17 15:28:46,994] Trial 13 finished with value: 0.29588582515716555 and parameters: {'droprate': 0.3503122079201173, 'lr': 0.0005354706612388962, 'n_epochs': 3059, 'base_lr': 9.437278741571129e-05, 'max_lr': 0.00741733175690632}. Best is trial 6 with value: 0.23809995651245117.\n",
            "[I 2024-12-17 15:28:47,030] Trial 14 finished with value: 0.33333899974823 and parameters: {'droprate': 0.22391029925809186, 'lr': 0.0002944385507748843, 'n_epochs': 2416, 'base_lr': 6.293428814931741e-05, 'max_lr': 0.009807957146751187}. Best is trial 6 with value: 0.23809995651245117.\n",
            "[I 2024-12-17 15:28:47,067] Trial 15 finished with value: 0.3308477163314819 and parameters: {'droprate': 0.05008528409907409, 'lr': 0.0009109025435366016, 'n_epochs': 3424, 'base_lr': 8.514967957233693e-05, 'max_lr': 0.005325859846270679}. Best is trial 6 with value: 0.23809995651245117.\n",
            "[I 2024-12-17 15:28:47,104] Trial 16 finished with value: 0.3891902923583984 and parameters: {'droprate': 0.38898269389987955, 'lr': 0.00044458995552313767, 'n_epochs': 1202, 'base_lr': 5.509148140500314e-05, 'max_lr': 0.00027700536456429226}. Best is trial 6 with value: 0.23809995651245117.\n",
            "[I 2024-12-17 15:28:47,141] Trial 17 finished with value: 0.25259172916412354 and parameters: {'droprate': 0.3140299434216226, 'lr': 0.00016354134995492356, 'n_epochs': 2427, 'base_lr': 2.0801167988872283e-05, 'max_lr': 0.003045232580823864}. Best is trial 6 with value: 0.23809995651245117.\n",
            "[I 2024-12-17 15:28:47,178] Trial 18 finished with value: 0.3490118980407715 and parameters: {'droprate': 0.32297112277473294, 'lr': 2.7309577360057704e-05, 'n_epochs': 2867, 'base_lr': 2.081820935907621e-05, 'max_lr': 0.003284847782759632}. Best is trial 6 with value: 0.23809995651245117.\n",
            "[I 2024-12-17 15:28:47,211] Trial 19 finished with value: 0.34433162212371826 and parameters: {'droprate': 0.4431608280120723, 'lr': 0.00014926676839927984, 'n_epochs': 3434, 'base_lr': 2.6108219674443056e-05, 'max_lr': 0.002666235280116293}. Best is trial 6 with value: 0.23809995651245117.\n",
            "[I 2024-12-17 15:28:47,247] Trial 20 finished with value: 0.2800931453704834 and parameters: {'droprate': 0.3242745536904761, 'lr': 0.00017235172103542958, 'n_epochs': 1956, 'base_lr': 7.836505798726837e-06, 'max_lr': 0.004723027839119282}. Best is trial 6 with value: 0.23809995651245117.\n",
            "[I 2024-12-17 15:28:47,283] Trial 21 finished with value: 0.34639098644256594 and parameters: {'droprate': 0.25996057495679054, 'lr': 0.00029942606090537806, 'n_epochs': 2453, 'base_lr': 4.48124740377971e-05, 'max_lr': 0.0052468252644724735}. Best is trial 6 with value: 0.23809995651245117.\n",
            "[I 2024-12-17 15:28:47,322] Trial 22 finished with value: 0.3116230249404907 and parameters: {'droprate': 0.3913108918487536, 'lr': 0.0006482804131410882, 'n_epochs': 1948, 'base_lr': 6.092017896169859e-05, 'max_lr': 0.006122458404894275}. Best is trial 6 with value: 0.23809995651245117.\n",
            "[I 2024-12-17 15:28:47,361] Trial 23 finished with value: 0.4217674732208252 and parameters: {'droprate': 0.22502058237628458, 'lr': 0.0004114332002553194, 'n_epochs': 2595, 'base_lr': 7.260230899291138e-05, 'max_lr': 0.0029923094875600833}. Best is trial 6 with value: 0.23809995651245117.\n",
            "[I 2024-12-17 15:28:47,407] Trial 24 finished with value: 0.35698485374450684 and parameters: {'droprate': 0.30693897115620544, 'lr': 0.0006126768119654482, 'n_epochs': 3489, 'base_lr': 8.53667828328679e-07, 'max_lr': 0.007707617473002859}. Best is trial 6 with value: 0.23809995651245117.\n",
            "[I 2024-12-17 15:28:47,455] Trial 25 finished with value: 0.2581976890563965 and parameters: {'droprate': 0.18264194018518837, 'lr': 0.00023912305654968566, 'n_epochs': 1036, 'base_lr': 4.153503496740959e-05, 'max_lr': 0.004180863960481118}. Best is trial 6 with value: 0.23809995651245117.\n",
            "[I 2024-12-17 15:28:47,497] Trial 26 finished with value: 0.3118984937667847 and parameters: {'droprate': 0.16239304665816962, 'lr': 8.976699230663185e-05, 'n_epochs': 533, 'base_lr': 2.6681951411950268e-05, 'max_lr': 0.0024926605367927616}. Best is trial 6 with value: 0.23809995651245117.\n",
            "[I 2024-12-17 15:28:47,537] Trial 27 finished with value: 0.3539220571517944 and parameters: {'droprate': 0.19885780991703217, 'lr': 0.00025730159346607504, 'n_epochs': 1258, 'base_lr': 4.147427822521916e-05, 'max_lr': 0.0040245921957143774}. Best is trial 6 with value: 0.23809995651245117.\n",
            "[I 2024-12-17 15:28:47,586] Trial 28 finished with value: 0.261475658416748 and parameters: {'droprate': 0.3963850462197436, 'lr': 0.0002082323325474157, 'n_epochs': 901, 'base_lr': 3.403709604667817e-05, 'max_lr': 0.004867495212059635}. Best is trial 6 with value: 0.23809995651245117.\n",
            "[I 2024-12-17 15:28:47,629] Trial 29 finished with value: 0.2778486251831055 and parameters: {'droprate': 0.11886112913810457, 'lr': 0.0008055719216366811, 'n_epochs': 900, 'base_lr': 2.4909575733015144e-05, 'max_lr': 0.000776501985820386}. Best is trial 6 with value: 0.23809995651245117.\n",
            "[I 2024-12-17 15:28:47,667] Trial 30 finished with value: 0.37796339988708494 and parameters: {'droprate': 0.28827818540449346, 'lr': 0.0003496805551961863, 'n_epochs': 4324, 'base_lr': 1.5901602952577883e-05, 'max_lr': 0.00587208269514441}. Best is trial 6 with value: 0.23809995651245117.\n",
            "[I 2024-12-17 15:28:47,707] Trial 31 finished with value: 0.2518669366836548 and parameters: {'droprate': 0.380888041519004, 'lr': 0.00021214871055229178, 'n_epochs': 858, 'base_lr': 3.608733067299358e-05, 'max_lr': 0.004502129611070715}. Best is trial 6 with value: 0.23809995651245117.\n",
            "[I 2024-12-17 15:28:47,746] Trial 32 finished with value: 0.37152283191680907 and parameters: {'droprate': 0.36148664246185575, 'lr': 8.716850146871622e-05, 'n_epochs': 793, 'base_lr': 3.79572682461772e-05, 'max_lr': 0.0037724581994519504}. Best is trial 6 with value: 0.23809995651245117.\n",
            "[I 2024-12-17 15:28:47,786] Trial 33 finished with value: 0.2673610210418701 and parameters: {'droprate': 0.3822143459508721, 'lr': 9.75770388137038e-05, 'n_epochs': 1579, 'base_lr': 4.4888524134286165e-05, 'max_lr': 0.004456237174040064}. Best is trial 6 with value: 0.23809995651245117.\n",
            "[I 2024-12-17 15:28:47,823] Trial 34 finished with value: 0.3439860105514526 and parameters: {'droprate': 0.32750061708593736, 'lr': 0.0003172609345970706, 'n_epochs': 1124, 'base_lr': 5.5924280439314656e-05, 'max_lr': 0.0024646741496435957}. Best is trial 6 with value: 0.23809995651245117.\n",
            "[I 2024-12-17 15:28:47,860] Trial 35 finished with value: 0.2872972011566162 and parameters: {'droprate': 0.11348737705779702, 'lr': 0.00019463737244043824, 'n_epochs': 1531, 'base_lr': 2.9927872633967046e-05, 'max_lr': 0.005628223704090711}. Best is trial 6 with value: 0.23809995651245117.\n",
            "[I 2024-12-17 15:28:47,903] Trial 36 finished with value: 0.39395666122436523 and parameters: {'droprate': 0.18328767785168895, 'lr': 0.00024333831732054452, 'n_epochs': 3836, 'base_lr': 3.231560575727067e-05, 'max_lr': 0.003335878339599076}. Best is trial 6 with value: 0.23809995651245117.\n",
            "[I 2024-12-17 15:28:47,942] Trial 37 finished with value: 0.3843996524810791 and parameters: {'droprate': 0.23815234879617128, 'lr': 0.00040265472905227516, 'n_epochs': 4408, 'base_lr': 1.8595347187947517e-05, 'max_lr': 0.006410619170731902}. Best is trial 6 with value: 0.23809995651245117.\n",
            "[I 2024-12-17 15:28:47,980] Trial 38 finished with value: 0.40039997100830077 and parameters: {'droprate': 0.34276380797142647, 'lr': 0.000127192200462101, 'n_epochs': 620, 'base_lr': 4.759666061152808e-05, 'max_lr': 0.00443578878765948}. Best is trial 6 with value: 0.23809995651245117.\n",
            "[I 2024-12-17 15:28:48,019] Trial 39 finished with value: 0.3622487783432007 and parameters: {'droprate': 0.3725402043592305, 'lr': 0.0002758726159779829, 'n_epochs': 2706, 'base_lr': 8.780712047769062e-06, 'max_lr': 0.00204106443556979}. Best is trial 6 with value: 0.23809995651245117.\n",
            "[I 2024-12-17 15:28:48,058] Trial 40 finished with value: 0.2959437847137451 and parameters: {'droprate': 0.28236942051168945, 'lr': 0.00033947361582291043, 'n_epochs': 2148, 'base_lr': 3.698706678175237e-05, 'max_lr': 0.0014175460806998671}. Best is trial 6 with value: 0.23809995651245117.\n",
            "[I 2024-12-17 15:28:48,103] Trial 41 finished with value: 0.36319699287414553 and parameters: {'droprate': 0.41389920178717066, 'lr': 0.00020369865307030005, 'n_epochs': 1051, 'base_lr': 3.4462113953593106e-05, 'max_lr': 0.0051235197858610785}. Best is trial 6 with value: 0.23809995651245117.\n",
            "[I 2024-12-17 15:28:48,142] Trial 42 finished with value: 0.36198346614837645 and parameters: {'droprate': 0.40868363632838567, 'lr': 0.00020779335838751845, 'n_epochs': 786, 'base_lr': 4.127435348709611e-05, 'max_lr': 0.004847471354676891}. Best is trial 6 with value: 0.23809995651245117.\n",
            "[I 2024-12-17 15:28:48,180] Trial 43 finished with value: 0.3275668382644653 and parameters: {'droprate': 0.43396292000520814, 'lr': 0.00014236420136827462, 'n_epochs': 1403, 'base_lr': 5.381603838352051e-05, 'max_lr': 0.0038140737033680082}. Best is trial 6 with value: 0.23809995651245117.\n",
            "[I 2024-12-17 15:28:48,218] Trial 44 finished with value: 0.3972554445266724 and parameters: {'droprate': 0.39839175983132935, 'lr': 7.200141564537188e-05, 'n_epochs': 1669, 'base_lr': 2.9085127221456294e-05, 'max_lr': 0.004339463456681757}. Best is trial 6 with value: 0.23809995651245117.\n",
            "[I 2024-12-17 15:28:48,261] Trial 45 finished with value: 0.3534942865371704 and parameters: {'droprate': 0.3399153350649148, 'lr': 0.00023203188494208505, 'n_epochs': 3196, 'base_lr': 2.2453305537892035e-05, 'max_lr': 0.0032032831356231806}. Best is trial 6 with value: 0.23809995651245117.\n",
            "[I 2024-12-17 15:28:48,300] Trial 46 finished with value: 0.43494696617126466 and parameters: {'droprate': 0.36324907505102194, 'lr': 0.00017890224309212978, 'n_epochs': 883, 'base_lr': 5.0034481142403076e-05, 'max_lr': 0.005485484296402878}. Best is trial 6 with value: 0.23809995651245117.\n",
            "[I 2024-12-17 15:28:48,340] Trial 47 finished with value: 0.3266810417175293 and parameters: {'droprate': 0.3078899913827391, 'lr': 2.142825054269793e-05, 'n_epochs': 4603, 'base_lr': 3.377333013421183e-05, 'max_lr': 0.004827313027617321}. Best is trial 6 with value: 0.23809995651245117.\n",
            "[I 2024-12-17 15:28:48,391] Trial 48 finished with value: 0.32430620193481446 and parameters: {'droprate': 0.3761969419793232, 'lr': 0.0003793259727610537, 'n_epochs': 3995, 'base_lr': 1.5189678655970254e-05, 'max_lr': 0.003721241164820606}. Best is trial 6 with value: 0.23809995651245117.\n",
            "[I 2024-12-17 15:28:48,444] Trial 49 finished with value: 0.31103661060333254 and parameters: {'droprate': 0.42000587776182946, 'lr': 0.000471918245001066, 'n_epochs': 3646, 'base_lr': 5.878411489489202e-05, 'max_lr': 0.006787863640670617}. Best is trial 6 with value: 0.23809995651245117.\n",
            "[I 2024-12-17 15:28:48,492] Trial 50 finished with value: 0.3382033586502075 and parameters: {'droprate': 0.39969261503978043, 'lr': 0.00027444450224283303, 'n_epochs': 1013, 'base_lr': 4.351956147518361e-05, 'max_lr': 0.002901778761905875}. Best is trial 6 with value: 0.23809995651245117.\n",
            "[I 2024-12-17 15:28:48,533] Trial 51 finished with value: 0.351617169380188 and parameters: {'droprate': 0.25221130228873495, 'lr': 0.0005185346087858887, 'n_epochs': 2123, 'base_lr': 6.758349531314569e-05, 'max_lr': 0.009023695474592742}. Best is trial 6 with value: 0.23809995651245117.\n",
            "[I 2024-12-17 15:28:48,574] Trial 52 finished with value: 0.3324185609817505 and parameters: {'droprate': 0.2790969004824531, 'lr': 0.0005503939716445645, 'n_epochs': 3021, 'base_lr': 4.9983125787788184e-05, 'max_lr': 0.008009897108326548}. Best is trial 6 with value: 0.23809995651245117.\n",
            "[I 2024-12-17 15:28:48,630] Trial 53 finished with value: 0.36578538417816164 and parameters: {'droprate': 0.29326410422993165, 'lr': 0.0006037749837814762, 'n_epochs': 2276, 'base_lr': 8.309531597796191e-05, 'max_lr': 0.004261047119336222}. Best is trial 6 with value: 0.23809995651245117.\n",
            "[I 2024-12-17 15:28:48,672] Trial 54 finished with value: 0.403792667388916 and parameters: {'droprate': 0.23739998001964807, 'lr': 0.0001272582290147833, 'n_epochs': 1765, 'base_lr': 7.283595486500338e-05, 'max_lr': 0.009809201549868142}. Best is trial 6 with value: 0.23809995651245117.\n",
            "[I 2024-12-17 15:28:48,740] Trial 55 finished with value: 0.3733537197113037 and parameters: {'droprate': 0.44999594526019715, 'lr': 0.0007533902571660333, 'n_epochs': 1266, 'base_lr': 3.8209853896623704e-05, 'max_lr': 0.005954364920980301}. Best is trial 6 with value: 0.23809995651245117.\n",
            "[I 2024-12-17 15:28:48,807] Trial 56 finished with value: 0.4125958442687988 and parameters: {'droprate': 0.32703811525527576, 'lr': 0.0004563411694759765, 'n_epochs': 1372, 'base_lr': 6.652981754916019e-05, 'max_lr': 0.004713590644027854}. Best is trial 6 with value: 0.23809995651245117.\n",
            "[I 2024-12-17 15:28:48,871] Trial 57 finished with value: 0.26235413551330566 and parameters: {'droprate': 0.26952835887006427, 'lr': 0.000315252684505002, 'n_epochs': 511, 'base_lr': 9.145382741743106e-05, 'max_lr': 0.008175419084195718}. Best is trial 6 with value: 0.23809995651245117.\n",
            "[I 2024-12-17 15:28:48,934] Trial 58 finished with value: 0.4421535968780518 and parameters: {'droprate': 0.15258294842700504, 'lr': 0.0003084699869178307, 'n_epochs': 717, 'base_lr': 9.475357442087734e-05, 'max_lr': 0.004068091697387789}. Best is trial 6 with value: 0.23809995651245117.\n",
            "[I 2024-12-17 15:28:49,000] Trial 59 finished with value: 0.355000376701355 and parameters: {'droprate': 0.2699428983959184, 'lr': 0.00023524061832713846, 'n_epochs': 653, 'base_lr': 1.381362036208417e-05, 'max_lr': 0.002223782558337381}. Best is trial 6 with value: 0.23809995651245117.\n",
            "[I 2024-12-17 15:28:49,067] Trial 60 finished with value: 0.41138534545898436 and parameters: {'droprate': 0.3510073231541067, 'lr': 5.070065077588396e-05, 'n_epochs': 916, 'base_lr': 8.13785729657588e-05, 'max_lr': 0.0035812209283179667}. Best is trial 6 with value: 0.23809995651245117.\n",
            "[I 2024-12-17 15:28:49,141] Trial 61 finished with value: 0.36689372062683107 and parameters: {'droprate': 0.21469800550601426, 'lr': 0.0001607345748128667, 'n_epochs': 576, 'base_lr': 9.99659035923672e-05, 'max_lr': 0.008108057061785186}. Best is trial 6 with value: 0.23809995651245117.\n",
            "[I 2024-12-17 15:28:49,205] Trial 62 finished with value: 0.27429177761077883 and parameters: {'droprate': 0.18982624417790186, 'lr': 0.0004235626416743951, 'n_epochs': 2863, 'base_lr': 9.01388261489556e-05, 'max_lr': 0.007088105929441492}. Best is trial 6 with value: 0.23809995651245117.\n",
            "[I 2024-12-17 15:28:49,270] Trial 63 finished with value: 0.3867724180221558 and parameters: {'droprate': 0.2654381202993253, 'lr': 0.00033774175975616734, 'n_epochs': 2535, 'base_lr': 4.656164172634291e-05, 'max_lr': 0.009304689949067817}. Best is trial 6 with value: 0.23809995651245117.\n",
            "[I 2024-12-17 15:28:49,335] Trial 64 finished with value: 0.2626739263534546 and parameters: {'droprate': 0.31175342096720565, 'lr': 0.00037280614044287905, 'n_epochs': 524, 'base_lr': 8.746832223687603e-05, 'max_lr': 0.007960670328229282}. Best is trial 6 with value: 0.23809995651245117.\n",
            "[I 2024-12-17 15:28:49,415] Trial 65 finished with value: 0.4426696300506592 and parameters: {'droprate': 0.3018989745731201, 'lr': 0.000370740067976986, 'n_epochs': 529, 'base_lr': 9.086446097462543e-05, 'max_lr': 0.008449758741474758}. Best is trial 6 with value: 0.23809995651245117.\n",
            "[I 2024-12-17 15:28:49,481] Trial 66 finished with value: 0.285314679145813 and parameters: {'droprate': 0.3137084058334415, 'lr': 0.0002611747379667169, 'n_epochs': 989, 'base_lr': 7.688735096379955e-05, 'max_lr': 0.005108484544577676}. Best is trial 6 with value: 0.23809995651245117.\n",
            "[I 2024-12-17 15:28:49,547] Trial 67 finished with value: 0.2895458936691284 and parameters: {'droprate': 0.3349575014046751, 'lr': 0.00021383926580315478, 'n_epochs': 741, 'base_lr': 8.752718378744989e-05, 'max_lr': 0.00563191867247711}. Best is trial 6 with value: 0.23809995651245117.\n",
            "[I 2024-12-17 15:28:49,613] Trial 68 finished with value: 0.33496770858764646 and parameters: {'droprate': 0.3680957998915212, 'lr': 0.0003000481234829371, 'n_epochs': 3239, 'base_lr': 3.1022398185600725e-05, 'max_lr': 0.008610844115499483}. Best is trial 6 with value: 0.23809995651245117.\n",
            "[I 2024-12-17 15:28:49,701] Trial 69 finished with value: 0.2932612180709839 and parameters: {'droprate': 0.31737894732564054, 'lr': 0.0003901220729722138, 'n_epochs': 1144, 'base_lr': 3.3452028139292685e-06, 'max_lr': 0.009408422096153956}. Best is trial 6 with value: 0.23809995651245117.\n",
            "[I 2024-12-17 15:28:49,773] Trial 70 finished with value: 0.32598555088043213 and parameters: {'droprate': 0.07505502807085385, 'lr': 0.0002792957928129807, 'n_epochs': 831, 'base_lr': 9.466276921119011e-05, 'max_lr': 0.0028513668908673275}. Best is trial 6 with value: 0.23809995651245117.\n",
            "[I 2024-12-17 15:28:49,846] Trial 71 finished with value: 0.27235281467437744 and parameters: {'droprate': 0.2546730711744876, 'lr': 0.00043374657115597114, 'n_epochs': 1942, 'base_lr': 7.819210835542318e-05, 'max_lr': 0.007531781165578653}. Best is trial 6 with value: 0.23809995651245117.\n",
            "[I 2024-12-17 15:28:49,914] Trial 72 finished with value: 0.30533907413482664 and parameters: {'droprate': 0.2958441036038025, 'lr': 0.0003265069970807985, 'n_epochs': 664, 'base_lr': 4.1194472432475355e-05, 'max_lr': 0.007884709650814378}. Best is trial 6 with value: 0.23809995651245117.\n",
            "[I 2024-12-17 15:28:49,986] Trial 73 finished with value: 0.3030461549758911 and parameters: {'droprate': 0.2393416410175978, 'lr': 0.0004928354569907758, 'n_epochs': 510, 'base_lr': 5.844399836869095e-05, 'max_lr': 0.007259999267071978}. Best is trial 6 with value: 0.23809995651245117.\n",
            "[I 2024-12-17 15:28:50,055] Trial 74 finished with value: 0.3411556720733643 and parameters: {'droprate': 0.3846310959950787, 'lr': 0.0005860856115558627, 'n_epochs': 1297, 'base_lr': 3.569971565277745e-05, 'max_lr': 0.006526556882953031}. Best is trial 6 with value: 0.23809995651245117.\n",
            "[I 2024-12-17 15:28:50,125] Trial 75 finished with value: 0.3137704133987427 and parameters: {'droprate': 0.27324835481889687, 'lr': 0.00018480925268056443, 'n_epochs': 2651, 'base_lr': 2.4437270498502303e-05, 'max_lr': 0.0032225695907193794}. Best is trial 6 with value: 0.23809995651245117.\n",
            "[I 2024-12-17 15:28:50,193] Trial 76 finished with value: 0.29553043842315674 and parameters: {'droprate': 0.1250047491673814, 'lr': 0.0003574421251120602, 'n_epochs': 2258, 'base_lr': 6.412088766127742e-05, 'max_lr': 0.00830215459723736}. Best is trial 6 with value: 0.23809995651245117.\n",
            "[I 2024-12-17 15:28:50,261] Trial 77 finished with value: 0.2830012083053589 and parameters: {'droprate': 0.355293301536308, 'lr': 0.0001191937261435211, 'n_epochs': 1096, 'base_lr': 2.8945452377388328e-05, 'max_lr': 0.0038729942600748968}. Best is trial 6 with value: 0.23809995651245117.\n",
            "[I 2024-12-17 15:28:50,338] Trial 78 finished with value: 0.36387343406677247 and parameters: {'droprate': 0.23060753456360392, 'lr': 0.0002288823571441543, 'n_epochs': 2861, 'base_lr': 9.706246692919987e-05, 'max_lr': 0.004669634970005782}. Best is trial 6 with value: 0.23809995651245117.\n",
            "[I 2024-12-17 15:28:50,418] Trial 79 finished with value: 0.3532305955886841 and parameters: {'droprate': 0.214565680493851, 'lr': 0.00016798558610528374, 'n_epochs': 2422, 'base_lr': 1.2525983294187697e-05, 'max_lr': 0.0063039377315343295}. Best is trial 6 with value: 0.23809995651245117.\n",
            "[I 2024-12-17 15:28:50,499] Trial 80 finished with value: 0.31790833473205565 and parameters: {'droprate': 0.40169894040259857, 'lr': 0.00024865405322993555, 'n_epochs': 941, 'base_lr': 2.034353093926055e-05, 'max_lr': 0.007004061390023684}. Best is trial 6 with value: 0.23809995651245117.\n",
            "[I 2024-12-17 15:28:50,571] Trial 81 finished with value: 0.359578275680542 and parameters: {'droprate': 0.38165618027948583, 'lr': 6.425098126163159e-05, 'n_epochs': 2095, 'base_lr': 4.369850019197211e-05, 'max_lr': 0.0046138607817063585}. Best is trial 6 with value: 0.23809995651245117.\n",
            "[I 2024-12-17 15:28:50,646] Trial 82 finished with value: 0.42991623878479 and parameters: {'droprate': 0.3905571172141991, 'lr': 9.88829400257484e-05, 'n_epochs': 1581, 'base_lr': 5.0632479048586605e-05, 'max_lr': 0.004508394429037776}. Best is trial 6 with value: 0.23809995651245117.\n",
            "[I 2024-12-17 15:28:50,721] Trial 83 finished with value: 0.38371977806091306 and parameters: {'droprate': 0.4234842913602984, 'lr': 0.00014958621150115725, 'n_epochs': 803, 'base_lr': 3.984504268543213e-05, 'max_lr': 0.005378973253516101}. Best is trial 6 with value: 0.23809995651245117.\n",
            "[I 2024-12-17 15:28:50,811] Trial 84 finished with value: 0.36264543533325194 and parameters: {'droprate': 0.34653508740642774, 'lr': 0.0002055090743772233, 'n_epochs': 1452, 'base_lr': 8.873381500513539e-05, 'max_lr': 0.008896257496347771}. Best is trial 6 with value: 0.23809995651245117.\n",
            "[I 2024-12-17 15:28:50,892] Trial 85 finished with value: 0.3857179880142212 and parameters: {'droprate': 0.4373481291437517, 'lr': 0.0002901181174439886, 'n_epochs': 1800, 'base_lr': 4.744061662095439e-05, 'max_lr': 0.0041499646837583875}. Best is trial 6 with value: 0.23809995651245117.\n",
            "[I 2024-12-17 15:28:50,969] Trial 86 finished with value: 0.3898081064224243 and parameters: {'droprate': 0.36523516139369105, 'lr': 0.00011034943999115138, 'n_epochs': 1606, 'base_lr': 5.3557602072895746e-05, 'max_lr': 0.003533487454148836}. Best is trial 6 with value: 0.23809995651245117.\n",
            "[I 2024-12-17 15:28:51,051] Trial 87 finished with value: 0.25457000732421875 and parameters: {'droprate': 0.3333352601949695, 'lr': 0.0009634880357109051, 'n_epochs': 1056, 'base_lr': 7.54130823585853e-05, 'max_lr': 0.0050419736715471035}. Best is trial 6 with value: 0.23809995651245117.\n",
            "[I 2024-12-17 15:28:51,131] Trial 88 finished with value: 0.35092179775238036 and parameters: {'droprate': 0.3330784329931582, 'lr': 0.0009427763368687366, 'n_epochs': 1046, 'base_lr': 7.038501753221851e-05, 'max_lr': 0.004956254728898661}. Best is trial 6 with value: 0.23809995651245117.\n",
            "[I 2024-12-17 15:28:51,213] Trial 89 finished with value: 0.3835580825805664 and parameters: {'droprate': 0.3165533207507371, 'lr': 0.0008854172677687435, 'n_epochs': 1197, 'base_lr': 7.622579981240135e-05, 'max_lr': 0.0015409117610125926}. Best is trial 6 with value: 0.23809995651245117.\n",
            "[I 2024-12-17 15:28:51,291] Trial 90 finished with value: 0.29016361236572263 and parameters: {'droprate': 0.2864529882602057, 'lr': 0.0006810537560728281, 'n_epochs': 724, 'base_lr': 8.158454347513523e-05, 'max_lr': 0.0057054219117285004}. Best is trial 6 with value: 0.23809995651245117.\n",
            "[I 2024-12-17 15:28:51,383] Trial 91 finished with value: 0.2961378335952759 and parameters: {'droprate': 0.3761320302965514, 'lr': 0.0008129273180105079, 'n_epochs': 895, 'base_lr': 8.392415215979842e-05, 'max_lr': 0.005191672675184732}. Best is trial 6 with value: 0.23809995651245117.\n",
            "[I 2024-12-17 15:28:51,472] Trial 92 finished with value: 0.2755441665649414 and parameters: {'droprate': 0.41014872183536044, 'lr': 0.00032538874179977706, 'n_epochs': 619, 'base_lr': 4.436074282033127e-05, 'max_lr': 0.0042221006507269475}. Best is trial 6 with value: 0.23809995651245117.\n",
            "[I 2024-12-17 15:28:51,554] Trial 93 finished with value: 0.29820091724395753 and parameters: {'droprate': 0.3536250209994078, 'lr': 0.00018634971505583623, 'n_epochs': 1184, 'base_lr': 3.3621697131871783e-05, 'max_lr': 0.004375968908789006}. Best is trial 6 with value: 0.23809995651245117.\n",
            "[I 2024-12-17 15:28:51,637] Trial 94 finished with value: 0.2369677782058716 and parameters: {'droprate': 0.29862833800538957, 'lr': 0.00013753472168662542, 'n_epochs': 1338, 'base_lr': 8.54919774541937e-05, 'max_lr': 0.0039040553548438436}. Best is trial 94 with value: 0.2369677782058716.\n",
            "[I 2024-12-17 15:28:51,718] Trial 95 finished with value: 0.27648444175720216 and parameters: {'droprate': 0.299486386769414, 'lr': 0.0009943217372394928, 'n_epochs': 981, 'base_lr': 8.549557745263604e-05, 'max_lr': 0.00393980870867951}. Best is trial 94 with value: 0.2369677782058716.\n",
            "[I 2024-12-17 15:28:51,774] Trial 96 finished with value: 0.34083425998687744 and parameters: {'droprate': 0.2784630609223075, 'lr': 2.3835426612606615e-06, 'n_epochs': 1300, 'base_lr': 9.245522643994528e-05, 'max_lr': 0.003520972564964874}. Best is trial 94 with value: 0.2369677782058716.\n",
            "[I 2024-12-17 15:28:51,845] Trial 97 finished with value: 0.3690037727355957 and parameters: {'droprate': 0.290692134224374, 'lr': 0.0002581183029154627, 'n_epochs': 4092, 'base_lr': 8.003533790346492e-05, 'max_lr': 0.005026755572935134}. Best is trial 94 with value: 0.2369677782058716.\n",
            "[I 2024-12-17 15:28:51,894] Trial 98 finished with value: 0.3719711065292358 and parameters: {'droprate': 0.3086198694607896, 'lr': 0.00039142851591287154, 'n_epochs': 3606, 'base_lr': 8.617971872811911e-05, 'max_lr': 0.0076188423298045255}. Best is trial 94 with value: 0.2369677782058716.\n",
            "[I 2024-12-17 15:28:51,943] Trial 99 finished with value: 0.36208410263061525 and parameters: {'droprate': 0.2604693764747384, 'lr': 0.00022295873323694055, 'n_epochs': 502, 'base_lr': 6.926547120255782e-05, 'max_lr': 0.0036928647489048}. Best is trial 94 with value: 0.2369677782058716.\n"
          ]
        }
      ],
      "source": [
        "study = optuna.create_study(directions=[\"minimize\"])\n",
        "study.optimize(objective, n_trials=100)"
      ]
    },
    {
      "cell_type": "code",
      "execution_count": null,
      "metadata": {
        "colab": {
          "base_uri": "https://localhost:8080/"
        },
        "id": "KIGUizShPEnV",
        "outputId": "9d6d0e40-0bab-448d-b11f-d9e461a2896f"
      },
      "outputs": [
        {
          "data": {
            "text/plain": [
              "{'droprate': 0.29862833800538957,\n",
              " 'lr': 0.00013753472168662542,\n",
              " 'n_epochs': 1338,\n",
              " 'base_lr': 8.54919774541937e-05,\n",
              " 'max_lr': 0.0039040553548438436}"
            ]
          },
          "execution_count": 19,
          "metadata": {},
          "output_type": "execute_result"
        }
      ],
      "source": [
        "# Check the tuned hyperparameters\n",
        "study.best_params"
      ]
    },
    {
      "cell_type": "markdown",
      "metadata": {
        "id": "HGC88QnUOPT1"
      },
      "source": [
        "### Train model with tuned hyperparameters"
      ]
    },
    {
      "cell_type": "code",
      "execution_count": null,
      "metadata": {
        "id": "RFza2tBZWH2V"
      },
      "outputs": [],
      "source": [
        "def training_loop(model, criterion, optimizer, scheduler, train_loader, epoch):\n",
        "  train_losses = []\n",
        "  for epoch in range(epoch):\n",
        "    model.train()\n",
        "    training_loss = 0\n",
        "    for batch_idx, (inputs, targets) in enumerate(train_loader):\n",
        "      # Forward pass\n",
        "      predictions = model(inputs)\n",
        "      loss = criterion(predictions, targets)\n",
        "      # Zero out existing gradients\n",
        "      optimizer.zero_grad()\n",
        "      # Backward pass\n",
        "      loss.backward()\n",
        "      optimizer.step()\n",
        "      training_loss += loss.item()\n",
        "    # Adjust learning rates after every epoch\n",
        "    scheduler.step()\n",
        "    # Check overall training loss\n",
        "    training_loss = training_loss/len(train_loader)\n",
        "    train_losses.append(training_loss)\n",
        "    # Print training loss\n",
        "    if epoch % 100 == 0:\n",
        "      print(training_loss)\n",
        "  return model, train_losses"
      ]
    },
    {
      "cell_type": "code",
      "execution_count": null,
      "metadata": {
        "id": "wBfxpOiWOukh"
      },
      "outputs": [],
      "source": [
        "# Parameter setup\n",
        "droprate = study.best_params['droprate']\n",
        "brchindices = brchsize\n",
        "numvars = len(brchsize[1:])\n",
        "# Initialize model\n",
        "model = baseline_ts_drop(droprate, brchindices, numvars)\n",
        "# Define a loss function and optimizer\n",
        "loss_fn = torch.nn.L1Loss()\n",
        "optimizer = torch.optim.Adam(model.parameters(), lr=study.best_params['lr'])\n",
        "# Use cyclical LR scheduler\n",
        "scheduler = torch.optim.lr_scheduler.CyclicLR(optimizer, base_lr=study.best_params['base_lr'], max_lr=study.best_params['max_lr'], cycle_momentum=False)"
      ]
    },
    {
      "cell_type": "code",
      "execution_count": null,
      "metadata": {
        "colab": {
          "base_uri": "https://localhost:8080/"
        },
        "id": "RZJL2ExbOylS",
        "outputId": "e5c367cb-41c3-4ea0-a1d7-264ec570db78"
      },
      "outputs": [
        {
          "name": "stdout",
          "output_type": "stream",
          "text": [
            "1.5922526121139526\n",
            "1.6582163572311401\n",
            "1.6786190271377563\n",
            "0.8575361371040344\n",
            "0.720770537853241\n",
            "0.7311463356018066\n",
            "0.9681157469749451\n",
            "0.9731436967849731\n",
            "0.8115130662918091\n",
            "0.6815161108970642\n",
            "0.7592265605926514\n",
            "0.78668612241745\n",
            "0.8992258906364441\n",
            "1.0203241109848022\n"
          ]
        }
      ],
      "source": [
        "model, train_loss = training_loop(model,loss_fn,optimizer,scheduler,dataloader,study.best_params['n_epochs'])"
      ]
    },
    {
      "cell_type": "code",
      "execution_count": null,
      "metadata": {
        "colab": {
          "base_uri": "https://localhost:8080/",
          "height": 430
        },
        "id": "HhYe1zbVaqEv",
        "outputId": "8c34aa4b-9234-45ec-c56c-3fb295381c6f"
      },
      "outputs": [
        {
          "data": {
            "image/png": "[encoded data removed]",
            "text/plain": [
              "<Figure size 640x480 with 1 Axes>"
            ]
          },
          "metadata": {},
          "output_type": "display_data"
        }
      ],
      "source": [
        "plt.plot(train_loss)\n",
        "plt.show()"
      ]
    },
    {
      "cell_type": "code",
      "execution_count": null,
      "metadata": {
        "id": "Euc8hAZAP5Gv"
      },
      "outputs": [],
      "source": []
    }
  ],
  "metadata": {
    "colab": {
      "provenance": []
    },
    "kernelspec": {
      "display_name": "tensor_flow",
      "language": "python",
      "name": "python3"
    },
    "language_info": {
      "codemirror_mode": {
        "name": "ipython",
        "version": 3
      },
      "file_extension": ".py",
      "mimetype": "text/x-python",
      "name": "python",
      "nbconvert_exporter": "python",
      "pygments_lexer": "ipython3",
      "version": "3.9.18"
    }
  },
  "nbformat": 4,
  "nbformat_minor": 0
}

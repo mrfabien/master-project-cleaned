{
  "cells": [
    {
      "cell_type": "markdown",
      "metadata": {
        "id": "D0moAoFIzCFV"
      },
      "source": [
        "# Code to process winter storm information\n",
        "\n",
        "$\\textbf{Introduction}$: The notebook contains code to process the input and output data for the European winter storm severe winds project. Specifically, we introduce a basic nested PC (Principal Components) Regression model with dropouts, and a Variational Encoder-Decoder (VEDs) to predict the quantile function (inversed CDF) of maximum surface wind gusts\n",
        "\n",
        "The quantile function can be calculated from a given Cumulative Distribution Function (CDF) with the following equation:\n",
        "\n",
        "$ Q = log_{10} (1 - CDF) $\n",
        "\n",
        "The quantile function is particularly useful for our project because it accentuates the difference in distribution tail values. This property is useful in our context of predicting probabilities of rare severe winds in winter storms."
      ]
    },
    {
      "cell_type": "markdown",
      "metadata": {
        "id": "gcmreaBi3Q5x"
      },
      "source": [
        "## Import relevant packages and data"
      ]
    },
    {
      "cell_type": "code",
      "execution_count": 1,
      "metadata": {
        "colab": {
          "base_uri": "https://localhost:8080/"
        },
        "id": "qa4qlthVI1tr",
        "outputId": "cbc13a30-9a19-40cf-ecac-946c71861d40"
      },
      "outputs": [
        {
          "name": "stdout",
          "output_type": "stream",
          "text": [
            "Requirement already satisfied: optuna in /Users/fabienaugsburger/anaconda3/envs/tensor_flow/lib/python3.9/site-packages (4.1.0)\n",
            "Requirement already satisfied: alembic>=1.5.0 in /Users/fabienaugsburger/anaconda3/envs/tensor_flow/lib/python3.9/site-packages (from optuna) (1.14.0)\n",
            "Requirement already satisfied: colorlog in /Users/fabienaugsburger/anaconda3/envs/tensor_flow/lib/python3.9/site-packages (from optuna) (6.9.0)\n",
            "Requirement already satisfied: numpy in /Users/fabienaugsburger/anaconda3/envs/tensor_flow/lib/python3.9/site-packages (from optuna) (1.26.4)\n",
            "Requirement already satisfied: packaging>=20.0 in /Users/fabienaugsburger/anaconda3/envs/tensor_flow/lib/python3.9/site-packages (from optuna) (24.2)\n",
            "Requirement already satisfied: sqlalchemy>=1.4.2 in /Users/fabienaugsburger/anaconda3/envs/tensor_flow/lib/python3.9/site-packages (from optuna) (2.0.36)\n",
            "Requirement already satisfied: tqdm in /Users/fabienaugsburger/anaconda3/envs/tensor_flow/lib/python3.9/site-packages (from optuna) (4.66.5)\n",
            "Requirement already satisfied: PyYAML in /Users/fabienaugsburger/anaconda3/envs/tensor_flow/lib/python3.9/site-packages (from optuna) (6.0.2)\n",
            "Requirement already satisfied: Mako in /Users/fabienaugsburger/anaconda3/envs/tensor_flow/lib/python3.9/site-packages (from alembic>=1.5.0->optuna) (1.3.8)\n",
            "Requirement already satisfied: typing-extensions>=4 in /Users/fabienaugsburger/anaconda3/envs/tensor_flow/lib/python3.9/site-packages (from alembic>=1.5.0->optuna) (4.12.2)\n",
            "Requirement already satisfied: MarkupSafe>=0.9.2 in /Users/fabienaugsburger/anaconda3/envs/tensor_flow/lib/python3.9/site-packages (from Mako->alembic>=1.5.0->optuna) (2.1.3)\n"
          ]
        }
      ],
      "source": [
        "! pip install optuna"
      ]
    },
    {
      "cell_type": "code",
      "execution_count": 1,
      "metadata": {
        "id": "AygV5YB0yXjq"
      },
      "outputs": [
        {
          "name": "stderr",
          "output_type": "stream",
          "text": [
            "/Users/fabienaugsburger/anaconda3/envs/tensor_flow/lib/python3.9/site-packages/tqdm/auto.py:21: TqdmWarning: IProgress not found. Please update jupyter and ipywidgets. See https://ipywidgets.readthedocs.io/en/stable/user_install.html\n",
            "  from .autonotebook import tqdm as notebook_tqdm\n"
          ]
        }
      ],
      "source": [
        "import numpy as np\n",
        "import torch\n",
        "import torch.nn as nn\n",
        "import torch.nn.functional as F\n",
        "import torch.optim as optim\n",
        "from torch.utils.data import DataLoader, TensorDataset\n",
        "from sklearn.preprocessing import StandardScaler\n",
        "import pandas as pd\n",
        "import matplotlib.pyplot as plt\n",
        "import optuna\n",
        "import os\n",
        "import sys\n",
        "\n",
        "operating_system = 'mac'\n",
        "\n",
        "if operating_system == 'win':\n",
        "    os.chdir('C:/Users/fabau/OneDrive/Documents/GitHub/master-project-cleaned/')\n",
        "elif operating_system == 'curnagl':\n",
        "    os.chdir('/work/FAC/FGSE/IDYST/tbeucler/default/fabien/repos/cleaner_version/')\n",
        "else:\n",
        "    os.chdir('/Users/fabienaugsburger/Documents/GitHub/master-project-cleaned/')\n",
        "\n",
        "util_perso = os.path.abspath('util/processing')\n",
        "sys.path.append(util_perso)\n",
        "util_perso = os.path.abspath('util/feature_selection')\n",
        "sys.path.append(util_perso)\n",
        "\n",
        "from extraction_squares import split_storm_numbers\n",
        "from selection_vars import prepare_training_data"
      ]
    },
    {
      "cell_type": "code",
      "execution_count": 2,
      "metadata": {
        "id": "5UqGTOD13nMA"
      },
      "outputs": [],
      "source": [
        "# Read the csv files for training time series (inputs)\n",
        "all_loadings = pd.read_csv('pre_processing/nestedMLR/all_loadings.csv', header=0)\n",
        "\n",
        "cdf = '_cdf_'\n",
        "n_vars = 40\n",
        "selected_var = pd.read_csv(f'pre_processing/feature_selection/selected_vars_loadings/selected_vars_custom{cdf}{n_vars}.csv')['0'].to_list()\n",
        "\n",
        "# Read the csv files for processed quantile function outputs\n",
        "output_quantile = pd.read_csv('pre_processing/nestedMLR/log_cdf_max_combined.csv')"
      ]
    },
    {
      "cell_type": "markdown",
      "metadata": {},
      "source": [
        "# prepare the data"
      ]
    },
    {
      "cell_type": "code",
      "execution_count": 15,
      "metadata": {},
      "outputs": [
        {
          "name": "stdout",
          "output_type": "stream",
          "text": [
            "To keep 50 storms in the training set, storms 45 and 87 are removed from the test set.\n"
          ]
        },
        {
          "name": "stderr",
          "output_type": "stream",
          "text": [
            "/var/folders/01/5ryz4pnn581dj9gk6r1nn5qr0000gn/T/ipykernel_18981/3925337382.py:45: SettingWithCopyWarning: \n",
            "A value is trying to be set on a copy of a slice from a DataFrame.\n",
            "Try using .loc[row_indexer,col_indexer] = value instead\n",
            "\n",
            "See the caveats in the documentation: https://pandas.pydata.org/pandas-docs/stable/user_guide/indexing.html#returning-a-view-versus-a-copy\n",
            "  transposed_data_5['storm_number'] = storm_numbers\n"
          ]
        }
      ],
      "source": [
        "# Extract variable names and storm data\n",
        "variables = all_loadings['variable']  # First column\n",
        "storm_data = all_loadings.iloc[:, 1:]  # All columns from the second onward\n",
        "\n",
        "# Transpose storm data and set variable names as columns\n",
        "transposed_data = storm_data.T\n",
        "transposed_data.columns = variables\n",
        "\n",
        "# Optionally reset index to name storms\n",
        "transposed_data.index.name = 'storm_number'\n",
        "transposed_data.reset_index(inplace=True)\n",
        "\n",
        "# extract the storm number\n",
        "storm_numbers = transposed_data['storm_number'].copy().to_numpy().astype(int)\n",
        "\n",
        "updated_columns = []\n",
        "pca_tracker = {}\n",
        "# for 20 variables\n",
        "for var in transposed_data.columns:\n",
        "    if var not in pca_tracker:\n",
        "        pca_tracker[var] = 1\n",
        "    else:\n",
        "        pca_tracker[var] += 1\n",
        "    # Append PCA number to the variable name\n",
        "    updated_columns.append(f\"{var}_PCA_{pca_tracker[var]}\")\n",
        "# Update the column names\n",
        "transposed_data.columns = updated_columns\n",
        "# rename the first column to storm_number\n",
        "transposed_data = transposed_data.rename(columns={'storm_number_PCA_1': 'storm_number'})\n",
        "transposed_data['storm_number'] = transposed_data['storm_number'].astype(int)\n",
        "\n",
        "# Extract variables most correlated with the target and leaving the storm number\n",
        "columns_to_select_5 = [col for col in selected_var if col in transposed_data.columns]\n",
        "transposed_data_5 = transposed_data[columns_to_select_5]\n",
        "\n",
        "# separate the data in training and testing\n",
        "storm_index_training, storm_index_test, storm_index_validation = split_storm_numbers(storm_numbers, 0.12, 42, 'number')\n",
        "\n",
        "# Sort the storm indices\n",
        "storm_index_training.sort()\n",
        "storm_index_test.sort()\n",
        "storm_index_validation.sort()\n",
        "\n",
        "# add the storm number to the transposed data\n",
        "transposed_data_5['storm_number'] = storm_numbers\n",
        "columns_with_storm = transposed_data_5.columns\n",
        "\n",
        "X_train = prepare_training_data(transposed_data_5, storm_index_training, columns_with_storm)\n",
        "X_test = prepare_training_data(transposed_data_5, storm_index_test, columns_with_storm)\n",
        "X_validation = prepare_training_data(transposed_data_5, storm_index_validation, columns_with_storm)"
      ]
    },
    {
      "cell_type": "markdown",
      "metadata": {
        "id": "qENqnFDQ54tY"
      },
      "source": [
        "## Check data\n",
        "Let's do a prelimiary check to familiarize ourselves with the data first. What informations are stored in the csv files?"
      ]
    },
    {
      "cell_type": "code",
      "execution_count": 17,
      "metadata": {
        "colab": {
          "base_uri": "https://localhost:8080/"
        },
        "id": "u3PKgyyw52e2",
        "outputId": "742aa67e-d363-4b45-9ad0-5515f93877a7"
      },
      "outputs": [
        {
          "name": "stdout",
          "output_type": "stream",
          "text": [
            "<class 'pandas.core.frame.DataFrame'>\n",
            "RangeIndex: 894 entries, 0 to 893\n",
            "Data columns (total 64 columns):\n",
            " #   Column    Non-Null Count  Dtype  \n",
            "---  ------    --------------  -----  \n",
            " 0   variable  894 non-null    object \n",
            " 1   1         894 non-null    float64\n",
            " 2   2         894 non-null    float64\n",
            " 3   3         894 non-null    float64\n",
            " 4   5         894 non-null    float64\n",
            " 5   6         894 non-null    float64\n",
            " 6   7         894 non-null    float64\n",
            " 7   8         894 non-null    float64\n",
            " 8   11        894 non-null    float64\n",
            " 9   12        894 non-null    float64\n",
            " 10  13        894 non-null    float64\n",
            " 11  16        894 non-null    float64\n",
            " 12  19        894 non-null    float64\n",
            " 13  21        894 non-null    float64\n",
            " 14  26        894 non-null    float64\n",
            " 15  27        894 non-null    float64\n",
            " 16  29        894 non-null    float64\n",
            " 17  31        894 non-null    float64\n",
            " 18  32        894 non-null    float64\n",
            " 19  33        894 non-null    float64\n",
            " 20  34        894 non-null    float64\n",
            " 21  38        894 non-null    float64\n",
            " 22  39        894 non-null    float64\n",
            " 23  43        894 non-null    float64\n",
            " 24  44        894 non-null    float64\n",
            " 25  45        894 non-null    float64\n",
            " 26  46        894 non-null    float64\n",
            " 27  47        894 non-null    float64\n",
            " 28  48        894 non-null    float64\n",
            " 29  49        894 non-null    float64\n",
            " 30  50        894 non-null    float64\n",
            " 31  51        894 non-null    float64\n",
            " 32  53        894 non-null    float64\n",
            " 33  54        894 non-null    float64\n",
            " 34  56        894 non-null    float64\n",
            " 35  58        894 non-null    float64\n",
            " 36  60        894 non-null    float64\n",
            " 37  61        894 non-null    float64\n",
            " 38  62        894 non-null    float64\n",
            " 39  63        894 non-null    float64\n",
            " 40  64        894 non-null    float64\n",
            " 41  65        894 non-null    float64\n",
            " 42  66        894 non-null    float64\n",
            " 43  67        894 non-null    float64\n",
            " 44  68        894 non-null    float64\n",
            " 45  69        894 non-null    float64\n",
            " 46  71        894 non-null    float64\n",
            " 47  72        894 non-null    float64\n",
            " 48  73        894 non-null    float64\n",
            " 49  76        894 non-null    float64\n",
            " 50  77        894 non-null    float64\n",
            " 51  78        894 non-null    float64\n",
            " 52  79        894 non-null    float64\n",
            " 53  80        894 non-null    float64\n",
            " 54  81        894 non-null    float64\n",
            " 55  82        894 non-null    float64\n",
            " 56  83        894 non-null    float64\n",
            " 57  85        894 non-null    float64\n",
            " 58  86        894 non-null    float64\n",
            " 59  87        894 non-null    float64\n",
            " 60  89        894 non-null    float64\n",
            " 61  90        894 non-null    float64\n",
            " 62  93        894 non-null    float64\n",
            " 63  95        894 non-null    float64\n",
            "dtypes: float64(63), object(1)\n",
            "memory usage: 447.1+ KB\n"
          ]
        }
      ],
      "source": [
        "all_loadings.info()"
      ]
    },
    {
      "cell_type": "markdown",
      "metadata": {
        "id": "qWlEFGVO6ufF"
      },
      "source": [
        "The input csv files contain entries of different PC loadings associated with a particular physical variable. In this case, we see 3 different loadings associated with maximum 1000 hPa geopotential heights. Each row entry represents the time series shape characteristics for 1 storm."
      ]
    },
    {
      "cell_type": "code",
      "execution_count": 18,
      "metadata": {
        "colab": {
          "base_uri": "https://localhost:8080/",
          "height": 424
        },
        "id": "5QwneCW16SEd",
        "outputId": "645126af-512a-456c-e676-d086bdae6eff"
      },
      "outputs": [
        {
          "data": {
            "text/html": [
              "<div>\n",
              "<style scoped>\n",
              "    .dataframe tbody tr th:only-of-type {\n",
              "        vertical-align: middle;\n",
              "    }\n",
              "\n",
              "    .dataframe tbody tr th {\n",
              "        vertical-align: top;\n",
              "    }\n",
              "\n",
              "    .dataframe thead th {\n",
              "        text-align: right;\n",
              "    }\n",
              "</style>\n",
              "<table border=\"1\" class=\"dataframe\">\n",
              "  <thead>\n",
              "    <tr style=\"text-align: right;\">\n",
              "      <th></th>\n",
              "      <th>storm_number</th>\n",
              "      <th>storm_name</th>\n",
              "      <th>cluster_0</th>\n",
              "      <th>cluster_1</th>\n",
              "      <th>cluster_2</th>\n",
              "      <th>cluster_3</th>\n",
              "      <th>cluster_4</th>\n",
              "      <th>cluster_5</th>\n",
              "      <th>cluster_6</th>\n",
              "      <th>cluster_7</th>\n",
              "      <th>cluster_8</th>\n",
              "      <th>cluster_9</th>\n",
              "      <th>cluster_10</th>\n",
              "      <th>cluster_11</th>\n",
              "      <th>cluster_12</th>\n",
              "      <th>cluster_13</th>\n",
              "      <th>cluster_14</th>\n",
              "    </tr>\n",
              "  </thead>\n",
              "  <tbody>\n",
              "    <tr>\n",
              "      <th>0</th>\n",
              "      <td>82</td>\n",
              "      <td>C3S_STORM_TRACKS_ERA5</td>\n",
              "      <td>2.242762</td>\n",
              "      <td>1.441315</td>\n",
              "      <td>1.452814</td>\n",
              "      <td>1.705352</td>\n",
              "      <td>1.482131</td>\n",
              "      <td>2.280985</td>\n",
              "      <td>4.591923</td>\n",
              "      <td>1.618292</td>\n",
              "      <td>3.075134</td>\n",
              "      <td>0.556794</td>\n",
              "      <td>1.619725</td>\n",
              "      <td>2.903208</td>\n",
              "      <td>3.807250</td>\n",
              "      <td>0.856282</td>\n",
              "      <td>0.391914</td>\n",
              "    </tr>\n",
              "    <tr>\n",
              "      <th>1</th>\n",
              "      <td>1</td>\n",
              "      <td>C3S_STORM_TRACKS_ERA5</td>\n",
              "      <td>2.549915</td>\n",
              "      <td>0.631354</td>\n",
              "      <td>1.490921</td>\n",
              "      <td>3.063364</td>\n",
              "      <td>0.401477</td>\n",
              "      <td>0.314291</td>\n",
              "      <td>3.869775</td>\n",
              "      <td>0.122579</td>\n",
              "      <td>0.081556</td>\n",
              "      <td>0.006147</td>\n",
              "      <td>1.818020</td>\n",
              "      <td>1.396851</td>\n",
              "      <td>1.348957</td>\n",
              "      <td>0.248937</td>\n",
              "      <td>0.762328</td>\n",
              "    </tr>\n",
              "    <tr>\n",
              "      <th>2</th>\n",
              "      <td>13</td>\n",
              "      <td>C3S_STORM_TRACKS_ERA5</td>\n",
              "      <td>0.388078</td>\n",
              "      <td>0.111882</td>\n",
              "      <td>2.341128</td>\n",
              "      <td>0.081180</td>\n",
              "      <td>0.461070</td>\n",
              "      <td>0.290018</td>\n",
              "      <td>1.320162</td>\n",
              "      <td>0.097615</td>\n",
              "      <td>0.172890</td>\n",
              "      <td>0.229829</td>\n",
              "      <td>1.615095</td>\n",
              "      <td>2.983414</td>\n",
              "      <td>4.470059</td>\n",
              "      <td>0.174978</td>\n",
              "      <td>0.238000</td>\n",
              "    </tr>\n",
              "    <tr>\n",
              "      <th>3</th>\n",
              "      <td>95</td>\n",
              "      <td>AIDEN</td>\n",
              "      <td>0.090794</td>\n",
              "      <td>0.788324</td>\n",
              "      <td>0.375771</td>\n",
              "      <td>2.405377</td>\n",
              "      <td>0.633807</td>\n",
              "      <td>0.136090</td>\n",
              "      <td>3.773348</td>\n",
              "      <td>0.226815</td>\n",
              "      <td>0.507296</td>\n",
              "      <td>0.007835</td>\n",
              "      <td>0.227672</td>\n",
              "      <td>0.907070</td>\n",
              "      <td>0.734044</td>\n",
              "      <td>0.023960</td>\n",
              "      <td>1.022132</td>\n",
              "    </tr>\n",
              "    <tr>\n",
              "      <th>4</th>\n",
              "      <td>7</td>\n",
              "      <td>HERTA</td>\n",
              "      <td>1.176497</td>\n",
              "      <td>2.152701</td>\n",
              "      <td>0.839556</td>\n",
              "      <td>4.972494</td>\n",
              "      <td>0.238821</td>\n",
              "      <td>0.338416</td>\n",
              "      <td>2.370679</td>\n",
              "      <td>0.979826</td>\n",
              "      <td>0.835825</td>\n",
              "      <td>0.509907</td>\n",
              "      <td>0.669523</td>\n",
              "      <td>2.056866</td>\n",
              "      <td>1.313424</td>\n",
              "      <td>1.460252</td>\n",
              "      <td>4.788285</td>\n",
              "    </tr>\n",
              "    <tr>\n",
              "      <th>...</th>\n",
              "      <td>...</td>\n",
              "      <td>...</td>\n",
              "      <td>...</td>\n",
              "      <td>...</td>\n",
              "      <td>...</td>\n",
              "      <td>...</td>\n",
              "      <td>...</td>\n",
              "      <td>...</td>\n",
              "      <td>...</td>\n",
              "      <td>...</td>\n",
              "      <td>...</td>\n",
              "      <td>...</td>\n",
              "      <td>...</td>\n",
              "      <td>...</td>\n",
              "      <td>...</td>\n",
              "      <td>...</td>\n",
              "      <td>...</td>\n",
              "    </tr>\n",
              "    <tr>\n",
              "      <th>58</th>\n",
              "      <td>12</td>\n",
              "      <td>C3S_STORM_TRACKS_ERA5</td>\n",
              "      <td>0.644110</td>\n",
              "      <td>0.095139</td>\n",
              "      <td>3.364392</td>\n",
              "      <td>2.349703</td>\n",
              "      <td>0.614161</td>\n",
              "      <td>0.211642</td>\n",
              "      <td>2.991942</td>\n",
              "      <td>0.103584</td>\n",
              "      <td>0.010931</td>\n",
              "      <td>0.295994</td>\n",
              "      <td>1.274047</td>\n",
              "      <td>1.759591</td>\n",
              "      <td>2.270806</td>\n",
              "      <td>0.463708</td>\n",
              "      <td>1.908599</td>\n",
              "    </tr>\n",
              "    <tr>\n",
              "      <th>59</th>\n",
              "      <td>73</td>\n",
              "      <td>XAVER</td>\n",
              "      <td>9.164017</td>\n",
              "      <td>1.967819</td>\n",
              "      <td>2.317177</td>\n",
              "      <td>5.309236</td>\n",
              "      <td>2.678723</td>\n",
              "      <td>0.285856</td>\n",
              "      <td>6.795611</td>\n",
              "      <td>0.631347</td>\n",
              "      <td>0.524138</td>\n",
              "      <td>0.308713</td>\n",
              "      <td>1.864410</td>\n",
              "      <td>3.644108</td>\n",
              "      <td>4.920953</td>\n",
              "      <td>0.273122</td>\n",
              "      <td>0.432820</td>\n",
              "    </tr>\n",
              "    <tr>\n",
              "      <th>60</th>\n",
              "      <td>8</td>\n",
              "      <td>C3S_STORM_TRACKS_ERA5</td>\n",
              "      <td>2.425189</td>\n",
              "      <td>1.976442</td>\n",
              "      <td>0.632020</td>\n",
              "      <td>2.847837</td>\n",
              "      <td>0.553720</td>\n",
              "      <td>0.094339</td>\n",
              "      <td>6.995991</td>\n",
              "      <td>0.857006</td>\n",
              "      <td>0.069633</td>\n",
              "      <td>0.164015</td>\n",
              "      <td>0.917848</td>\n",
              "      <td>1.430968</td>\n",
              "      <td>0.757042</td>\n",
              "      <td>0.510893</td>\n",
              "      <td>1.421436</td>\n",
              "    </tr>\n",
              "    <tr>\n",
              "      <th>61</th>\n",
              "      <td>83</td>\n",
              "      <td>C3S_STORM_TRACKS_ERA5</td>\n",
              "      <td>2.600947</td>\n",
              "      <td>1.348670</td>\n",
              "      <td>0.844972</td>\n",
              "      <td>4.010580</td>\n",
              "      <td>0.809561</td>\n",
              "      <td>0.128716</td>\n",
              "      <td>4.218259</td>\n",
              "      <td>0.902120</td>\n",
              "      <td>0.365990</td>\n",
              "      <td>0.426293</td>\n",
              "      <td>1.721566</td>\n",
              "      <td>1.772529</td>\n",
              "      <td>1.847808</td>\n",
              "      <td>0.122705</td>\n",
              "      <td>2.275047</td>\n",
              "    </tr>\n",
              "    <tr>\n",
              "      <th>62</th>\n",
              "      <td>43</td>\n",
              "      <td>C3S_STORM_TRACKS_ERA5</td>\n",
              "      <td>1.058049</td>\n",
              "      <td>1.236552</td>\n",
              "      <td>0.289159</td>\n",
              "      <td>2.254326</td>\n",
              "      <td>0.810320</td>\n",
              "      <td>1.549956</td>\n",
              "      <td>3.443604</td>\n",
              "      <td>1.579309</td>\n",
              "      <td>0.194101</td>\n",
              "      <td>0.072695</td>\n",
              "      <td>0.527556</td>\n",
              "      <td>1.218760</td>\n",
              "      <td>0.658943</td>\n",
              "      <td>1.477242</td>\n",
              "      <td>0.070396</td>\n",
              "    </tr>\n",
              "  </tbody>\n",
              "</table>\n",
              "<p>63 rows × 17 columns</p>\n",
              "</div>"
            ],
            "text/plain": [
              "    storm_number             storm_name  cluster_0  cluster_1  cluster_2  \\\n",
              "0             82  C3S_STORM_TRACKS_ERA5   2.242762   1.441315   1.452814   \n",
              "1              1  C3S_STORM_TRACKS_ERA5   2.549915   0.631354   1.490921   \n",
              "2             13  C3S_STORM_TRACKS_ERA5   0.388078   0.111882   2.341128   \n",
              "3             95                 AIDEN    0.090794   0.788324   0.375771   \n",
              "4              7                  HERTA   1.176497   2.152701   0.839556   \n",
              "..           ...                    ...        ...        ...        ...   \n",
              "58            12  C3S_STORM_TRACKS_ERA5   0.644110   0.095139   3.364392   \n",
              "59            73                  XAVER   9.164017   1.967819   2.317177   \n",
              "60             8  C3S_STORM_TRACKS_ERA5   2.425189   1.976442   0.632020   \n",
              "61            83  C3S_STORM_TRACKS_ERA5   2.600947   1.348670   0.844972   \n",
              "62            43  C3S_STORM_TRACKS_ERA5   1.058049   1.236552   0.289159   \n",
              "\n",
              "    cluster_3  cluster_4  cluster_5  cluster_6  cluster_7  cluster_8  \\\n",
              "0    1.705352   1.482131   2.280985   4.591923   1.618292   3.075134   \n",
              "1    3.063364   0.401477   0.314291   3.869775   0.122579   0.081556   \n",
              "2    0.081180   0.461070   0.290018   1.320162   0.097615   0.172890   \n",
              "3    2.405377   0.633807   0.136090   3.773348   0.226815   0.507296   \n",
              "4    4.972494   0.238821   0.338416   2.370679   0.979826   0.835825   \n",
              "..        ...        ...        ...        ...        ...        ...   \n",
              "58   2.349703   0.614161   0.211642   2.991942   0.103584   0.010931   \n",
              "59   5.309236   2.678723   0.285856   6.795611   0.631347   0.524138   \n",
              "60   2.847837   0.553720   0.094339   6.995991   0.857006   0.069633   \n",
              "61   4.010580   0.809561   0.128716   4.218259   0.902120   0.365990   \n",
              "62   2.254326   0.810320   1.549956   3.443604   1.579309   0.194101   \n",
              "\n",
              "    cluster_9  cluster_10  cluster_11  cluster_12  cluster_13  cluster_14  \n",
              "0    0.556794    1.619725    2.903208    3.807250    0.856282    0.391914  \n",
              "1    0.006147    1.818020    1.396851    1.348957    0.248937    0.762328  \n",
              "2    0.229829    1.615095    2.983414    4.470059    0.174978    0.238000  \n",
              "3    0.007835    0.227672    0.907070    0.734044    0.023960    1.022132  \n",
              "4    0.509907    0.669523    2.056866    1.313424    1.460252    4.788285  \n",
              "..        ...         ...         ...         ...         ...         ...  \n",
              "58   0.295994    1.274047    1.759591    2.270806    0.463708    1.908599  \n",
              "59   0.308713    1.864410    3.644108    4.920953    0.273122    0.432820  \n",
              "60   0.164015    0.917848    1.430968    0.757042    0.510893    1.421436  \n",
              "61   0.426293    1.721566    1.772529    1.847808    0.122705    2.275047  \n",
              "62   0.072695    0.527556    1.218760    0.658943    1.477242    0.070396  \n",
              "\n",
              "[63 rows x 17 columns]"
            ]
          },
          "execution_count": 18,
          "metadata": {},
          "output_type": "execute_result"
        }
      ],
      "source": [
        "output_quantile"
      ]
    },
    {
      "cell_type": "markdown",
      "metadata": {
        "id": "znZ0ZtutCwx2"
      },
      "source": [
        "The output csv files contain entries of quantile functions for 94 storms"
      ]
    },
    {
      "cell_type": "markdown",
      "metadata": {
        "id": "H2RLDoYRDmkV"
      },
      "source": [
        "## Combine input csvs"
      ]
    },
    {
      "cell_type": "code",
      "execution_count": 1,
      "metadata": {},
      "outputs": [],
      "source": [
        "'''var1 = input_1000_Z_max.to_numpy()[:,1:]\n",
        "var3 = input_800_rh_max.to_numpy()[:,1:]\n",
        "var2 = input_2m_dew_max.to_numpy()[:,1:]'''\n",
        "\n",
        "# Create and Normalize INPUT_TRAIN\n",
        "#INPUT_TRAIN = np.concatenate((var1, var2, var3), axis=1)\n",
        "#scaler = StandardScaler()  # or MinMaxScaler()\n",
        "#INPUT_TRAIN_NORMALIZED = np.asarray(scaler.fit_transform(INPUT_TRAIN), dtype=np.float32)\n",
        "# TO DO\n"
      ]
    },
    {
      "cell_type": "code",
      "execution_count": 20,
      "metadata": {
        "id": "KwHsU5JgC26B"
      },
      "outputs": [],
      "source": [
        "# Convert the filtered DataFrame to a NumPy array (if needed, retain specific columns)\n",
        "INPUT_TRAIN = X_train.to_numpy(dtype=np.float32)\n",
        "scaler = StandardScaler()  # or MinMaxScaler()\n",
        "INPUT_TRAIN_NORMALIZED = np.asarray(scaler.fit_transform(INPUT_TRAIN), dtype=np.float32)\n",
        "\n",
        "# Create ML outputs\n",
        "filtered_output = output_quantile[output_quantile['storm_number'].isin(storm_index_training)]\n",
        "filtered_output = filtered_output.drop(columns=['storm_name', 'storm_number'])\n",
        "\n",
        "# Convert the filtered DataFrame to a NumPy array (if needed, retain specific columns)\n",
        "OUTPUT_TRAIN = filtered_output.to_numpy(dtype=np.float32)\n",
        "\n",
        "filtered_input_np = INPUT_TRAIN.T#.to_numpy(dtype=np.float32)\n",
        "var1 = filtered_input_np[:2, 1:]\n",
        "var2 = filtered_input_np[2:3, 1:]\n",
        "var3 = filtered_input_np[3:4, 1:]\n",
        "brchsize = [0] + [varobj.shape[1] for varobj in [var1,var2,var3]]"
      ]
    },
    {
      "cell_type": "code",
      "execution_count": 21,
      "metadata": {
        "id": "Wpdxj5uOK8YO"
      },
      "outputs": [],
      "source": [
        "brchsize = [0] + [varobj.shape[1] for varobj in [var1,var2,var3]]"
      ]
    },
    {
      "cell_type": "code",
      "execution_count": 56,
      "metadata": {},
      "outputs": [
        {
          "name": "stdout",
          "output_type": "stream",
          "text": [
            "[0, 45, 45, 45, 45, 45, 45, 45, 45, 45, 45, 45, 45, 45, 45, 45, 45, 45, 45, 45, 45, 45, 45, 45, 45, 45, 45, 45, 45, 45, 45, 45, 45, 45, 45, 45, 45, 45, 45, 45, 45, 45, 45, 45, 45, 45, 45, 45, 45, 45, 45, 45, 45, 45, 45, 45, 45, 45, 45, 45, 45, 45, 45, 45, 45, 45, 45, 45, 45, 45, 45, 45, 45, 45, 45, 45, 45, 45, 45, 45, 45, 45, 45, 45, 45, 45, 45, 45, 45, 45, 45, 45, 45, 45, 45, 45, 45, 45, 45, 45, 45, 45, 45, 45, 45, 45, 45, 45, 45, 45, 45, 45, 45, 45, 45, 45, 45, 45, 45, 45, 45, 45, 45, 45, 45, 45, 45, 45, 45, 45, 45, 45, 45, 45, 45, 45, 45, 45, 45, 45, 45, 45, 45, 45, 45, 45, 45, 45, 45, 45, 45, 45, 45, 45, 45, 45, 45, 45, 45, 45, 45, 45, 45, 45, 45, 45, 45, 45, 45, 45, 45, 45, 45, 45, 45, 45, 45, 45, 45, 45, 45, 45, 45, 45, 45, 45, 45, 45, 45, 45, 45, 45, 45, 45, 45, 45, 45, 45, 45, 45, 45, 45, 45, 45, 45, 45, 45, 45, 45, 45, 45, 45, 45, 45, 45, 45, 45, 45, 45, 45, 45, 45, 45, 45, 45, 45, 45, 45, 45, 45, 45, 45, 45, 45, 45, 45, 45, 45, 45, 45, 45, 45, 45, 45, 45, 45, 45, 45, 45, 45, 45, 45, 45, 45, 45, 45, 45, 45, 45, 45, 45, 45, 45, 45, 45, 45, 45, 45, 45, 45, 45, 45, 45, 45, 45, 45, 45, 45, 45, 45, 45, 45, 45, 45, 45]\n"
          ]
        }
      ],
      "source": [
        "# Convert DataFrame to numpy array with transpose:\n",
        "#  - Rows in this array correspond to original columns of the DataFrame\n",
        "filtered_input_np = filtered_input.T.to_numpy(dtype=np.float32)\n",
        "\n",
        "# Build a dictionary where keys are the actual column names, \n",
        "# and values are lists of *row indices in the transposed array* \n",
        "# that correspond to that column name.\n",
        "grouped_columns = {}\n",
        "for i, col_name in enumerate(filtered_input.columns):\n",
        "    grouped_columns.setdefault(col_name, []).append(i)\n",
        "\n",
        "# Now compute 'brchsize' for each unique column name:\n",
        "brchsize = [0]  # start with 0 as in your snippet\n",
        "for col_name, row_indices in grouped_columns.items():\n",
        "    # Slice rows in the transposed matrix\n",
        "    # e.g. taking [:, 1:] if you want to drop the first column as in your code\n",
        "    var_data = filtered_input_np[row_indices, 1:]\n",
        "    brchsize.append(var_data.shape[1])\n",
        "\n",
        "print(brchsize)"
      ]
    },
    {
      "cell_type": "markdown",
      "metadata": {
        "id": "dMv77celI_oG"
      },
      "source": [
        "## Baseline ML model"
      ]
    },
    {
      "cell_type": "code",
      "execution_count": 22,
      "metadata": {
        "id": "vcCLiVevIX6v"
      },
      "outputs": [],
      "source": [
        "# Convert NumPy arrays to PyTorch tensors\n",
        "x_tensor = torch.tensor(INPUT_TRAIN_NORMALIZED)\n",
        "y_tensor = torch.tensor(OUTPUT_TRAIN)\n",
        "\n",
        "# Create a DataLoader\n",
        "dataset = TensorDataset(x_tensor, y_tensor)\n",
        "dataloader = DataLoader(dataset, batch_size=10, shuffle=True)"
      ]
    },
    {
      "cell_type": "code",
      "execution_count": 23,
      "metadata": {
        "id": "sopFvxwQJzH5"
      },
      "outputs": [],
      "source": [
        "class baseline_ts_drop(torch.nn.Module):\n",
        "    def __init__(self,droprate,brchindices,num_vars):\n",
        "        super(baseline_ts_drop, self).__init__()\n",
        "        self.brchindices = brchindices\n",
        "        self.num_vars = num_vars\n",
        "        ############################################################\n",
        "        # Create regression layers dynamically for each input\n",
        "        ############################################################\n",
        "        brchsize = self.brchindices[1:]\n",
        "        self.input_layers = torch.nn.ModuleDict({\n",
        "            f\"input{i+1}\": torch.nn.Linear(int(brchsize[i]), 1) for i in range(self.num_vars)\n",
        "        })\n",
        "        ############################################################\n",
        "        # Create dropout layers\n",
        "        ############################################################\n",
        "        self.dropout_layers = torch.nn.ModuleDict({\n",
        "            f\"dropout{i+1}\": torch.nn.Dropout(droprate) for i in range(self.num_vars)\n",
        "        })\n",
        "        self.dropout_end = torch.nn.Dropout(droprate)\n",
        "        ############################################################\n",
        "        # Final Dense Layer\n",
        "        ############################################################\n",
        "        self.denseout = torch.nn.Linear(self.num_vars,15)\n",
        "\n",
        "    def forward(self,X):\n",
        "        brchindex = list(np.asarray(self.brchindices).cumsum())\n",
        "        ############################################################\n",
        "        # First regression layer\n",
        "        ############################################################\n",
        "        inputs = []\n",
        "        for i in range(self.num_vars):\n",
        "            # Extract the relevant branch input\n",
        "            X_branch = X[:, brchindex[i]:brchindex[i+1]]\n",
        "            # Apply dropout and linear layer\n",
        "            X_branch = self.dropout_layers[f\"dropout{i+1}\"](X_branch)\n",
        "            input_layer = self.input_layers[f\"input{i+1}\"](X_branch)\n",
        "\n",
        "            inputs.append(input_layer)\n",
        "        ############################################################\n",
        "        # Concat\n",
        "        ############################################################\n",
        "        bestPC = torch.cat(inputs,1)\n",
        "        ############################################################\n",
        "        # Prediction layer\n",
        "        ############################################################\n",
        "        bestPC = self.dropout_end(bestPC)\n",
        "        outpred = self.denseout(bestPC)\n",
        "        return outpred"
      ]
    },
    {
      "cell_type": "markdown",
      "metadata": {
        "id": "1EfF1fgbLBUE"
      },
      "source": [
        "### Hyperparameter tuning with Optuna"
      ]
    },
    {
      "cell_type": "code",
      "execution_count": 24,
      "metadata": {
        "id": "xOSsz-QWLGRs"
      },
      "outputs": [],
      "source": [
        "def objective(trial):\n",
        "  # Model Parameters\n",
        "  brchindices = brchsize\n",
        "  numvars = len(brchsize[1:])\n",
        "\n",
        "  # Initiatlize model\n",
        "  models,losses = [],[]\n",
        "  droprate = trial.suggest_float(\"droprate\",0.05,0.45)\n",
        "  model = baseline_ts_drop(droprate, brchindices, numvars)\n",
        "  lr = trial.suggest_float(\"lr\",1e-6,1e-3)#,log=True)\n",
        "\n",
        "  # Training parameters\n",
        "  optimizer = torch.optim.Adam(model.parameters(),lr=lr)\n",
        "  criterion = torch.nn.L1Loss()\n",
        "  n_epochs = trial.suggest_int(\"n_epochs\",500,5000)\n",
        "  #n_epochs = 500\n",
        "\n",
        "  scheduler_baselr = trial.suggest_float(\"base_lr\",1e-8,1e-4)\n",
        "  scheduler_maxlr = trial.suggest_float(\"max_lr\",1e-4,1e-2)\n",
        "  scheduler = torch.optim.lr_scheduler.CyclicLR(optimizer, base_lr=scheduler_baselr, max_lr=scheduler_maxlr, cycle_momentum=False)\n",
        "\n",
        "  train_losses = []\n",
        "  for epoch in range(1,n_epochs+1):\n",
        "    loss = 0\n",
        "    for features, labels in dataloader:\n",
        "      optimizer.zero_grad() # Clears existing gradients from previous epoch\n",
        "      output = model(features)\n",
        "      batch_loss = criterion(output, labels)\n",
        "      batch_loss.backward()\n",
        "      optimizer.step()\n",
        "      loss += batch_loss.item()\n",
        "    scheduler.step()\n",
        "    loss = loss/len(dataloader)\n",
        "    train_losses.append(loss)\n",
        "\n",
        "    #val_loss = ts_models.eval_model(model,\n",
        "    #                                val_loader,\n",
        "    #                                criterion,\n",
        "    #                         l2_lambda)\n",
        "    #    val_losses.append(val_loss)\n",
        "    if epoch%100 == 0:\n",
        "      print('Epoch: {}/{}.............'.format(epoch, n_epochs))\n",
        "      print(\"Loss: {:.4f}\".format(loss))\n",
        "    #if val_loss <= min(val_losses):\n",
        "    #    torch.save(model,'best_model'+str(trial.number))\n",
        "    #torch.save(model,'./tmp/bayesian/best_model.8.'+str(trial.number)+'.pt')\n",
        "    return loss\n"
      ]
    },
    {
      "cell_type": "code",
      "execution_count": 25,
      "metadata": {
        "colab": {
          "base_uri": "https://localhost:8080/"
        },
        "id": "WNF8hvRiOOI-",
        "outputId": "f3df2406-dfee-411e-ea61-ef82dede6add"
      },
      "outputs": [
        {
          "name": "stderr",
          "output_type": "stream",
          "text": [
            "[I 2024-12-26 18:59:17,783] A new study created in memory with name: no-name-9e950976-2ac6-485e-ab3d-231483e6d338\n",
            "[W 2024-12-26 18:59:18,328] Trial 0 failed with parameters: {'droprate': 0.3317938717394394, 'lr': 0.000750291841584646, 'n_epochs': 2428, 'base_lr': 8.838029880773306e-05, 'max_lr': 0.0006963222966271213} because of the following error: RuntimeError('mat1 and mat2 shapes cannot be multiplied (10x5 and 49x1)').\n",
            "Traceback (most recent call last):\n",
            "  File \"/Users/fabienaugsburger/anaconda3/envs/tensor_flow/lib/python3.9/site-packages/optuna/study/_optimize.py\", line 197, in _run_trial\n",
            "    value_or_values = func(trial)\n",
            "  File \"/var/folders/01/5ryz4pnn581dj9gk6r1nn5qr0000gn/T/ipykernel_18981/3204683608.py\", line 27, in objective\n",
            "    output = model(features)\n",
            "  File \"/Users/fabienaugsburger/anaconda3/envs/tensor_flow/lib/python3.9/site-packages/torch/nn/modules/module.py\", line 1736, in _wrapped_call_impl\n",
            "    return self._call_impl(*args, **kwargs)\n",
            "  File \"/Users/fabienaugsburger/anaconda3/envs/tensor_flow/lib/python3.9/site-packages/torch/nn/modules/module.py\", line 1747, in _call_impl\n",
            "    return forward_call(*args, **kwargs)\n",
            "  File \"/var/folders/01/5ryz4pnn581dj9gk6r1nn5qr0000gn/T/ipykernel_18981/2651539214.py\", line 36, in forward\n",
            "    input_layer = self.input_layers[f\"input{i+1}\"](X_branch)\n",
            "  File \"/Users/fabienaugsburger/anaconda3/envs/tensor_flow/lib/python3.9/site-packages/torch/nn/modules/module.py\", line 1736, in _wrapped_call_impl\n",
            "    return self._call_impl(*args, **kwargs)\n",
            "  File \"/Users/fabienaugsburger/anaconda3/envs/tensor_flow/lib/python3.9/site-packages/torch/nn/modules/module.py\", line 1747, in _call_impl\n",
            "    return forward_call(*args, **kwargs)\n",
            "  File \"/Users/fabienaugsburger/anaconda3/envs/tensor_flow/lib/python3.9/site-packages/torch/nn/modules/linear.py\", line 125, in forward\n",
            "    return F.linear(input, self.weight, self.bias)\n",
            "RuntimeError: mat1 and mat2 shapes cannot be multiplied (10x5 and 49x1)\n",
            "[W 2024-12-26 18:59:18,329] Trial 0 failed with value None.\n"
          ]
        },
        {
          "ename": "RuntimeError",
          "evalue": "mat1 and mat2 shapes cannot be multiplied (10x5 and 49x1)",
          "output_type": "error",
          "traceback": [
            "\u001b[0;31m---------------------------------------------------------------------------\u001b[0m",
            "\u001b[0;31mRuntimeError\u001b[0m                              Traceback (most recent call last)",
            "Cell \u001b[0;32mIn[25], line 2\u001b[0m\n\u001b[1;32m      1\u001b[0m study \u001b[38;5;241m=\u001b[39m optuna\u001b[38;5;241m.\u001b[39mcreate_study(directions\u001b[38;5;241m=\u001b[39m[\u001b[38;5;124m\"\u001b[39m\u001b[38;5;124mminimize\u001b[39m\u001b[38;5;124m\"\u001b[39m])\n\u001b[0;32m----> 2\u001b[0m \u001b[43mstudy\u001b[49m\u001b[38;5;241;43m.\u001b[39;49m\u001b[43moptimize\u001b[49m\u001b[43m(\u001b[49m\u001b[43mobjective\u001b[49m\u001b[43m,\u001b[49m\u001b[43m \u001b[49m\u001b[43mn_trials\u001b[49m\u001b[38;5;241;43m=\u001b[39;49m\u001b[38;5;241;43m100\u001b[39;49m\u001b[43m)\u001b[49m\n",
            "File \u001b[0;32m~/anaconda3/envs/tensor_flow/lib/python3.9/site-packages/optuna/study/study.py:475\u001b[0m, in \u001b[0;36mStudy.optimize\u001b[0;34m(self, func, n_trials, timeout, n_jobs, catch, callbacks, gc_after_trial, show_progress_bar)\u001b[0m\n\u001b[1;32m    373\u001b[0m \u001b[38;5;28;01mdef\u001b[39;00m \u001b[38;5;21moptimize\u001b[39m(\n\u001b[1;32m    374\u001b[0m     \u001b[38;5;28mself\u001b[39m,\n\u001b[1;32m    375\u001b[0m     func: ObjectiveFuncType,\n\u001b[0;32m   (...)\u001b[0m\n\u001b[1;32m    382\u001b[0m     show_progress_bar: \u001b[38;5;28mbool\u001b[39m \u001b[38;5;241m=\u001b[39m \u001b[38;5;28;01mFalse\u001b[39;00m,\n\u001b[1;32m    383\u001b[0m ) \u001b[38;5;241m-\u001b[39m\u001b[38;5;241m>\u001b[39m \u001b[38;5;28;01mNone\u001b[39;00m:\n\u001b[1;32m    384\u001b[0m \u001b[38;5;250m    \u001b[39m\u001b[38;5;124;03m\"\"\"Optimize an objective function.\u001b[39;00m\n\u001b[1;32m    385\u001b[0m \n\u001b[1;32m    386\u001b[0m \u001b[38;5;124;03m    Optimization is done by choosing a suitable set of hyperparameter values from a given\u001b[39;00m\n\u001b[0;32m   (...)\u001b[0m\n\u001b[1;32m    473\u001b[0m \u001b[38;5;124;03m            If nested invocation of this method occurs.\u001b[39;00m\n\u001b[1;32m    474\u001b[0m \u001b[38;5;124;03m    \"\"\"\u001b[39;00m\n\u001b[0;32m--> 475\u001b[0m     \u001b[43m_optimize\u001b[49m\u001b[43m(\u001b[49m\n\u001b[1;32m    476\u001b[0m \u001b[43m        \u001b[49m\u001b[43mstudy\u001b[49m\u001b[38;5;241;43m=\u001b[39;49m\u001b[38;5;28;43mself\u001b[39;49m\u001b[43m,\u001b[49m\n\u001b[1;32m    477\u001b[0m \u001b[43m        \u001b[49m\u001b[43mfunc\u001b[49m\u001b[38;5;241;43m=\u001b[39;49m\u001b[43mfunc\u001b[49m\u001b[43m,\u001b[49m\n\u001b[1;32m    478\u001b[0m \u001b[43m        \u001b[49m\u001b[43mn_trials\u001b[49m\u001b[38;5;241;43m=\u001b[39;49m\u001b[43mn_trials\u001b[49m\u001b[43m,\u001b[49m\n\u001b[1;32m    479\u001b[0m \u001b[43m        \u001b[49m\u001b[43mtimeout\u001b[49m\u001b[38;5;241;43m=\u001b[39;49m\u001b[43mtimeout\u001b[49m\u001b[43m,\u001b[49m\n\u001b[1;32m    480\u001b[0m \u001b[43m        \u001b[49m\u001b[43mn_jobs\u001b[49m\u001b[38;5;241;43m=\u001b[39;49m\u001b[43mn_jobs\u001b[49m\u001b[43m,\u001b[49m\n\u001b[1;32m    481\u001b[0m \u001b[43m        \u001b[49m\u001b[43mcatch\u001b[49m\u001b[38;5;241;43m=\u001b[39;49m\u001b[38;5;28;43mtuple\u001b[39;49m\u001b[43m(\u001b[49m\u001b[43mcatch\u001b[49m\u001b[43m)\u001b[49m\u001b[43m \u001b[49m\u001b[38;5;28;43;01mif\u001b[39;49;00m\u001b[43m \u001b[49m\u001b[38;5;28;43misinstance\u001b[39;49m\u001b[43m(\u001b[49m\u001b[43mcatch\u001b[49m\u001b[43m,\u001b[49m\u001b[43m \u001b[49m\u001b[43mIterable\u001b[49m\u001b[43m)\u001b[49m\u001b[43m \u001b[49m\u001b[38;5;28;43;01melse\u001b[39;49;00m\u001b[43m \u001b[49m\u001b[43m(\u001b[49m\u001b[43mcatch\u001b[49m\u001b[43m,\u001b[49m\u001b[43m)\u001b[49m\u001b[43m,\u001b[49m\n\u001b[1;32m    482\u001b[0m \u001b[43m        \u001b[49m\u001b[43mcallbacks\u001b[49m\u001b[38;5;241;43m=\u001b[39;49m\u001b[43mcallbacks\u001b[49m\u001b[43m,\u001b[49m\n\u001b[1;32m    483\u001b[0m \u001b[43m        \u001b[49m\u001b[43mgc_after_trial\u001b[49m\u001b[38;5;241;43m=\u001b[39;49m\u001b[43mgc_after_trial\u001b[49m\u001b[43m,\u001b[49m\n\u001b[1;32m    484\u001b[0m \u001b[43m        \u001b[49m\u001b[43mshow_progress_bar\u001b[49m\u001b[38;5;241;43m=\u001b[39;49m\u001b[43mshow_progress_bar\u001b[49m\u001b[43m,\u001b[49m\n\u001b[1;32m    485\u001b[0m \u001b[43m    \u001b[49m\u001b[43m)\u001b[49m\n",
            "File \u001b[0;32m~/anaconda3/envs/tensor_flow/lib/python3.9/site-packages/optuna/study/_optimize.py:63\u001b[0m, in \u001b[0;36m_optimize\u001b[0;34m(study, func, n_trials, timeout, n_jobs, catch, callbacks, gc_after_trial, show_progress_bar)\u001b[0m\n\u001b[1;32m     61\u001b[0m \u001b[38;5;28;01mtry\u001b[39;00m:\n\u001b[1;32m     62\u001b[0m     \u001b[38;5;28;01mif\u001b[39;00m n_jobs \u001b[38;5;241m==\u001b[39m \u001b[38;5;241m1\u001b[39m:\n\u001b[0;32m---> 63\u001b[0m         \u001b[43m_optimize_sequential\u001b[49m\u001b[43m(\u001b[49m\n\u001b[1;32m     64\u001b[0m \u001b[43m            \u001b[49m\u001b[43mstudy\u001b[49m\u001b[43m,\u001b[49m\n\u001b[1;32m     65\u001b[0m \u001b[43m            \u001b[49m\u001b[43mfunc\u001b[49m\u001b[43m,\u001b[49m\n\u001b[1;32m     66\u001b[0m \u001b[43m            \u001b[49m\u001b[43mn_trials\u001b[49m\u001b[43m,\u001b[49m\n\u001b[1;32m     67\u001b[0m \u001b[43m            \u001b[49m\u001b[43mtimeout\u001b[49m\u001b[43m,\u001b[49m\n\u001b[1;32m     68\u001b[0m \u001b[43m            \u001b[49m\u001b[43mcatch\u001b[49m\u001b[43m,\u001b[49m\n\u001b[1;32m     69\u001b[0m \u001b[43m            \u001b[49m\u001b[43mcallbacks\u001b[49m\u001b[43m,\u001b[49m\n\u001b[1;32m     70\u001b[0m \u001b[43m            \u001b[49m\u001b[43mgc_after_trial\u001b[49m\u001b[43m,\u001b[49m\n\u001b[1;32m     71\u001b[0m \u001b[43m            \u001b[49m\u001b[43mreseed_sampler_rng\u001b[49m\u001b[38;5;241;43m=\u001b[39;49m\u001b[38;5;28;43;01mFalse\u001b[39;49;00m\u001b[43m,\u001b[49m\n\u001b[1;32m     72\u001b[0m \u001b[43m            \u001b[49m\u001b[43mtime_start\u001b[49m\u001b[38;5;241;43m=\u001b[39;49m\u001b[38;5;28;43;01mNone\u001b[39;49;00m\u001b[43m,\u001b[49m\n\u001b[1;32m     73\u001b[0m \u001b[43m            \u001b[49m\u001b[43mprogress_bar\u001b[49m\u001b[38;5;241;43m=\u001b[39;49m\u001b[43mprogress_bar\u001b[49m\u001b[43m,\u001b[49m\n\u001b[1;32m     74\u001b[0m \u001b[43m        \u001b[49m\u001b[43m)\u001b[49m\n\u001b[1;32m     75\u001b[0m     \u001b[38;5;28;01melse\u001b[39;00m:\n\u001b[1;32m     76\u001b[0m         \u001b[38;5;28;01mif\u001b[39;00m n_jobs \u001b[38;5;241m==\u001b[39m \u001b[38;5;241m-\u001b[39m\u001b[38;5;241m1\u001b[39m:\n",
            "File \u001b[0;32m~/anaconda3/envs/tensor_flow/lib/python3.9/site-packages/optuna/study/_optimize.py:160\u001b[0m, in \u001b[0;36m_optimize_sequential\u001b[0;34m(study, func, n_trials, timeout, catch, callbacks, gc_after_trial, reseed_sampler_rng, time_start, progress_bar)\u001b[0m\n\u001b[1;32m    157\u001b[0m         \u001b[38;5;28;01mbreak\u001b[39;00m\n\u001b[1;32m    159\u001b[0m \u001b[38;5;28;01mtry\u001b[39;00m:\n\u001b[0;32m--> 160\u001b[0m     frozen_trial \u001b[38;5;241m=\u001b[39m \u001b[43m_run_trial\u001b[49m\u001b[43m(\u001b[49m\u001b[43mstudy\u001b[49m\u001b[43m,\u001b[49m\u001b[43m \u001b[49m\u001b[43mfunc\u001b[49m\u001b[43m,\u001b[49m\u001b[43m \u001b[49m\u001b[43mcatch\u001b[49m\u001b[43m)\u001b[49m\n\u001b[1;32m    161\u001b[0m \u001b[38;5;28;01mfinally\u001b[39;00m:\n\u001b[1;32m    162\u001b[0m     \u001b[38;5;66;03m# The following line mitigates memory problems that can be occurred in some\u001b[39;00m\n\u001b[1;32m    163\u001b[0m     \u001b[38;5;66;03m# environments (e.g., services that use computing containers such as GitHub Actions).\u001b[39;00m\n\u001b[1;32m    164\u001b[0m     \u001b[38;5;66;03m# Please refer to the following PR for further details:\u001b[39;00m\n\u001b[1;32m    165\u001b[0m     \u001b[38;5;66;03m# https://github.com/optuna/optuna/pull/325.\u001b[39;00m\n\u001b[1;32m    166\u001b[0m     \u001b[38;5;28;01mif\u001b[39;00m gc_after_trial:\n",
            "File \u001b[0;32m~/anaconda3/envs/tensor_flow/lib/python3.9/site-packages/optuna/study/_optimize.py:248\u001b[0m, in \u001b[0;36m_run_trial\u001b[0;34m(study, func, catch)\u001b[0m\n\u001b[1;32m    241\u001b[0m         \u001b[38;5;28;01massert\u001b[39;00m \u001b[38;5;28;01mFalse\u001b[39;00m, \u001b[38;5;124m\"\u001b[39m\u001b[38;5;124mShould not reach.\u001b[39m\u001b[38;5;124m\"\u001b[39m\n\u001b[1;32m    243\u001b[0m \u001b[38;5;28;01mif\u001b[39;00m (\n\u001b[1;32m    244\u001b[0m     frozen_trial\u001b[38;5;241m.\u001b[39mstate \u001b[38;5;241m==\u001b[39m TrialState\u001b[38;5;241m.\u001b[39mFAIL\n\u001b[1;32m    245\u001b[0m     \u001b[38;5;129;01mand\u001b[39;00m func_err \u001b[38;5;129;01mis\u001b[39;00m \u001b[38;5;129;01mnot\u001b[39;00m \u001b[38;5;28;01mNone\u001b[39;00m\n\u001b[1;32m    246\u001b[0m     \u001b[38;5;129;01mand\u001b[39;00m \u001b[38;5;129;01mnot\u001b[39;00m \u001b[38;5;28misinstance\u001b[39m(func_err, catch)\n\u001b[1;32m    247\u001b[0m ):\n\u001b[0;32m--> 248\u001b[0m     \u001b[38;5;28;01mraise\u001b[39;00m func_err\n\u001b[1;32m    249\u001b[0m \u001b[38;5;28;01mreturn\u001b[39;00m frozen_trial\n",
            "File \u001b[0;32m~/anaconda3/envs/tensor_flow/lib/python3.9/site-packages/optuna/study/_optimize.py:197\u001b[0m, in \u001b[0;36m_run_trial\u001b[0;34m(study, func, catch)\u001b[0m\n\u001b[1;32m    195\u001b[0m \u001b[38;5;28;01mwith\u001b[39;00m get_heartbeat_thread(trial\u001b[38;5;241m.\u001b[39m_trial_id, study\u001b[38;5;241m.\u001b[39m_storage):\n\u001b[1;32m    196\u001b[0m     \u001b[38;5;28;01mtry\u001b[39;00m:\n\u001b[0;32m--> 197\u001b[0m         value_or_values \u001b[38;5;241m=\u001b[39m \u001b[43mfunc\u001b[49m\u001b[43m(\u001b[49m\u001b[43mtrial\u001b[49m\u001b[43m)\u001b[49m\n\u001b[1;32m    198\u001b[0m     \u001b[38;5;28;01mexcept\u001b[39;00m exceptions\u001b[38;5;241m.\u001b[39mTrialPruned \u001b[38;5;28;01mas\u001b[39;00m e:\n\u001b[1;32m    199\u001b[0m         \u001b[38;5;66;03m# TODO(mamu): Handle multi-objective cases.\u001b[39;00m\n\u001b[1;32m    200\u001b[0m         state \u001b[38;5;241m=\u001b[39m TrialState\u001b[38;5;241m.\u001b[39mPRUNED\n",
            "Cell \u001b[0;32mIn[24], line 27\u001b[0m, in \u001b[0;36mobjective\u001b[0;34m(trial)\u001b[0m\n\u001b[1;32m     25\u001b[0m \u001b[38;5;28;01mfor\u001b[39;00m features, labels \u001b[38;5;129;01min\u001b[39;00m dataloader:\n\u001b[1;32m     26\u001b[0m   optimizer\u001b[38;5;241m.\u001b[39mzero_grad() \u001b[38;5;66;03m# Clears existing gradients from previous epoch\u001b[39;00m\n\u001b[0;32m---> 27\u001b[0m   output \u001b[38;5;241m=\u001b[39m \u001b[43mmodel\u001b[49m\u001b[43m(\u001b[49m\u001b[43mfeatures\u001b[49m\u001b[43m)\u001b[49m\n\u001b[1;32m     28\u001b[0m   batch_loss \u001b[38;5;241m=\u001b[39m criterion(output, labels)\n\u001b[1;32m     29\u001b[0m   batch_loss\u001b[38;5;241m.\u001b[39mbackward()\n",
            "File \u001b[0;32m~/anaconda3/envs/tensor_flow/lib/python3.9/site-packages/torch/nn/modules/module.py:1736\u001b[0m, in \u001b[0;36mModule._wrapped_call_impl\u001b[0;34m(self, *args, **kwargs)\u001b[0m\n\u001b[1;32m   1734\u001b[0m     \u001b[38;5;28;01mreturn\u001b[39;00m \u001b[38;5;28mself\u001b[39m\u001b[38;5;241m.\u001b[39m_compiled_call_impl(\u001b[38;5;241m*\u001b[39margs, \u001b[38;5;241m*\u001b[39m\u001b[38;5;241m*\u001b[39mkwargs)  \u001b[38;5;66;03m# type: ignore[misc]\u001b[39;00m\n\u001b[1;32m   1735\u001b[0m \u001b[38;5;28;01melse\u001b[39;00m:\n\u001b[0;32m-> 1736\u001b[0m     \u001b[38;5;28;01mreturn\u001b[39;00m \u001b[38;5;28;43mself\u001b[39;49m\u001b[38;5;241;43m.\u001b[39;49m\u001b[43m_call_impl\u001b[49m\u001b[43m(\u001b[49m\u001b[38;5;241;43m*\u001b[39;49m\u001b[43margs\u001b[49m\u001b[43m,\u001b[49m\u001b[43m \u001b[49m\u001b[38;5;241;43m*\u001b[39;49m\u001b[38;5;241;43m*\u001b[39;49m\u001b[43mkwargs\u001b[49m\u001b[43m)\u001b[49m\n",
            "File \u001b[0;32m~/anaconda3/envs/tensor_flow/lib/python3.9/site-packages/torch/nn/modules/module.py:1747\u001b[0m, in \u001b[0;36mModule._call_impl\u001b[0;34m(self, *args, **kwargs)\u001b[0m\n\u001b[1;32m   1742\u001b[0m \u001b[38;5;66;03m# If we don't have any hooks, we want to skip the rest of the logic in\u001b[39;00m\n\u001b[1;32m   1743\u001b[0m \u001b[38;5;66;03m# this function, and just call forward.\u001b[39;00m\n\u001b[1;32m   1744\u001b[0m \u001b[38;5;28;01mif\u001b[39;00m \u001b[38;5;129;01mnot\u001b[39;00m (\u001b[38;5;28mself\u001b[39m\u001b[38;5;241m.\u001b[39m_backward_hooks \u001b[38;5;129;01mor\u001b[39;00m \u001b[38;5;28mself\u001b[39m\u001b[38;5;241m.\u001b[39m_backward_pre_hooks \u001b[38;5;129;01mor\u001b[39;00m \u001b[38;5;28mself\u001b[39m\u001b[38;5;241m.\u001b[39m_forward_hooks \u001b[38;5;129;01mor\u001b[39;00m \u001b[38;5;28mself\u001b[39m\u001b[38;5;241m.\u001b[39m_forward_pre_hooks\n\u001b[1;32m   1745\u001b[0m         \u001b[38;5;129;01mor\u001b[39;00m _global_backward_pre_hooks \u001b[38;5;129;01mor\u001b[39;00m _global_backward_hooks\n\u001b[1;32m   1746\u001b[0m         \u001b[38;5;129;01mor\u001b[39;00m _global_forward_hooks \u001b[38;5;129;01mor\u001b[39;00m _global_forward_pre_hooks):\n\u001b[0;32m-> 1747\u001b[0m     \u001b[38;5;28;01mreturn\u001b[39;00m \u001b[43mforward_call\u001b[49m\u001b[43m(\u001b[49m\u001b[38;5;241;43m*\u001b[39;49m\u001b[43margs\u001b[49m\u001b[43m,\u001b[49m\u001b[43m \u001b[49m\u001b[38;5;241;43m*\u001b[39;49m\u001b[38;5;241;43m*\u001b[39;49m\u001b[43mkwargs\u001b[49m\u001b[43m)\u001b[49m\n\u001b[1;32m   1749\u001b[0m result \u001b[38;5;241m=\u001b[39m \u001b[38;5;28;01mNone\u001b[39;00m\n\u001b[1;32m   1750\u001b[0m called_always_called_hooks \u001b[38;5;241m=\u001b[39m \u001b[38;5;28mset\u001b[39m()\n",
            "Cell \u001b[0;32mIn[23], line 36\u001b[0m, in \u001b[0;36mbaseline_ts_drop.forward\u001b[0;34m(self, X)\u001b[0m\n\u001b[1;32m     34\u001b[0m     \u001b[38;5;66;03m# Apply dropout and linear layer\u001b[39;00m\n\u001b[1;32m     35\u001b[0m     X_branch \u001b[38;5;241m=\u001b[39m \u001b[38;5;28mself\u001b[39m\u001b[38;5;241m.\u001b[39mdropout_layers[\u001b[38;5;124mf\u001b[39m\u001b[38;5;124m\"\u001b[39m\u001b[38;5;124mdropout\u001b[39m\u001b[38;5;132;01m{\u001b[39;00mi\u001b[38;5;241m+\u001b[39m\u001b[38;5;241m1\u001b[39m\u001b[38;5;132;01m}\u001b[39;00m\u001b[38;5;124m\"\u001b[39m](X_branch)\n\u001b[0;32m---> 36\u001b[0m     input_layer \u001b[38;5;241m=\u001b[39m \u001b[38;5;28;43mself\u001b[39;49m\u001b[38;5;241;43m.\u001b[39;49m\u001b[43minput_layers\u001b[49m\u001b[43m[\u001b[49m\u001b[38;5;124;43mf\u001b[39;49m\u001b[38;5;124;43m\"\u001b[39;49m\u001b[38;5;124;43minput\u001b[39;49m\u001b[38;5;132;43;01m{\u001b[39;49;00m\u001b[43mi\u001b[49m\u001b[38;5;241;43m+\u001b[39;49m\u001b[38;5;241;43m1\u001b[39;49m\u001b[38;5;132;43;01m}\u001b[39;49;00m\u001b[38;5;124;43m\"\u001b[39;49m\u001b[43m]\u001b[49m\u001b[43m(\u001b[49m\u001b[43mX_branch\u001b[49m\u001b[43m)\u001b[49m\n\u001b[1;32m     38\u001b[0m     inputs\u001b[38;5;241m.\u001b[39mappend(input_layer)\n\u001b[1;32m     39\u001b[0m \u001b[38;5;66;03m############################################################\u001b[39;00m\n\u001b[1;32m     40\u001b[0m \u001b[38;5;66;03m# Concat\u001b[39;00m\n\u001b[1;32m     41\u001b[0m \u001b[38;5;66;03m############################################################\u001b[39;00m\n",
            "File \u001b[0;32m~/anaconda3/envs/tensor_flow/lib/python3.9/site-packages/torch/nn/modules/module.py:1736\u001b[0m, in \u001b[0;36mModule._wrapped_call_impl\u001b[0;34m(self, *args, **kwargs)\u001b[0m\n\u001b[1;32m   1734\u001b[0m     \u001b[38;5;28;01mreturn\u001b[39;00m \u001b[38;5;28mself\u001b[39m\u001b[38;5;241m.\u001b[39m_compiled_call_impl(\u001b[38;5;241m*\u001b[39margs, \u001b[38;5;241m*\u001b[39m\u001b[38;5;241m*\u001b[39mkwargs)  \u001b[38;5;66;03m# type: ignore[misc]\u001b[39;00m\n\u001b[1;32m   1735\u001b[0m \u001b[38;5;28;01melse\u001b[39;00m:\n\u001b[0;32m-> 1736\u001b[0m     \u001b[38;5;28;01mreturn\u001b[39;00m \u001b[38;5;28;43mself\u001b[39;49m\u001b[38;5;241;43m.\u001b[39;49m\u001b[43m_call_impl\u001b[49m\u001b[43m(\u001b[49m\u001b[38;5;241;43m*\u001b[39;49m\u001b[43margs\u001b[49m\u001b[43m,\u001b[49m\u001b[43m \u001b[49m\u001b[38;5;241;43m*\u001b[39;49m\u001b[38;5;241;43m*\u001b[39;49m\u001b[43mkwargs\u001b[49m\u001b[43m)\u001b[49m\n",
            "File \u001b[0;32m~/anaconda3/envs/tensor_flow/lib/python3.9/site-packages/torch/nn/modules/module.py:1747\u001b[0m, in \u001b[0;36mModule._call_impl\u001b[0;34m(self, *args, **kwargs)\u001b[0m\n\u001b[1;32m   1742\u001b[0m \u001b[38;5;66;03m# If we don't have any hooks, we want to skip the rest of the logic in\u001b[39;00m\n\u001b[1;32m   1743\u001b[0m \u001b[38;5;66;03m# this function, and just call forward.\u001b[39;00m\n\u001b[1;32m   1744\u001b[0m \u001b[38;5;28;01mif\u001b[39;00m \u001b[38;5;129;01mnot\u001b[39;00m (\u001b[38;5;28mself\u001b[39m\u001b[38;5;241m.\u001b[39m_backward_hooks \u001b[38;5;129;01mor\u001b[39;00m \u001b[38;5;28mself\u001b[39m\u001b[38;5;241m.\u001b[39m_backward_pre_hooks \u001b[38;5;129;01mor\u001b[39;00m \u001b[38;5;28mself\u001b[39m\u001b[38;5;241m.\u001b[39m_forward_hooks \u001b[38;5;129;01mor\u001b[39;00m \u001b[38;5;28mself\u001b[39m\u001b[38;5;241m.\u001b[39m_forward_pre_hooks\n\u001b[1;32m   1745\u001b[0m         \u001b[38;5;129;01mor\u001b[39;00m _global_backward_pre_hooks \u001b[38;5;129;01mor\u001b[39;00m _global_backward_hooks\n\u001b[1;32m   1746\u001b[0m         \u001b[38;5;129;01mor\u001b[39;00m _global_forward_hooks \u001b[38;5;129;01mor\u001b[39;00m _global_forward_pre_hooks):\n\u001b[0;32m-> 1747\u001b[0m     \u001b[38;5;28;01mreturn\u001b[39;00m \u001b[43mforward_call\u001b[49m\u001b[43m(\u001b[49m\u001b[38;5;241;43m*\u001b[39;49m\u001b[43margs\u001b[49m\u001b[43m,\u001b[49m\u001b[43m \u001b[49m\u001b[38;5;241;43m*\u001b[39;49m\u001b[38;5;241;43m*\u001b[39;49m\u001b[43mkwargs\u001b[49m\u001b[43m)\u001b[49m\n\u001b[1;32m   1749\u001b[0m result \u001b[38;5;241m=\u001b[39m \u001b[38;5;28;01mNone\u001b[39;00m\n\u001b[1;32m   1750\u001b[0m called_always_called_hooks \u001b[38;5;241m=\u001b[39m \u001b[38;5;28mset\u001b[39m()\n",
            "File \u001b[0;32m~/anaconda3/envs/tensor_flow/lib/python3.9/site-packages/torch/nn/modules/linear.py:125\u001b[0m, in \u001b[0;36mLinear.forward\u001b[0;34m(self, input)\u001b[0m\n\u001b[1;32m    124\u001b[0m \u001b[38;5;28;01mdef\u001b[39;00m \u001b[38;5;21mforward\u001b[39m(\u001b[38;5;28mself\u001b[39m, \u001b[38;5;28minput\u001b[39m: Tensor) \u001b[38;5;241m-\u001b[39m\u001b[38;5;241m>\u001b[39m Tensor:\n\u001b[0;32m--> 125\u001b[0m     \u001b[38;5;28;01mreturn\u001b[39;00m \u001b[43mF\u001b[49m\u001b[38;5;241;43m.\u001b[39;49m\u001b[43mlinear\u001b[49m\u001b[43m(\u001b[49m\u001b[38;5;28;43minput\u001b[39;49m\u001b[43m,\u001b[49m\u001b[43m \u001b[49m\u001b[38;5;28;43mself\u001b[39;49m\u001b[38;5;241;43m.\u001b[39;49m\u001b[43mweight\u001b[49m\u001b[43m,\u001b[49m\u001b[43m \u001b[49m\u001b[38;5;28;43mself\u001b[39;49m\u001b[38;5;241;43m.\u001b[39;49m\u001b[43mbias\u001b[49m\u001b[43m)\u001b[49m\n",
            "\u001b[0;31mRuntimeError\u001b[0m: mat1 and mat2 shapes cannot be multiplied (10x5 and 49x1)"
          ]
        }
      ],
      "source": [
        "study = optuna.create_study(directions=[\"minimize\"])\n",
        "study.optimize(objective, n_trials=100)"
      ]
    },
    {
      "cell_type": "code",
      "execution_count": 48,
      "metadata": {
        "colab": {
          "base_uri": "https://localhost:8080/"
        },
        "id": "KIGUizShPEnV",
        "outputId": "9d6d0e40-0bab-448d-b11f-d9e461a2896f"
      },
      "outputs": [
        {
          "data": {
            "text/plain": [
              "{'droprate': 0.056681679723688316,\n",
              " 'lr': 0.0009680581183772895,\n",
              " 'n_epochs': 4334,\n",
              " 'base_lr': 6.290614167935168e-05,\n",
              " 'max_lr': 0.007615186512161224}"
            ]
          },
          "execution_count": 48,
          "metadata": {},
          "output_type": "execute_result"
        }
      ],
      "source": [
        "# Check the tuned hyperparameters\n",
        "study.best_params"
      ]
    },
    {
      "cell_type": "markdown",
      "metadata": {
        "id": "HGC88QnUOPT1"
      },
      "source": [
        "### Train model with tuned hyperparameters"
      ]
    },
    {
      "cell_type": "code",
      "execution_count": 49,
      "metadata": {
        "id": "RFza2tBZWH2V"
      },
      "outputs": [],
      "source": [
        "def training_loop(model, criterion, optimizer, scheduler, train_loader, epoch):\n",
        "  train_losses = []\n",
        "  for epoch in range(epoch):\n",
        "    model.train()\n",
        "    training_loss = 0\n",
        "    for batch_idx, (inputs, targets) in enumerate(train_loader):\n",
        "      # Forward pass\n",
        "      predictions = model(inputs)\n",
        "      loss = criterion(predictions, targets)\n",
        "      # Zero out existing gradients\n",
        "      optimizer.zero_grad()\n",
        "      # Backward pass\n",
        "      loss.backward()\n",
        "      optimizer.step()\n",
        "      training_loss += loss.item()\n",
        "    # Adjust learning rates after every epoch\n",
        "    scheduler.step()\n",
        "    # Check overall training loss\n",
        "    training_loss = training_loss/len(train_loader)\n",
        "    train_losses.append(training_loss)\n",
        "    # Print training loss\n",
        "    if epoch % 100 == 0:\n",
        "      print(training_loss)\n",
        "  return model, train_losses"
      ]
    },
    {
      "cell_type": "code",
      "execution_count": 50,
      "metadata": {
        "id": "wBfxpOiWOukh"
      },
      "outputs": [],
      "source": [
        "# Parameter setup\n",
        "droprate = study.best_params['droprate']\n",
        "brchindices = brchsize\n",
        "numvars = len(brchsize[1:])\n",
        "# Initialize model\n",
        "model = baseline_ts_drop(droprate, brchindices, numvars)\n",
        "# Define a loss function and optimizer\n",
        "loss_fn = torch.nn.L1Loss()\n",
        "optimizer = torch.optim.Adam(model.parameters(), lr=study.best_params['lr'])\n",
        "# Use cyclical LR scheduler\n",
        "scheduler = torch.optim.lr_scheduler.CyclicLR(optimizer, base_lr=study.best_params['base_lr'], max_lr=study.best_params['max_lr'], cycle_momentum=False)"
      ]
    },
    {
      "cell_type": "code",
      "execution_count": 51,
      "metadata": {
        "colab": {
          "base_uri": "https://localhost:8080/"
        },
        "id": "RZJL2ExbOylS",
        "outputId": "e5c367cb-41c3-4ea0-a1d7-264ec570db78"
      },
      "outputs": [
        {
          "name": "stdout",
          "output_type": "stream",
          "text": [
            "1.6265590906143188\n",
            "1.470196533203125\n",
            "1.1311089038848876\n",
            "0.8458157896995544\n",
            "0.778405225276947\n",
            "0.7046789765357971\n",
            "0.6653524756431579\n",
            "0.6913981795310974\n",
            "0.7012088179588318\n",
            "0.6256799280643464\n",
            "0.6464447855949402\n",
            "0.6128641366958618\n",
            "0.6636952519416809\n",
            "0.6607899367809296\n",
            "0.6205216646194458\n",
            "0.6555574297904968\n",
            "0.6927797675132752\n",
            "0.6128554582595825\n",
            "0.6833025813102722\n",
            "0.6570084929466248\n",
            "0.6367743134498596\n",
            "0.676402747631073\n",
            "0.6970734059810638\n",
            "0.6297924160957337\n",
            "0.7226609706878662\n",
            "0.6744549930095672\n",
            "0.6131468534469604\n",
            "0.6352802515029907\n",
            "0.6888851881027221\n",
            "0.6288867115974426\n",
            "0.6560128331184387\n",
            "0.6508706927299499\n",
            "0.5963697016239167\n",
            "0.6256826639175415\n",
            "0.6800871133804322\n",
            "0.6747231960296631\n",
            "0.6088108777999878\n",
            "0.6200833320617676\n",
            "0.6646770358085632\n",
            "0.6594496250152588\n",
            "0.6062576532363891\n",
            "0.6276357173919678\n",
            "0.6409727334976196\n",
            "0.6788089394569397\n"
          ]
        }
      ],
      "source": [
        "model, train_loss = training_loop(model,loss_fn,optimizer,scheduler,dataloader,study.best_params['n_epochs'])"
      ]
    },
    {
      "cell_type": "code",
      "execution_count": 52,
      "metadata": {
        "colab": {
          "base_uri": "https://localhost:8080/",
          "height": 430
        },
        "id": "HhYe1zbVaqEv",
        "outputId": "8c34aa4b-9234-45ec-c56c-3fb295381c6f"
      },
      "outputs": [
        {
          "data": {
            "image/png": "[encoded data removed]",
            "text/plain": [
              "<Figure size 640x480 with 1 Axes>"
            ]
          },
          "metadata": {},
          "output_type": "display_data"
        }
      ],
      "source": [
        "plt.plot(train_loss)\n",
        "plt.show()"
      ]
    }
  ],
  "metadata": {
    "colab": {
      "provenance": []
    },
    "kernelspec": {
      "display_name": "tensor_flow",
      "language": "python",
      "name": "python3"
    },
    "language_info": {
      "codemirror_mode": {
        "name": "ipython",
        "version": 3
      },
      "file_extension": ".py",
      "mimetype": "text/x-python",
      "name": "python",
      "nbconvert_exporter": "python",
      "pygments_lexer": "ipython3",
      "version": "3.9.18"
    }
  },
  "nbformat": 4,
  "nbformat_minor": 0
}

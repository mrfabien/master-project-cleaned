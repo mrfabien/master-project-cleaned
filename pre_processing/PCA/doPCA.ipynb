{
 "cells": [
  {
   "cell_type": "code",
   "execution_count": 1,
   "id": "7c1bc640-3cc4-4e96-a26c-575f72584f6e",
   "metadata": {},
   "outputs": [],
   "source": [
    "import numpy as np\n",
    "import matplotlib.pyplot as plt\n",
    "import pandas as pd\n",
    "from sklearn.decomposition import PCA\n",
    "import random"
   ]
  },
  {
   "cell_type": "markdown",
   "id": "dbd24429-03b9-4831-a788-a1f725543c47",
   "metadata": {},
   "source": [
    "# Setup train/test/valid"
   ]
  },
  {
   "cell_type": "code",
   "execution_count": 7,
   "id": "47e70942-c8e9-40a1-9224-f7ca56100560",
   "metadata": {},
   "outputs": [],
   "source": [
    "def separate_test_index(seed=9001,listlen=71,wantnum=7):\n",
    "    random.seed(seed)\n",
    "    # define test indices\n",
    "    testint = ([random.randint(0, listlen-1) for _ in range(wantnum)])\n",
    "    # list of all indices\n",
    "    allint = [int(obj) for obj in np.linspace(0,listlen-1,listlen)]\n",
    "    # filter test indices\n",
    "    testvalidint = [obj for obj in allint if obj not in testint]\n",
    "    return testint,testvalidint"
   ]
  },
  {
   "cell_type": "code",
   "execution_count": 3,
   "id": "09765a03-bb4a-4ff6-8911-e71ef6233931",
   "metadata": {},
   "outputs": [],
   "source": [
    "# get test index and train-validation indices\n",
    "testint,testvalidint = separate_test_index()\n",
    "# Set up seed\n",
    "random.seed(9001)\n",
    "# get validation indices\n",
    "validint = random.sample(testvalidint, 7)\n",
    "# filter validation indices\n",
    "trainint = [obj for obj in testvalidint if obj not in validint]"
   ]
  },
  {
   "cell_type": "markdown",
   "id": "1c10d73c-29c7-46bb-8730-bd05963ae530",
   "metadata": {},
   "source": [
    "# Process data"
   ]
  },
  {
   "cell_type": "code",
   "execution_count": 5,
   "id": "d716b8ff-c2d8-485d-b4df-0093c6d52c1b",
   "metadata": {},
   "outputs": [],
   "source": [
    "path='/Users/fabienaugsburger/Documents/GitHub/master-project-cleaned/data/data_before_eu_landfall_36_max.csv'\n",
    "timeseries_df = pd.read_csv(path)"
   ]
  },
  {
   "cell_type": "code",
   "execution_count": 6,
   "id": "b924d868-e4c1-4157-9563-01c664b60637",
   "metadata": {},
   "outputs": [
    {
     "ename": "NameError",
     "evalue": "name 'trainintimeseries_df' is not defined",
     "output_type": "error",
     "traceback": [
      "\u001b[0;31m---------------------------------------------------------------------------\u001b[0m",
      "\u001b[0;31mNameError\u001b[0m                                 Traceback (most recent call last)",
      "Cell \u001b[0;32mIn[6], line 1\u001b[0m\n\u001b[0;32m----> 1\u001b[0m trainintimeseries_df\u001b[38;5;241m.\u001b[39mto_numpy()[trainint,:]\u001b[38;5;241m.\u001b[39mshape\n",
      "\u001b[0;31mNameError\u001b[0m: name 'trainintimeseries_df' is not defined"
     ]
    }
   ],
   "source": [
    "trainintimeseries_df.to_numpy()[trainint,:].shape"
   ]
  },
  {
   "cell_type": "code",
   "execution_count": 8,
   "id": "d11c73ce-1053-411a-be23-4e6f12aa95e1",
   "metadata": {},
   "outputs": [
    {
     "data": {
      "text/plain": [
       "PCA()"
      ]
     },
     "execution_count": 8,
     "metadata": {},
     "output_type": "execute_result"
    }
   ],
   "source": [
    "pca = PCA()\n",
    "pca.fit(timeseries_df)"
   ]
  },
  {
   "cell_type": "code",
   "execution_count": 31,
   "id": "f0584bd4-0d1d-43bf-ac1a-1711f2d035bc",
   "metadata": {},
   "outputs": [
    {
     "data": {
      "text/plain": [
       "array([0.67835128, 0.87999119, 0.93747332, 0.9581952 , 0.97287772,\n",
       "       0.98096417, 0.98478076, 0.98757445, 0.98964692, 0.99134248,\n",
       "       0.99253358, 0.99358476, 0.9944546 , 0.99514468, 0.99574083,\n",
       "       0.99628266, 0.99676257, 0.9971964 , 0.99758079, 0.99789538,\n",
       "       0.99817653, 0.99843344, 0.99864252, 0.99883208, 0.99900496,\n",
       "       0.99917493, 0.99932443, 0.99946171, 0.99956608, 0.99966157,\n",
       "       0.99974827, 0.99982238, 0.99988135, 0.99992973, 0.99996841,\n",
       "       1.        ])"
      ]
     },
     "execution_count": 31,
     "metadata": {},
     "output_type": "execute_result"
    }
   ],
   "source": [
    "pca.explained_variance_ratio_.cumsum()"
   ]
  },
  {
   "cell_type": "code",
   "execution_count": 20,
   "id": "286e1778-e20b-4cd9-941f-2c52b364a04f",
   "metadata": {},
   "outputs": [
    {
     "data": {
      "text/plain": [
       "array([ 5.74984275, -6.52460861,  2.87195051, -4.48794023, -5.62234145,\n",
       "        0.21448282, -1.0725975 ,  2.77623993,  0.16773733, -1.6422799 ,\n",
       "        1.91172164, -1.72336713, -1.23622   , -1.9714471 ,  0.39130275,\n",
       "       -0.27954606,  1.92554956, -1.20480692, -0.78346927, -0.16392637,\n",
       "       -0.35895868, -0.41306935, -0.21610039, -0.6988074 , -0.21542499,\n",
       "       -0.14173097,  0.12992089, -0.75106222,  0.41689489,  0.29709179,\n",
       "        0.2539536 , -0.46355359,  0.12448206, -0.11910952,  0.09880805,\n",
       "        0.02668028])"
      ]
     },
     "execution_count": 20,
     "metadata": {},
     "output_type": "execute_result"
    }
   ],
   "source": [
    "pca.transform(timeseries_df)[0]"
   ]
  },
  {
   "cell_type": "code",
   "execution_count": 33,
   "id": "ed3b1752-28c3-459d-bba2-f08e1d1cc94a",
   "metadata": {},
   "outputs": [
    {
     "data": {
      "image/png": "[encoded data removed]",
      "text/plain": [
       "<Figure size 432x288 with 1 Axes>"
      ]
     },
     "metadata": {
      "needs_background": "light"
     },
     "output_type": "display_data"
    }
   ],
   "source": [
    "plt.plot(pca.components_[1,...])\n",
    "plt.show()"
   ]
  },
  {
   "cell_type": "code",
   "execution_count": 32,
   "id": "232c59ca-7283-4605-832a-d705ac990246",
   "metadata": {},
   "outputs": [
    {
     "data": {
      "text/plain": [
       "array([ 5.74984275, -6.52460861,  2.87195051, -4.48794023, -5.62234145,\n",
       "        0.21448282, -1.0725975 ,  2.77623993,  0.16773733, -1.6422799 ,\n",
       "        1.91172164, -1.72336713, -1.23622   , -1.9714471 ,  0.39130275,\n",
       "       -0.27954606,  1.92554956, -1.20480692, -0.78346927, -0.16392637,\n",
       "       -0.35895868, -0.41306935, -0.21610039, -0.6988074 , -0.21542499,\n",
       "       -0.14173097,  0.12992089, -0.75106222,  0.41689489,  0.29709179,\n",
       "        0.2539536 , -0.46355359,  0.12448206, -0.11910952,  0.09880805,\n",
       "        0.02668028])"
      ]
     },
     "execution_count": 32,
     "metadata": {},
     "output_type": "execute_result"
    }
   ],
   "source": [
    "pca.transform(timeseries_df)[0,...]"
   ]
  },
  {
   "cell_type": "code",
   "execution_count": null,
   "id": "d5c19164-5b7a-44db-b0db-0199f8474165",
   "metadata": {},
   "outputs": [],
   "source": []
  }
 ],
 "metadata": {
  "kernelspec": {
   "display_name": "master",
   "language": "python",
   "name": "python3"
  },
  "language_info": {
   "codemirror_mode": {
    "name": "ipython",
    "version": 3
   },
   "file_extension": ".py",
   "mimetype": "text/x-python",
   "name": "python",
   "nbconvert_exporter": "python",
   "pygments_lexer": "ipython3",
   "version": "3.11.9"
  }
 },
 "nbformat": 4,
 "nbformat_minor": 5
}

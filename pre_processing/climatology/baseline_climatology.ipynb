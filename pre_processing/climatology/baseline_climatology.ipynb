{
 "cells": [
  {
   "cell_type": "code",
   "execution_count": 1,
   "metadata": {},
   "outputs": [],
   "source": [
    "import pandas as pd\n",
    "import numpy as np\n",
    "import matplotlib.pyplot as plt\n",
    "import os\n",
    "import sys\n",
    "\n",
    "operating_system = 'mac'\n",
    "\n",
    "if operating_system == 'win':\n",
    "    os.chdir('C:/Users/fabau/OneDrive/Documents/GitHub/master-project-cleaned/')\n",
    "elif operating_system == 'curnagl':\n",
    "    os.chdir('/work/FAC/FGSE/IDYST/tbeucler/default/fabien/repos/cleaner_version/')\n",
    "else:\n",
    "    os.chdir('/Users/fabienaugsburger/Documents/GitHub/master-project-cleaned/')"
   ]
  },
  {
   "cell_type": "code",
   "execution_count": 6,
   "metadata": {},
   "outputs": [],
   "source": [
    "# open the u_gust and z_gust files\n",
    "u_gust = pd.read_csv('data/climatology_dm_winter_per_cluster/EVENT_max/max_event_dm_combined.csv')\n",
    "z_gust = pd.read_csv('data/climatology_dm_winter_per_cluster/GEV_CDF_max/log_cdf_max_dm_combined.csv')\n",
    "\n",
    "# calculate the mean of each column\n",
    "u_gust_mean = u_gust.drop(columns=['storm_number', 'storm_name']).mean()\n",
    "z_gust_mean = z_gust.drop(columns=['storm_number', 'storm_name']).mean()\n",
    "\n",
    "# save the mean values in a csv file\n",
    "u_gust_mean.to_csv('data/climatology_dm_winter_per_cluster/EVENT_max/mean_max_event_dm_combined.csv')\n",
    "z_gust_mean.to_csv('data/climatology_dm_winter_per_cluster/GEV_CDF_max/mean_log_cdf_max_dm_combined.csv')"
   ]
  }
 ],
 "metadata": {
  "kernelspec": {
   "display_name": "master",
   "language": "python",
   "name": "python3"
  },
  "language_info": {
   "codemirror_mode": {
    "name": "ipython",
    "version": 3
   },
   "file_extension": ".py",
   "mimetype": "text/x-python",
   "name": "python",
   "nbconvert_exporter": "python",
   "pygments_lexer": "ipython3",
   "version": "3.11.9"
  }
 },
 "nbformat": 4,
 "nbformat_minor": 2
}

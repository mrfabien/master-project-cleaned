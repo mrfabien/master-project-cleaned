{
 "cells": [
  {
   "cell_type": "code",
   "execution_count": 1,
   "metadata": {},
   "outputs": [],
   "source": [
    "import os\n",
    "import sys\n",
    "import pandas as pd\n",
    "\n",
    "operating_system = 'mac'\n",
    "\n",
    "if operating_system == 'win':\n",
    "    os.chdir('C:/Users/fabau/OneDrive/Documents/GitHub/master-project-cleaned/')\n",
    "elif operating_system == 'curnagl':\n",
    "    os.chdir('/work/FAC/FGSE/IDYST/tbeucler/default/fabien/repos/cleaner_version/')\n",
    "else:\n",
    "    os.chdir('/Users/fabienaugsburger/Documents/GitHub/master-project-cleaned/')\n",
    "\n",
    "# Add the path to the custom library\n",
    "custom_library_path = os.path.abspath('util/processing/')\n",
    "sys.path.append(custom_library_path)\n",
    "\n",
    "import storm_dates_tools"
   ]
  },
  {
   "cell_type": "code",
   "execution_count": 2,
   "metadata": {},
   "outputs": [
    {
     "name": "stdout",
     "output_type": "stream",
     "text": [
      "The number of steps is correct\n",
      "Storm 59 is empty\n",
      "Storm 91 is empty\n"
     ]
    }
   ],
   "source": [
    "original_storm_dates = pd.read_csv('pre_processing/tracks/C3S_StormTracks_era5_19792021_0100_v3.csv',\n",
    "                                   delimiter=';')\n",
    "degree = 4\n",
    "path_tracks = 'pre_processing/tracks/ALL_TRACKS/'\n",
    "factor = 3\n",
    "\n",
    "'''\n",
    "OLD WAY\n",
    "storm_dates = storm_dates.process_dates(original_storm_dates, degree, path_tracks, factor)\n",
    "\n",
    "# arange the dataframe by start date, in increasing order (from oldest to newest)\n",
    "\n",
    "#storm_dates = storm_dates.sort_values(by='start_date')\n",
    "\n",
    "# save the storm_dates\n",
    "\n",
    "storm_dates.to_csv('pre_processing/tracks/storm_date.csv', index=False)\n",
    "\n",
    "# the eu tracks are made through a modelbuilder in QGIS, which I cannot replicate in python\n",
    "\n",
    "folder = 'tracks_1h_EU'\n",
    "number_of_storms = 96\n",
    "\n",
    "storm_dates_final, first_step_in_eu, landfall_eu = storm_dates_creation.extract_first_step(storm_dates, path_tracks, folder, number_of_storms)\n",
    "\n",
    "# save the final storm_dates\n",
    "\n",
    "storm_dates_final.to_csv('pre_processing/tracks/storm_dates.csv', index=False)\n",
    "'''\n",
    "\n",
    "# NEW WAY\n",
    "\n",
    "storm_dates, *_ = storm_dates_tools.process_dates_complete(original_storm_dates, degree, path_tracks, factor)\n",
    "\n",
    "# arange the dataframe by start date, in increasing order (from oldest to newest)\n",
    "\n",
    "storm_dates = storm_dates.sort_values(by='start_date')\n",
    "\n",
    "storm_dates.to_csv('pre_processing/tracks/storm_dates.csv', index=False)"
   ]
  }
 ],
 "metadata": {
  "kernelspec": {
   "display_name": "master",
   "language": "python",
   "name": "python3"
  },
  "language_info": {
   "codemirror_mode": {
    "name": "ipython",
    "version": 3
   },
   "file_extension": ".py",
   "mimetype": "text/x-python",
   "name": "python",
   "nbconvert_exporter": "python",
   "pygments_lexer": "ipython3",
   "version": "3.11.9"
  }
 },
 "nbformat": 4,
 "nbformat_minor": 2
}

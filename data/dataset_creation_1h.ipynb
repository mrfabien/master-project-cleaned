{
 "cells": [
  {
   "cell_type": "markdown",
   "metadata": {},
   "source": [
    "Notebook to extract the dataset"
   ]
  },
  {
   "cell_type": "code",
   "execution_count": 1,
   "metadata": {},
   "outputs": [],
   "source": [
    "import os\n",
    "import sys\n",
    "import pandas as pd\n",
    "\n",
    "operating_system = 'win'\n",
    "\n",
    "if operating_system == 'win':\n",
    "    os.chdir('C:/Users/fabau/OneDrive/Documents/GitHub/master-project-cleaned/')\n",
    "    path = 'C:/Users/fabau/OneDrive/Documents/GitHub/master-project-cleaned/'\n",
    "elif operating_system == 'curnagl':\n",
    "    os.chdir('/work/FAC/FGSE/IDYST/tbeucler/default/fabien/repos/cleaner_version/')\n",
    "else:\n",
    "    os.chdir('/Users/fabienaugsburger/Documents/GitHub/master-project-cleaned/')\n",
    "    path = '/Users/fabienaugsburger/Documents/GitHub/master-project-cleaned/'\n",
    "\n",
    "# Add the path to the custom library\n",
    "custom_library_path = os.path.abspath('util/processing/')\n",
    "sys.path.append(custom_library_path)\n",
    "\n",
    "from extraction_squares import filtering_storms\n",
    "import extraction_squares\n",
    "\n",
    "levels = pd.read_csv(f'{path}data/levels.csv')\n",
    "variables = pd.read_csv(f'{path}data/variable_list_SL.csv')\n",
    "\n",
    "continuous_storm = False\n",
    "all_details = False"
   ]
  },
  {
   "cell_type": "code",
   "execution_count": 3,
   "metadata": {},
   "outputs": [],
   "source": [
    "# Creation of the configuration file\n",
    "\n",
    "variables = f'{path}data/variable_list_SL.csv'\n",
    "config_file = f'{path}data/config_35_var.txt'\n",
    "start_year = 1990\n",
    "end_year = 2021\n",
    "variable_to_exclude = ['specific_rain_water_content', 'relative_humidity', 'vertical_velocity']\n",
    "years_to_exclude = [2003, 2012, 2018]\n",
    "full_pressure = levels['levels'].values\n",
    "\n",
    "extraction_squares.generate_config(variables, config_file, start_year, end_year, variable_to_exclude, years_to_exclude, full_pressure)"
   ]
  },
  {
   "cell_type": "code",
   "execution_count": 5,
   "metadata": {},
   "outputs": [
    {
     "name": "stdout",
     "output_type": "stream",
     "text": [
      "Taking data from C:/Users/fabau/OneDrive/Documents/GitHub/master-project-cleaned/data/datasets_1h\n",
      "With condition based on C:/Users/fabau/OneDrive/Documents/GitHub/master-project-cleaned/pre_processing/tracks/ALL_TRACKS/tracks_1h_EU\n",
      "Finished filtering 10m_u_component_of_wind\n",
      "Finished filtering 10m_v_component_of_wind\n",
      "Finished filtering 2m_dewpoint_temperature\n",
      "Finished filtering 2m_temperature\n",
      "Finished filtering convective_available_potential_energy\n",
      "Finished filtering convective_precipitation\n",
      "Finished filtering convective_rain_rate\n",
      "Finished filtering convective_snowfall\n",
      "Finished filtering geopotential\n",
      "Finished filtering high_cloud_cover\n",
      "Finished filtering instantaneous_10m_wind_gust\n",
      "Finished filtering k_index\n",
      "Finished filtering large_scale_precipitation\n",
      "Finished filtering large_scale_snowfall\n",
      "Finished filtering mean_large_scale_precipitation_rate\n",
      "Finished filtering mean_top_net_long_wave_radiation_flux\n",
      "Finished filtering mean_top_net_short_wave_radiation_flux\n",
      "Finished filtering mean_total_precipitation_rate\n",
      "Finished filtering mean_sea_level_pressure\n",
      "Finished filtering mean_surface_latent_heat_flux\n",
      "Finished filtering mean_surface_sensible_heat_flux\n",
      "Finished filtering mean_surface_net_long_wave_radiation_flux\n",
      "Finished filtering mean_surface_net_short_wave_radiation_flux\n",
      "Finished filtering mean_vertically_integrated_moisture_divergence\n",
      "Finished filtering relative_humidity\n",
      "Finished filtering sea_surface_temperature\n",
      "Finished filtering surface_pressure\n",
      "Finished filtering surface_latent_heat_flux\n",
      "Finished filtering surface_sensible_heat_flux\n",
      "Finished filtering specific_rain_water_content\n",
      "Finished filtering total_precipitation\n",
      "Finished filtering total_totals_index\n",
      "Finished filtering vertical_velocity\n"
     ]
    }
   ],
   "source": [
    "# creation of the EU dataset with timestep 1 hour\n",
    "\n",
    "filtering_storms(f'{path}data/variable_list_SL.csv', '1h',path,'data/', levels, filter_type='EU', continuous_EU=False, continuous_non_EU=False, all_details=False)"
   ]
  },
  {
   "cell_type": "code",
   "execution_count": 4,
   "metadata": {},
   "outputs": [
    {
     "name": "stdout",
     "output_type": "stream",
     "text": [
      "Taking data from C:/Users/fabau/OneDrive/Documents/GitHub/master-project-cleaned/data/datasets_1h\n",
      "With condition based on C:/Users/fabau/OneDrive/Documents/GitHub/master-project-cleaned/pre_processing/tracks/ALL_TRACKS/tracks_1h_non_EU\n",
      "Finished filtering 10m_u_component_of_wind\n",
      "Finished filtering 10m_v_component_of_wind\n",
      "Finished filtering 2m_dewpoint_temperature\n",
      "Finished filtering 2m_temperature\n",
      "Finished filtering convective_available_potential_energy\n",
      "Finished filtering convective_precipitation\n",
      "Finished filtering convective_rain_rate\n",
      "Finished filtering convective_snowfall\n",
      "Finished filtering geopotential\n",
      "Finished filtering high_cloud_cover\n",
      "Finished filtering instantaneous_10m_wind_gust\n",
      "Finished filtering k_index\n",
      "Finished filtering large_scale_precipitation\n",
      "Finished filtering large_scale_snowfall\n",
      "Finished filtering mean_large_scale_precipitation_rate\n",
      "Finished filtering mean_top_net_long_wave_radiation_flux\n",
      "Finished filtering mean_top_net_short_wave_radiation_flux\n",
      "Finished filtering mean_total_precipitation_rate\n",
      "Finished filtering mean_sea_level_pressure\n",
      "Finished filtering mean_surface_latent_heat_flux\n",
      "Finished filtering mean_surface_sensible_heat_flux\n",
      "Finished filtering mean_surface_net_long_wave_radiation_flux\n",
      "Finished filtering mean_surface_net_short_wave_radiation_flux\n",
      "Finished filtering mean_vertically_integrated_moisture_divergence\n",
      "Finished filtering relative_humidity\n",
      "Finished filtering sea_surface_temperature\n",
      "Finished filtering surface_pressure\n",
      "Finished filtering surface_latent_heat_flux\n",
      "Finished filtering surface_sensible_heat_flux\n",
      "Finished filtering specific_rain_water_content\n",
      "Finished filtering total_precipitation\n",
      "Finished filtering total_totals_index\n",
      "Finished filtering vertical_velocity\n"
     ]
    }
   ],
   "source": [
    "# creation of the non EU dataset with timestep 1 hour\n",
    "\n",
    "extraction_squares.filtering_storms(f'{path}data/variable_list_SL.csv', '1h',path,'data/', levels, filter_type='non_EU', continuous_EU=False, continuous_non_EU=True, all_details=False)"
   ]
  }
 ],
 "metadata": {
  "kernelspec": {
   "display_name": "tensor",
   "language": "python",
   "name": "python3"
  },
  "language_info": {
   "codemirror_mode": {
    "name": "ipython",
    "version": 3
   },
   "file_extension": ".py",
   "mimetype": "text/x-python",
   "name": "python",
   "nbconvert_exporter": "python",
   "pygments_lexer": "ipython3",
   "version": "3.10.13"
  }
 },
 "nbformat": 4,
 "nbformat_minor": 2
}

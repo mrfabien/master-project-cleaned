{
 "cells": [
  {
   "cell_type": "markdown",
   "metadata": {},
   "source": [
    "Notebook to extract the dataset"
   ]
  },
  {
   "cell_type": "code",
   "execution_count": 5,
   "metadata": {},
   "outputs": [],
   "source": [
    "import os\n",
    "import sys\n",
    "import pandas as pd\n",
    "import numpy as np\n",
    "\n",
    "operating_system ='mac'\n",
    "if operating_system == 'win':\n",
    "    path = f'C:/Users/fabau/OneDrive/Documents/GitHub/master-project/'\n",
    "else:\n",
    "    path = f'/Users/fabienaugsburger/Documents/GitHub/master-project-cleaned/'\n",
    "\n",
    "# Add the path to your custom library\n",
    "custom_library_path = os.path.abspath(f'{path}/util/processing/')\n",
    "sys.path.append(custom_library_path)\n",
    "\n",
    "import extraction_squares\n",
    "\n",
    "levels = pd.read_csv(f'{path}data/levels.csv')"
   ]
  },
  {
   "cell_type": "code",
   "execution_count": null,
   "metadata": {},
   "outputs": [],
   "source": [
    "# creation of the EU dataset with timestep 1 hour\n",
    "\n",
    "extraction_squares.filtering_EU_storms(f'{path}data/variable_list_SL.csv', '1h',path,'data/', levels)"
   ]
  },
  {
   "cell_type": "code",
   "execution_count": null,
   "metadata": {},
   "outputs": [],
   "source": [
    "# creation of the non EU dataset with timestep 1 hour\n",
    "\n",
    "extraction_squares.filtering_non_EU_storms(f'{path}data/variable_list_SL.csv', '1h',path,'data/', levels)"
   ]
  }
 ],
 "metadata": {
  "kernelspec": {
   "display_name": "master",
   "language": "python",
   "name": "python3"
  },
  "language_info": {
   "codemirror_mode": {
    "name": "ipython",
    "version": 3
   },
   "file_extension": ".py",
   "mimetype": "text/x-python",
   "name": "python",
   "nbconvert_exporter": "python",
   "pygments_lexer": "ipython3",
   "version": "3.10.15"
  }
 },
 "nbformat": 4,
 "nbformat_minor": 2
}

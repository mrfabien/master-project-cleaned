{
 "cells": [
  {
   "cell_type": "code",
   "execution_count": 1,
   "metadata": {},
   "outputs": [
    {
     "name": "stderr",
     "output_type": "stream",
     "text": [
      "/Users/fabienaugsburger/anaconda3/envs/master/lib/python3.11/site-packages/tqdm/auto.py:21: TqdmWarning: IProgress not found. Please update jupyter and ipywidgets. See https://ipywidgets.readthedocs.io/en/stable/user_install.html\n",
      "  from .autonotebook import tqdm as notebook_tqdm\n"
     ]
    }
   ],
   "source": [
    "import numpy as np\n",
    "from sklearn.ensemble import RandomForestRegressor, GradientBoostingRegressor\n",
    "from xgboost import XGBRegressor\n",
    "import pandas as pd\n",
    "import matplotlib.pyplot as plt\n",
    "import optuna\n",
    "import os\n",
    "import sys\n",
    "\n",
    "operating_system = 'mac'\n",
    "\n",
    "if operating_system == 'win':\n",
    "    os.chdir('C:/Users/fabau/OneDrive/Documents/GitHub/master-project-cleaned/')\n",
    "elif operating_system == 'curnagl':\n",
    "    os.chdir('/work/FAC/FGSE/IDYST/tbeucler/default/fabien/repos/cleaner_version/')\n",
    "else:\n",
    "    os.chdir('/Users/fabienaugsburger/Documents/GitHub/master-project-cleaned/')\n",
    "\n",
    "util_perso = os.path.abspath('util/processing')\n",
    "sys.path.append(util_perso)\n",
    "util_perso = os.path.abspath('util/gev')\n",
    "sys.path.append(util_perso)\n",
    "\n",
    "from extraction_squares import split_storm_numbers\n",
    "from data_processing import depickle"
   ]
  },
  {
   "cell_type": "code",
   "execution_count": 2,
   "metadata": {},
   "outputs": [],
   "source": [
    "def r2_score(y_true, y_pred):\n",
    "    #y_mean_train = np.mean(y_true)\n",
    "    #ss_res_train = np.sum(y_true - y_pred) ** 2\n",
    "    #ss_tot_train = np.sum(y_true - y_mean_train) ** 2\n",
    "    #r2_train = 1 - (ss_res_train / ss_tot_train)\n",
    "\n",
    "    return 1 - np.sum((y_true-y_pred)**2)/np.sum((y_true-np.mean(y_true))**2)"
   ]
  },
  {
   "cell_type": "code",
   "execution_count": 9,
   "metadata": {},
   "outputs": [
    {
     "name": "stderr",
     "output_type": "stream",
     "text": [
      "/var/folders/01/5ryz4pnn581dj9gk6r1nn5qr0000gn/T/ipykernel_5385/1121071218.py:69: FutureWarning: The behavior of DataFrame concatenation with empty or all-NA entries is deprecated. In a future version, this will no longer exclude empty or all-NA columns when determining the result dtypes. To retain the old behavior, exclude the relevant entries before the concat operation.\n",
      "  r2_scores = pd.concat([r2_scores, pd.DataFrame([r2_temp])], axis=0, ignore_index=True)\n"
     ]
    }
   ],
   "source": [
    "models = ['random_forest', 'xgboost']\n",
    "seeds = [42, 1996, 45319, 43709, 19961106, 28012025, 15012025, 2019, 111194, 19052024]\n",
    "nvars = [20, 30, 40]\n",
    "output = ['cdf', 'max']\n",
    "\n",
    "r2_scores = pd.DataFrame(columns=['seed', 'nvar', 'model', \n",
    "                                  'r2_train_cdf', 'r2_validation_cdf', 'r2_test_cdf',\n",
    "                                  'r2_train_max', 'r2_validation_max', 'r2_test_max',\n",
    "                                  'rmse_train_cdf', 'rmse_validation_cdf', 'rmse_test_cdf',\n",
    "                                  'rmse_train_max', 'rmse_validation_max', 'rmse_test_max'])\n",
    "\n",
    "for seed in seeds:\n",
    "    for nvar in nvars:\n",
    "        for model in models:\n",
    "            # Initialize a dictionary for a single row\n",
    "            r2_temp = {'seed': seed, 'nvar': nvar, 'model': model}\n",
    "\n",
    "            for out in output:\n",
    "                # Load the model\n",
    "                ml = depickle(f'ml_scripts/new_feature_selection/seed_{seed}/model_{model}/model_{out}_{nvar}.pkl')\n",
    "\n",
    "                # Load the data\n",
    "                X_train = pd.read_csv(f'ml_scripts/new_feature_selection/seed_{seed}/X_train_{nvar}.csv').to_numpy()\n",
    "                y_train = pd.read_csv(f'ml_scripts/new_feature_selection/seed_{seed}/y_train_{out}.csv')\n",
    "                X_validation = pd.read_csv(f'ml_scripts/new_feature_selection/seed_{seed}/X_validation_{nvar}.csv').to_numpy()\n",
    "                y_validation = pd.read_csv(f'ml_scripts/new_feature_selection/seed_{seed}/y_validation_{out}.csv')\n",
    "                X_test = pd.read_csv(f'ml_scripts/new_feature_selection/seed_{seed}/X_test_{nvar}.csv').to_numpy()\n",
    "                y_test = pd.read_csv(f'ml_scripts/new_feature_selection/seed_{seed}/y_test_{out}.csv')\n",
    "\n",
    "                # Make predictions and flatten\n",
    "                y_train_pred = ml.predict(X_train).flatten()\n",
    "                y_train = y_train.to_numpy().flatten()\n",
    "                y_validation_pred = ml.predict(X_validation).flatten()\n",
    "                y_validation = y_validation.to_numpy().flatten()\n",
    "                y_test_pred = ml.predict(X_test).flatten()\n",
    "                y_test = y_test.to_numpy().flatten()\n",
    "\n",
    "                # Compute R² scores\n",
    "                r2_train = r2_score(y_train, y_train_pred)\n",
    "                r2_validation = r2_score(y_validation, y_validation_pred)\n",
    "                r2_test = r2_score(y_test, y_test_pred)\n",
    "\n",
    "                # Compute RMSE scores\n",
    "                rmse_train = np.sqrt(np.mean((y_train - y_train_pred) ** 2))\n",
    "                rmse_validation = np.sqrt(np.mean((y_validation - y_validation_pred) ** 2))\n",
    "                rmse_test = np.sqrt(np.mean((y_test - y_test_pred) ** 2))\n",
    "\n",
    "                # Update the dictionary with the R² values based on `out`\n",
    "                if out == 'cdf':\n",
    "                    r2_temp.update({\n",
    "                        'r2_train_cdf': r2_train,\n",
    "                        'r2_validation_cdf': r2_validation,\n",
    "                        'r2_test_cdf': r2_test,\n",
    "                        'rmse_train_cdf': rmse_train,\n",
    "                        'rmse_validation_cdf': rmse_validation,\n",
    "                        'rmse_test_cdf': rmse_test\n",
    "                    })\n",
    "                elif out == 'max':\n",
    "                    r2_temp.update({\n",
    "                        'r2_train_max': r2_train,\n",
    "                        'r2_validation_max': r2_validation,\n",
    "                        'r2_test_max': r2_test,\n",
    "                        'rmse_train_max': rmse_train,\n",
    "                        'rmse_validation_max': rmse_validation,\n",
    "                        'rmse_test_max': rmse_test\n",
    "                    })\n",
    "\n",
    "            # Append the row to the DataFrame\n",
    "            r2_scores = pd.concat([r2_scores, pd.DataFrame([r2_temp])], axis=0, ignore_index=True)\n",
    "\n",
    "r2_scores.to_csv('ml_scripts/new_feature_selection/r2_scores.csv', index=False)"
   ]
  }
 ],
 "metadata": {
  "kernelspec": {
   "display_name": "master",
   "language": "python",
   "name": "python3"
  },
  "language_info": {
   "codemirror_mode": {
    "name": "ipython",
    "version": 3
   },
   "file_extension": ".py",
   "mimetype": "text/x-python",
   "name": "python",
   "nbconvert_exporter": "python",
   "pygments_lexer": "ipython3",
   "version": "3.11.9"
  }
 },
 "nbformat": 4,
 "nbformat_minor": 2
}
